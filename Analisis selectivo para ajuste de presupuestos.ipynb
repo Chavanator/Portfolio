{
 "cells": [
  {
   "cell_type": "markdown",
   "metadata": {},
   "source": [
    "# Analisis Megaline"
   ]
  },
  {
   "cell_type": "markdown",
   "metadata": {},
   "source": [
    "- [¿Cuál es un mejor plan?](#cuál-es-un-mejor-plan)\n",
    "- [Introducción](#introducción)\n",
    "- [Inicialización](#inicialización)\n",
    "- [Cargar los datos](#cargar-los-datos)\n",
    "- [Preparar los datos](#preparar-los-datos)\n",
    "- [Planes](#planes)\n",
    "- [Usuarios](#usuarios)\n",
    "  - [Corregir datos](#corregir-datos)\n",
    "- [Llamadas](#llamadas)\n",
    "  - [Corregir datos](#corregir-datos)\n",
    "  - [Enriquecer datos](#enriquecer-datos)\n",
    "- [Mensajes](#mensajes)\n",
    "  - [Corregir datos](#corregir-datos)\n",
    "- [Internet](#internet)\n",
    "  - [Corregir datos](#corregir-datos)\n",
    "- [Estudiar las condiciones del plan](#estudiar-las-condiciones-del-plan)\n",
    "- [Agregar datos por usuario](#agregar-datos-por-usuario)\n",
    "- [Estudia el comportamiento del usuario](#estudia-el-comportamiento-del-usuario)\n",
    "  - [Llamadas](#llamadas)\n",
    "  - [Mensajes](#mensajes)\n",
    "  - [Internet](#internet)\n",
    "- [Ingreso](#ingreso)\n",
    "- [Probar las hipótesis estadísticas](#probar-las-hipótesis-estadísticas)\n",
    "- [Conclusión general](#conclusión-general)\n"
   ]
  },
  {
   "cell_type": "markdown",
   "metadata": {},
   "source": [
    "# ¿Cuál es un mejor plan?\n",
    "\n",
    "Trabajas como analista para el operador de telecomunicaciones Megaline. La empresa ofrece a sus clientes dos tarifas de prepago, Surf y Ultimate. El departamento comercial quiere saber cuál de los planes genera más ingresos para poder ajustar el presupuesto de publicidad.\n",
    "\n",
    "Vas a realizar un análisis preliminar de las tarifas basado en una selección de clientes relativamente pequeña. Tendrás los datos de 500 clientes de Megaline: quiénes son los clientes, de dónde son, qué tarifa usan, así como la cantidad de llamadas que hicieron y los mensajes de texto que enviaron en 2018. Tu trabajo es analizar el comportamiento de los clientes y determinar qué tarifa de prepago genera más ingresos."
   ]
  },
  {
   "cell_type": "markdown",
   "metadata": {},
   "source": [
    "## Introducción"
   ]
  },
  {
   "cell_type": "markdown",
   "metadata": {},
   "source": [
    "La elaboracion del siguiente proyecto tiene como fin determinar cual de los planes que se ofrecen al cliente \"Surf\" y \"Ultimate\" puede generar mas ingresos y con ello ajustar lo presupuestos de la publicidad\n",
    "\n",
    "Se realizará un analisis de las tarifas con una muestra de 500 clientes y los datos recaudados durante 2018 corrigiendo errores y requisitos de la empresa Megaline"
   ]
  },
  {
   "cell_type": "markdown",
   "metadata": {},
   "source": [
    "## Inicialización"
   ]
  },
  {
   "cell_type": "code",
   "execution_count": 1,
   "metadata": {},
   "outputs": [],
   "source": [
    "# Cargar todas las librerías\n",
    "import pandas as pd\n",
    "\n",
    "import numpy as np\n",
    "\n",
    "import math\n",
    "\n",
    "import matplotlib.pyplot as plt\n",
    "\n",
    "from scipy.stats import ttest_ind"
   ]
  },
  {
   "cell_type": "markdown",
   "metadata": {},
   "source": [
    "## Cargar los datos"
   ]
  },
  {
   "cell_type": "code",
   "execution_count": 2,
   "metadata": {},
   "outputs": [],
   "source": [
    "# Carga los archivos de datos en diferentes DataFrames\n",
    "\n",
    "df_calls = pd.read_csv('/datasets/megaline_calls.csv')\n",
    "df_internet = pd.read_csv('/datasets/megaline_internet.csv')\n",
    "df_messages = pd.read_csv('/datasets/megaline_messages.csv')\n",
    "df_plans = pd.read_csv('/datasets/megaline_plans.csv')\n",
    "df_users = pd.read_csv('/datasets/megaline_users.csv')"
   ]
  },
  {
   "cell_type": "markdown",
   "metadata": {},
   "source": [
    "## Planes"
   ]
  },
  {
   "cell_type": "markdown",
   "metadata": {},
   "source": [
    "Exploracion de las tablas para comprender los datos"
   ]
  },
  {
   "cell_type": "code",
   "execution_count": 3,
   "metadata": {},
   "outputs": [
    {
     "name": "stdout",
     "output_type": "stream",
     "text": [
      "<class 'pandas.core.frame.DataFrame'>\n",
      "RangeIndex: 2 entries, 0 to 1\n",
      "Data columns (total 8 columns):\n",
      " #   Column                 Non-Null Count  Dtype  \n",
      "---  ------                 --------------  -----  \n",
      " 0   messages_included      2 non-null      int64  \n",
      " 1   mb_per_month_included  2 non-null      int64  \n",
      " 2   minutes_included       2 non-null      int64  \n",
      " 3   usd_monthly_pay        2 non-null      int64  \n",
      " 4   usd_per_gb             2 non-null      int64  \n",
      " 5   usd_per_message        2 non-null      float64\n",
      " 6   usd_per_minute         2 non-null      float64\n",
      " 7   plan_name              2 non-null      object \n",
      "dtypes: float64(2), int64(5), object(1)\n",
      "memory usage: 256.0+ bytes\n",
      "None\n"
     ]
    }
   ],
   "source": [
    "# Imprime la información general/resumen sobre el DataFrame de los planes\n",
    "print(df_plans.info())"
   ]
  },
  {
   "cell_type": "code",
   "execution_count": 4,
   "metadata": {},
   "outputs": [
    {
     "name": "stdout",
     "output_type": "stream",
     "text": [
      "   messages_included  mb_per_month_included  minutes_included  \\\n",
      "0                 50                  15360               500   \n",
      "1               1000                  30720              3000   \n",
      "\n",
      "   usd_monthly_pay  usd_per_gb  usd_per_message  usd_per_minute plan_name  \n",
      "0               20          10             0.03            0.03      surf  \n",
      "1               70           7             0.01            0.01  ultimate  \n"
     ]
    }
   ],
   "source": [
    "# Imprime una muestra de los datos para los planes\n",
    "print(df_plans)"
   ]
  },
  {
   "cell_type": "code",
   "execution_count": 5,
   "metadata": {},
   "outputs": [
    {
     "name": "stdout",
     "output_type": "stream",
     "text": [
      "messages_included        0\n",
      "mb_per_month_included    0\n",
      "minutes_included         0\n",
      "usd_monthly_pay          0\n",
      "usd_per_gb               0\n",
      "usd_per_message          0\n",
      "usd_per_minute           0\n",
      "plan_name                0\n",
      "dtype: int64\n"
     ]
    }
   ],
   "source": [
    "#ademas voy a buscar vallores aussertes\n",
    "print(df_plans.isna().sum())"
   ]
  },
  {
   "cell_type": "markdown",
   "metadata": {},
   "source": [
    "Anteriormente pudimos ver los datos que incluyen las tablas y se puede apreciar que\n",
    "Las gigas incluidas por plan no coinciden con la descripcion inical, habra que corregirlo\n",
    "Todo lo demas parece estar en orden\n",
    "No hay datos ausentes"
   ]
  },
  {
   "cell_type": "code",
   "execution_count": 6,
   "metadata": {},
   "outputs": [
    {
     "name": "stdout",
     "output_type": "stream",
     "text": [
      "   messages_included  mb_per_month_included  minutes_included  \\\n",
      "0                 50                  15360               500   \n",
      "1               1000                  30720              3000   \n",
      "\n",
      "   usd_monthly_pay  usd_per_gb  usd_per_message  usd_per_minute plan_name  \\\n",
      "0               20          10             0.03            0.03      surf   \n",
      "1               70           7             0.01            0.01  ultimate   \n",
      "\n",
      "   gigas_per_month_included  \n",
      "0                      15.0  \n",
      "1                      30.0  \n"
     ]
    }
   ],
   "source": [
    "# GB para planes\n",
    "df_plans['gigas_per_month_included'] = df_plans['mb_per_month_included'] / 1024\n",
    "\n",
    "print(df_plans.head())"
   ]
  },
  {
   "cell_type": "markdown",
   "metadata": {},
   "source": [
    "Cree una nueva columna de gb para posteriormente tener un mejor manejo y evitar contratiempos o confusiones"
   ]
  },
  {
   "cell_type": "markdown",
   "metadata": {},
   "source": [
    "## Usuarios"
   ]
  },
  {
   "cell_type": "code",
   "execution_count": 7,
   "metadata": {},
   "outputs": [
    {
     "name": "stdout",
     "output_type": "stream",
     "text": [
      "<class 'pandas.core.frame.DataFrame'>\n",
      "RangeIndex: 500 entries, 0 to 499\n",
      "Data columns (total 8 columns):\n",
      " #   Column      Non-Null Count  Dtype \n",
      "---  ------      --------------  ----- \n",
      " 0   user_id     500 non-null    int64 \n",
      " 1   first_name  500 non-null    object\n",
      " 2   last_name   500 non-null    object\n",
      " 3   age         500 non-null    int64 \n",
      " 4   city        500 non-null    object\n",
      " 5   reg_date    500 non-null    object\n",
      " 6   plan        500 non-null    object\n",
      " 7   churn_date  34 non-null     object\n",
      "dtypes: int64(2), object(6)\n",
      "memory usage: 31.4+ KB\n",
      "None\n"
     ]
    }
   ],
   "source": [
    "# Imprime la información general/resumen sobre el DataFrame de los usuarios\n",
    "print(df_users.info())"
   ]
  },
  {
   "cell_type": "code",
   "execution_count": 8,
   "metadata": {},
   "outputs": [
    {
     "name": "stdout",
     "output_type": "stream",
     "text": [
      "   user_id first_name  last_name  age                                   city  \\\n",
      "0     1000   Anamaria      Bauer   45  Atlanta-Sandy Springs-Roswell, GA MSA   \n",
      "1     1001     Mickey  Wilkerson   28        Seattle-Tacoma-Bellevue, WA MSA   \n",
      "2     1002     Carlee    Hoffman   36   Las Vegas-Henderson-Paradise, NV MSA   \n",
      "3     1003   Reynaldo    Jenkins   52                          Tulsa, OK MSA   \n",
      "4     1004    Leonila   Thompson   40        Seattle-Tacoma-Bellevue, WA MSA   \n",
      "\n",
      "     reg_date      plan churn_date  \n",
      "0  2018-12-24  ultimate        NaN  \n",
      "1  2018-08-13      surf        NaN  \n",
      "2  2018-10-21      surf        NaN  \n",
      "3  2018-01-28      surf        NaN  \n",
      "4  2018-05-23      surf        NaN  \n"
     ]
    }
   ],
   "source": [
    "# Imprime una muestra de los datos para los usuarios\n",
    "print(df_users.head())"
   ]
  },
  {
   "cell_type": "code",
   "execution_count": 9,
   "metadata": {},
   "outputs": [
    {
     "name": "stdout",
     "output_type": "stream",
     "text": [
      "user_id         0\n",
      "first_name      0\n",
      "last_name       0\n",
      "age             0\n",
      "city            0\n",
      "reg_date        0\n",
      "plan            0\n",
      "churn_date    466\n",
      "dtype: int64\n"
     ]
    }
   ],
   "source": [
    "#ver vlores ausentes\n",
    "print(df_users.isna().sum())"
   ]
  },
  {
   "cell_type": "markdown",
   "metadata": {},
   "source": [
    "Podemos ver que tenemos datos de 500 clientes\n",
    "Ningun valor ausente\n",
    "El tipo de datos coincide con el requerido\n",
    "Y podemos ver que hay una columna llamda churn_date, la cual se refiere a la fecha en que el cliente canceló su plan, en la cual solo tenemos 34 respuestas, los demas no estan asignados, esto pudiera significar que de 500 clientes, 34 cancelaron su plan y los otros 466 sigun activos"
   ]
  },
  {
   "cell_type": "markdown",
   "metadata": {},
   "source": [
    "### Corregir datos"
   ]
  },
  {
   "cell_type": "code",
   "execution_count": 10,
   "metadata": {},
   "outputs": [
    {
     "name": "stdout",
     "output_type": "stream",
     "text": [
      "<class 'pandas.core.frame.DataFrame'>\n",
      "RangeIndex: 500 entries, 0 to 499\n",
      "Data columns (total 8 columns):\n",
      " #   Column      Non-Null Count  Dtype         \n",
      "---  ------      --------------  -----         \n",
      " 0   user_id     500 non-null    int64         \n",
      " 1   first_name  500 non-null    object        \n",
      " 2   last_name   500 non-null    object        \n",
      " 3   age         500 non-null    int64         \n",
      " 4   city        500 non-null    object        \n",
      " 5   reg_date    500 non-null    datetime64[ns]\n",
      " 6   plan        500 non-null    object        \n",
      " 7   churn_date  34 non-null     datetime64[ns]\n",
      "dtypes: datetime64[ns](2), int64(2), object(4)\n",
      "memory usage: 31.4+ KB\n",
      "None\n"
     ]
    }
   ],
   "source": [
    "#reg_date a formato fecha\n",
    "df_users['reg_date'] = pd.to_datetime(df_users['reg_date'])\n",
    "\n",
    "df_users['churn_date'] = pd.to_datetime(df_users['churn_date'])\n",
    "print(df_users.info())"
   ]
  },
  {
   "cell_type": "markdown",
   "metadata": {},
   "source": [
    "Corregimos el formato de fecha"
   ]
  },
  {
   "cell_type": "markdown",
   "metadata": {},
   "source": [
    "## Llamadas"
   ]
  },
  {
   "cell_type": "code",
   "execution_count": 11,
   "metadata": {},
   "outputs": [
    {
     "name": "stdout",
     "output_type": "stream",
     "text": [
      "<class 'pandas.core.frame.DataFrame'>\n",
      "RangeIndex: 137735 entries, 0 to 137734\n",
      "Data columns (total 4 columns):\n",
      " #   Column     Non-Null Count   Dtype  \n",
      "---  ------     --------------   -----  \n",
      " 0   id         137735 non-null  object \n",
      " 1   user_id    137735 non-null  int64  \n",
      " 2   call_date  137735 non-null  object \n",
      " 3   duration   137735 non-null  float64\n",
      "dtypes: float64(1), int64(1), object(2)\n",
      "memory usage: 4.2+ MB\n",
      "None\n"
     ]
    }
   ],
   "source": [
    "# Imprime la información/resumen general sobre el DataFrame de las llamadas\n",
    "print(df_calls.info())"
   ]
  },
  {
   "cell_type": "code",
   "execution_count": 12,
   "metadata": {},
   "outputs": [
    {
     "name": "stdout",
     "output_type": "stream",
     "text": [
      "         id  user_id   call_date  duration\n",
      "0   1000_93     1000  2018-12-27      8.52\n",
      "1  1000_145     1000  2018-12-27     13.66\n",
      "2  1000_247     1000  2018-12-27     14.48\n",
      "3  1000_309     1000  2018-12-28      5.76\n",
      "4  1000_380     1000  2018-12-30      4.22\n"
     ]
    }
   ],
   "source": [
    "# Imprime una muestra de datos para llamadas\n",
    "print(df_calls.head())"
   ]
  },
  {
   "cell_type": "code",
   "execution_count": 13,
   "metadata": {},
   "outputs": [
    {
     "name": "stdout",
     "output_type": "stream",
     "text": [
      "id           0\n",
      "user_id      0\n",
      "call_date    0\n",
      "duration     0\n",
      "dtype: int64\n"
     ]
    }
   ],
   "source": [
    "#valores ausentes\n",
    "print(df_calls.isna().sum())"
   ]
  },
  {
   "cell_type": "markdown",
   "metadata": {},
   "source": [
    "Vemos el historial de llamadas, no hay valores ausentes pero vamos a buscar posibles valores que nos den problemas como las llamadas anormalmente cortas"
   ]
  },
  {
   "cell_type": "markdown",
   "metadata": {},
   "source": [
    "### Corregir datos"
   ]
  },
  {
   "cell_type": "code",
   "execution_count": 14,
   "metadata": {},
   "outputs": [
    {
     "name": "stdout",
     "output_type": "stream",
     "text": [
      "<class 'pandas.core.frame.DataFrame'>\n",
      "RangeIndex: 137735 entries, 0 to 137734\n",
      "Data columns (total 4 columns):\n",
      " #   Column     Non-Null Count   Dtype         \n",
      "---  ------     --------------   -----         \n",
      " 0   id         137735 non-null  object        \n",
      " 1   user_id    137735 non-null  int64         \n",
      " 2   call_date  137735 non-null  datetime64[ns]\n",
      " 3   duration   137735 non-null  float64       \n",
      "dtypes: datetime64[ns](1), float64(1), int64(1), object(1)\n",
      "memory usage: 4.2+ MB\n",
      "None\n"
     ]
    }
   ],
   "source": [
    "df_calls['call_date'] = pd.to_datetime(df_calls['call_date'])\n",
    "print(df_calls.info())"
   ]
  },
  {
   "cell_type": "code",
   "execution_count": 15,
   "metadata": {},
   "outputs": [
    {
     "name": "stdout",
     "output_type": "stream",
     "text": [
      "              id  user_id  call_date  duration\n",
      "19        1001_4     1001 2018-12-05       0.0\n",
      "25       1001_13     1001 2018-12-24       0.0\n",
      "31       1001_30     1001 2018-10-17       0.0\n",
      "32       1001_31     1001 2018-11-03       0.0\n",
      "34       1001_35     1001 2018-12-21       0.0\n",
      "...          ...      ...        ...       ...\n",
      "137714  1499_183     1499 2018-11-10       0.0\n",
      "137715  1499_184     1499 2018-09-15       0.0\n",
      "137720  1499_189     1499 2018-12-27       0.0\n",
      "137722  1499_191     1499 2018-12-24       0.0\n",
      "137725  1499_194     1499 2018-10-31       0.0\n",
      "\n",
      "[26834 rows x 4 columns]\n"
     ]
    }
   ],
   "source": [
    "lose_calls = df_calls.query('duration == 0')\n",
    "\n",
    "print(lose_calls)"
   ]
  },
  {
   "cell_type": "markdown",
   "metadata": {},
   "source": [
    "### Enriquecer datos"
   ]
  },
  {
   "cell_type": "markdown",
   "metadata": {},
   "source": [
    "todas esas llamadas perdidas las vamos a agregar a una nueva columna"
   ]
  },
  {
   "cell_type": "code",
   "execution_count": 16,
   "metadata": {},
   "outputs": [
    {
     "name": "stdout",
     "output_type": "stream",
     "text": [
      "<class 'pandas.core.frame.DataFrame'>\n",
      "RangeIndex: 137735 entries, 0 to 137734\n",
      "Data columns (total 5 columns):\n",
      " #   Column      Non-Null Count   Dtype         \n",
      "---  ------      --------------   -----         \n",
      " 0   id          137735 non-null  object        \n",
      " 1   user_id     137735 non-null  int64         \n",
      " 2   call_date   137735 non-null  datetime64[ns]\n",
      " 3   duration    137735 non-null  float64       \n",
      " 4   lose_calls  26834 non-null   object        \n",
      "dtypes: datetime64[ns](1), float64(1), int64(1), object(2)\n",
      "memory usage: 5.3+ MB\n",
      "None\n"
     ]
    }
   ],
   "source": [
    "df_calls = df_calls.assign(lose_calls=lose_calls['duration'] == 0)\n",
    "print(df_calls.info())"
   ]
  },
  {
   "cell_type": "code",
   "execution_count": 17,
   "metadata": {},
   "outputs": [
    {
     "name": "stdout",
     "output_type": "stream",
     "text": [
      "id                 0\n",
      "user_id            0\n",
      "call_date          0\n",
      "duration       26834\n",
      "lose_calls    110901\n",
      "dtype: int64\n"
     ]
    }
   ],
   "source": [
    "df_calls = df_calls.replace(0, np.nan)\n",
    "print(df_calls.isna().sum())"
   ]
  },
  {
   "cell_type": "markdown",
   "metadata": {},
   "source": [
    "Ahora podemos ver que los valores ausentes en duration en realidad se movieron a lose_calls y viceversa para tener mejor control"
   ]
  },
  {
   "cell_type": "code",
   "execution_count": 18,
   "metadata": {},
   "outputs": [
    {
     "name": "stdout",
     "output_type": "stream",
     "text": [
      "         id  user_id  call_date  duration lose_calls\n",
      "0   1000_93     1000 2018-12-27       9.0        NaN\n",
      "1  1000_145     1000 2018-12-27      14.0        NaN\n",
      "2  1000_247     1000 2018-12-27      15.0        NaN\n",
      "3  1000_309     1000 2018-12-28       6.0        NaN\n",
      "4  1000_380     1000 2018-12-30       5.0        NaN\n"
     ]
    }
   ],
   "source": [
    "df_calls[\"duration\"] = np.ceil(df_calls[\"duration\"])\n",
    "print(df_calls.head())"
   ]
  },
  {
   "cell_type": "markdown",
   "metadata": {},
   "source": [
    "Redondeamos las llamadas"
   ]
  },
  {
   "cell_type": "markdown",
   "metadata": {},
   "source": [
    "## Mensajes"
   ]
  },
  {
   "cell_type": "code",
   "execution_count": 19,
   "metadata": {},
   "outputs": [
    {
     "name": "stdout",
     "output_type": "stream",
     "text": [
      "<class 'pandas.core.frame.DataFrame'>\n",
      "RangeIndex: 76051 entries, 0 to 76050\n",
      "Data columns (total 3 columns):\n",
      " #   Column        Non-Null Count  Dtype \n",
      "---  ------        --------------  ----- \n",
      " 0   id            76051 non-null  object\n",
      " 1   user_id       76051 non-null  int64 \n",
      " 2   message_date  76051 non-null  object\n",
      "dtypes: int64(1), object(2)\n",
      "memory usage: 1.7+ MB\n",
      "None\n"
     ]
    }
   ],
   "source": [
    "# Imprime la información/resumen general sobre el DataFrame de los mensajes\n",
    "print(df_messages.info())"
   ]
  },
  {
   "cell_type": "code",
   "execution_count": 20,
   "metadata": {},
   "outputs": [
    {
     "name": "stdout",
     "output_type": "stream",
     "text": [
      "         id  user_id message_date\n",
      "0  1000_125     1000   2018-12-27\n",
      "1  1000_160     1000   2018-12-31\n",
      "2  1000_223     1000   2018-12-31\n",
      "3  1000_251     1000   2018-12-27\n",
      "4  1000_255     1000   2018-12-26\n"
     ]
    }
   ],
   "source": [
    "# Imprime una muestra de datos para los mensajes\n",
    "print(df_messages.head())"
   ]
  },
  {
   "cell_type": "code",
   "execution_count": 21,
   "metadata": {},
   "outputs": [
    {
     "name": "stdout",
     "output_type": "stream",
     "text": [
      "id              0\n",
      "user_id         0\n",
      "message_date    0\n",
      "dtype: int64\n"
     ]
    }
   ],
   "source": [
    "#ver vlores ausentes\n",
    "print(df_messages.isna().sum())"
   ]
  },
  {
   "cell_type": "markdown",
   "metadata": {},
   "source": [
    "No tenemos valores ausentes, los tipos de datos son correctos"
   ]
  },
  {
   "cell_type": "markdown",
   "metadata": {},
   "source": [
    "### Corregir datos"
   ]
  },
  {
   "cell_type": "code",
   "execution_count": 22,
   "metadata": {},
   "outputs": [
    {
     "name": "stdout",
     "output_type": "stream",
     "text": [
      "<class 'pandas.core.frame.DataFrame'>\n",
      "RangeIndex: 500 entries, 0 to 499\n",
      "Data columns (total 8 columns):\n",
      " #   Column      Non-Null Count  Dtype         \n",
      "---  ------      --------------  -----         \n",
      " 0   user_id     500 non-null    int64         \n",
      " 1   first_name  500 non-null    object        \n",
      " 2   last_name   500 non-null    object        \n",
      " 3   age         500 non-null    int64         \n",
      " 4   city        500 non-null    object        \n",
      " 5   reg_date    500 non-null    datetime64[ns]\n",
      " 6   plan        500 non-null    object        \n",
      " 7   churn_date  34 non-null     datetime64[ns]\n",
      "dtypes: datetime64[ns](2), int64(2), object(4)\n",
      "memory usage: 31.4+ KB\n",
      "None\n"
     ]
    }
   ],
   "source": [
    "df_messages['message_date'] = pd.to_datetime(df_messages['message_date'])\n",
    "print(df_users.info())"
   ]
  },
  {
   "cell_type": "markdown",
   "metadata": {},
   "source": [
    "Corregimos el tipo de datos"
   ]
  },
  {
   "cell_type": "markdown",
   "metadata": {},
   "source": [
    "## Internet"
   ]
  },
  {
   "cell_type": "code",
   "execution_count": 23,
   "metadata": {},
   "outputs": [
    {
     "name": "stdout",
     "output_type": "stream",
     "text": [
      "<class 'pandas.core.frame.DataFrame'>\n",
      "RangeIndex: 104825 entries, 0 to 104824\n",
      "Data columns (total 4 columns):\n",
      " #   Column        Non-Null Count   Dtype  \n",
      "---  ------        --------------   -----  \n",
      " 0   id            104825 non-null  object \n",
      " 1   user_id       104825 non-null  int64  \n",
      " 2   session_date  104825 non-null  object \n",
      " 3   mb_used       104825 non-null  float64\n",
      "dtypes: float64(1), int64(1), object(2)\n",
      "memory usage: 3.2+ MB\n",
      "None\n"
     ]
    }
   ],
   "source": [
    "# Imprime la información/resumen general sobre el DataFrame de los mensajes\n",
    "print(df_internet.info())"
   ]
  },
  {
   "cell_type": "code",
   "execution_count": 24,
   "metadata": {},
   "outputs": [
    {
     "name": "stdout",
     "output_type": "stream",
     "text": [
      "         id  user_id session_date  mb_used\n",
      "0   1000_13     1000   2018-12-29    89.86\n",
      "1  1000_204     1000   2018-12-31     0.00\n",
      "2  1000_379     1000   2018-12-28   660.40\n",
      "3  1000_413     1000   2018-12-26   270.99\n",
      "4  1000_442     1000   2018-12-27   880.22\n"
     ]
    }
   ],
   "source": [
    "# Imprime una muestra de datos para el tráfico de internet\n",
    "print(df_internet.head())"
   ]
  },
  {
   "cell_type": "code",
   "execution_count": 25,
   "metadata": {},
   "outputs": [
    {
     "name": "stdout",
     "output_type": "stream",
     "text": [
      "id              0\n",
      "user_id         0\n",
      "session_date    0\n",
      "mb_used         0\n",
      "dtype: int64\n"
     ]
    }
   ],
   "source": [
    "#ver vlores ausentes\n",
    "print(df_internet.isna().sum())"
   ]
  },
  {
   "cell_type": "markdown",
   "metadata": {},
   "source": [
    "Podemos ver que tenemos los datos de uso de internet, no hay datos ausentes y el tipo de datos es correcto"
   ]
  },
  {
   "cell_type": "markdown",
   "metadata": {},
   "source": [
    "### Corregir datos"
   ]
  },
  {
   "cell_type": "code",
   "execution_count": 26,
   "metadata": {},
   "outputs": [
    {
     "name": "stdout",
     "output_type": "stream",
     "text": [
      "<class 'pandas.core.frame.DataFrame'>\n",
      "RangeIndex: 500 entries, 0 to 499\n",
      "Data columns (total 8 columns):\n",
      " #   Column      Non-Null Count  Dtype         \n",
      "---  ------      --------------  -----         \n",
      " 0   user_id     500 non-null    int64         \n",
      " 1   first_name  500 non-null    object        \n",
      " 2   last_name   500 non-null    object        \n",
      " 3   age         500 non-null    int64         \n",
      " 4   city        500 non-null    object        \n",
      " 5   reg_date    500 non-null    datetime64[ns]\n",
      " 6   plan        500 non-null    object        \n",
      " 7   churn_date  34 non-null     datetime64[ns]\n",
      "dtypes: datetime64[ns](2), int64(2), object(4)\n",
      "memory usage: 31.4+ KB\n",
      "None\n"
     ]
    }
   ],
   "source": [
    "df_internet['session_date'] = pd.to_datetime(df_internet['session_date'])\n",
    "print(df_users.info())"
   ]
  },
  {
   "cell_type": "markdown",
   "metadata": {},
   "source": [
    "cambiamos el tipo de datos"
   ]
  },
  {
   "cell_type": "markdown",
   "metadata": {},
   "source": [
    "## Estudiar las condiciones del plan"
   ]
  },
  {
   "cell_type": "markdown",
   "metadata": {},
   "source": [
    "[Es sumamente importante entender cómo funcionan los planes, cómo se cobra a los usuarios con base en su plan de suscripción. Así que te sugerimos imprimir la información del plan para ver una vez más sus condiciones.]"
   ]
  },
  {
   "cell_type": "code",
   "execution_count": 27,
   "metadata": {},
   "outputs": [
    {
     "name": "stdout",
     "output_type": "stream",
     "text": [
      "<class 'pandas.core.frame.DataFrame'>\n",
      "RangeIndex: 2 entries, 0 to 1\n",
      "Data columns (total 9 columns):\n",
      " #   Column                    Non-Null Count  Dtype  \n",
      "---  ------                    --------------  -----  \n",
      " 0   messages_included         2 non-null      int64  \n",
      " 1   mb_per_month_included     2 non-null      int64  \n",
      " 2   minutes_included          2 non-null      int64  \n",
      " 3   usd_monthly_pay           2 non-null      int64  \n",
      " 4   usd_per_gb                2 non-null      int64  \n",
      " 5   usd_per_message           2 non-null      float64\n",
      " 6   usd_per_minute            2 non-null      float64\n",
      " 7   plan_name                 2 non-null      object \n",
      " 8   gigas_per_month_included  2 non-null      float64\n",
      "dtypes: float64(3), int64(5), object(1)\n",
      "memory usage: 272.0+ bytes\n",
      "None\n"
     ]
    }
   ],
   "source": [
    "# Imprime las condiciones del plan y asegúrate de que te resulten claros\n",
    "print(df_plans.info())\n"
   ]
  },
  {
   "cell_type": "code",
   "execution_count": 28,
   "metadata": {},
   "outputs": [
    {
     "name": "stdout",
     "output_type": "stream",
     "text": [
      "   messages_included  mb_per_month_included  minutes_included  \\\n",
      "0                 50                  15360               500   \n",
      "1               1000                  30720              3000   \n",
      "\n",
      "   usd_monthly_pay  usd_per_gb  usd_per_message  usd_per_minute plan_name  \\\n",
      "0               20          10             0.03            0.03      surf   \n",
      "1               70           7             0.01            0.01  ultimate   \n",
      "\n",
      "   gigas_per_month_included  \n",
      "0                      15.0  \n",
      "1                      30.0  \n"
     ]
    }
   ],
   "source": [
    "print(df_plans)"
   ]
  },
  {
   "cell_type": "markdown",
   "metadata": {},
   "source": [
    "## Agregar datos por usuario\n"
   ]
  },
  {
   "cell_type": "code",
   "execution_count": 29,
   "metadata": {},
   "outputs": [
    {
     "name": "stdout",
     "output_type": "stream",
     "text": [
      "   user_id  month  calls\n",
      "0     1000     12     16\n",
      "1     1001      8     27\n",
      "2     1001      9     49\n",
      "3     1001     10     65\n",
      "4     1001     11     64\n"
     ]
    }
   ],
   "source": [
    "# Calcula el número de llamadas hechas por cada usuario por mes. Guarda el resultado.\n",
    "calls_per_user = df_calls.groupby(['user_id', df_calls['call_date'].dt.month]).agg(calls=('duration', 'size')).reset_index()\n",
    "calls_per_user.rename(columns={'call_date': 'month'}, inplace=True)\n",
    "\n",
    "print(calls_per_user.head())"
   ]
  },
  {
   "cell_type": "code",
   "execution_count": 30,
   "metadata": {},
   "outputs": [
    {
     "name": "stdout",
     "output_type": "stream",
     "text": [
      "   user_id  month  num_minutes\n",
      "0     1000     12        124.0\n",
      "1     1001      8        182.0\n",
      "2     1001      9        315.0\n",
      "3     1001     10        393.0\n",
      "4     1001     11        426.0\n"
     ]
    }
   ],
   "source": [
    "# Calcula la cantidad de minutos que usó cada usuario por mes. Guarda el resultado.\n",
    "minutes_per_user = df_calls.groupby(['user_id', df_calls['call_date'].dt.month]).agg(num_minutes=('duration', 'sum')).reset_index()\n",
    "minutes_per_user.rename(columns={'call_date': 'month'}, inplace=True)\n",
    "\n",
    "print(minutes_per_user.head())"
   ]
  },
  {
   "cell_type": "code",
   "execution_count": 31,
   "metadata": {
    "scrolled": true
   },
   "outputs": [
    {
     "name": "stdout",
     "output_type": "stream",
     "text": [
      "   user_id  month  num_messages\n",
      "0     1000     12            11\n",
      "1     1001      8            30\n",
      "2     1001      9            44\n",
      "3     1001     10            53\n",
      "4     1001     11            36\n"
     ]
    }
   ],
   "source": [
    "# Calcula el número de mensajes enviados por cada usuario por mes\n",
    "messages_per_month = df_messages.groupby(['user_id', df_messages['message_date'].dt.month]).agg(num_messages=('message_date', 'size')).reset_index()\n",
    "messages_per_month.rename(columns={'message_date': 'month'}, inplace=True)\n",
    "\n",
    "print(messages_per_month.head())"
   ]
  },
  {
   "cell_type": "code",
   "execution_count": 32,
   "metadata": {},
   "outputs": [
    {
     "name": "stdout",
     "output_type": "stream",
     "text": [
      "   user_id  month  num_megas  num_gigas\n",
      "0     1000     12    1901.47        2.0\n",
      "1     1001      8    6919.15        7.0\n",
      "2     1001      9   13314.82       14.0\n",
      "3     1001     10   22330.49       22.0\n",
      "4     1001     11   18504.30       19.0\n"
     ]
    }
   ],
   "source": [
    "# Calcula el volumen del tráfico de internet usado por cada usuario por mes\n",
    "megas_per_month = df_internet.groupby(['user_id', df_internet['session_date'].dt.month]).agg(num_megas=('mb_used', 'sum')).reset_index()\n",
    "megas_per_month.rename(columns={'session_date': 'month'}, inplace=True)\n",
    "\n",
    "# GB\n",
    "megas_per_month['num_gigas'] = megas_per_month['num_megas'] / 1024\n",
    "\n",
    "# Redondeo fe GB\n",
    "megas_per_month['num_gigas'] = np.ceil(megas_per_month['num_gigas'])\n",
    "print(megas_per_month.head())"
   ]
  },
  {
   "cell_type": "code",
   "execution_count": 33,
   "metadata": {},
   "outputs": [
    {
     "name": "stdout",
     "output_type": "stream",
     "text": [
      "   user_id  month  calls\n",
      "0     1000     12     16\n",
      "1     1001      8     27\n",
      "2     1001      9     49\n",
      "3     1001     10     65\n",
      "4     1001     11     64\n",
      "   user_id  month  num_minutes\n",
      "0     1000     12        124.0\n",
      "1     1001      8        182.0\n",
      "2     1001      9        315.0\n",
      "3     1001     10        393.0\n",
      "4     1001     11        426.0\n",
      "   user_id  month  num_messages\n",
      "0     1000     12            11\n",
      "1     1001      8            30\n",
      "2     1001      9            44\n",
      "3     1001     10            53\n",
      "4     1001     11            36\n",
      "   user_id  month  num_megas  num_gigas\n",
      "0     1000     12    1901.47        2.0\n",
      "1     1001      8    6919.15        7.0\n",
      "2     1001      9   13314.82       14.0\n",
      "3     1001     10   22330.49       22.0\n",
      "4     1001     11   18504.30       19.0\n"
     ]
    }
   ],
   "source": [
    "print(calls_per_user.head())\n",
    "print(minutes_per_user.head())\n",
    "print(messages_per_month.head())\n",
    "print(megas_per_month.head())"
   ]
  },
  {
   "cell_type": "code",
   "execution_count": 34,
   "metadata": {},
   "outputs": [
    {
     "name": "stdout",
     "output_type": "stream",
     "text": [
      "   user_id  month  calls  num_minutes  num_messages  num_megas  num_gigas\n",
      "0     1000     12   16.0        124.0          11.0    1901.47        2.0\n",
      "1     1001      8   27.0        182.0          30.0    6919.15        7.0\n",
      "2     1001      9   49.0        315.0          44.0   13314.82       14.0\n",
      "3     1001     10   65.0        393.0          53.0   22330.49       22.0\n",
      "4     1001     11   64.0        426.0          36.0   18504.30       19.0\n"
     ]
    }
   ],
   "source": [
    "# Combina los datos para las llamadas, minutos, mensajes e internet con base en el user_id y el mes\n",
    "combined_info = calls_per_user.merge(minutes_per_user, on=['user_id', 'month'], how='outer').merge(messages_per_month, on=['user_id', 'month'], how='outer').merge(megas_per_month, on=['user_id', 'month'], how='outer')\n",
    "\n",
    "print(combined_info.head())"
   ]
  },
  {
   "cell_type": "code",
   "execution_count": 35,
   "metadata": {},
   "outputs": [
    {
     "name": "stdout",
     "output_type": "stream",
     "text": [
      "   messages_included  mb_per_month_included  minutes_included  \\\n",
      "0                 50                  15360               500   \n",
      "1               1000                  30720              3000   \n",
      "\n",
      "   usd_monthly_pay  usd_per_gb  usd_per_message  usd_per_minute      plan  \\\n",
      "0               20          10             0.03            0.03      surf   \n",
      "1               70           7             0.01            0.01  ultimate   \n",
      "\n",
      "   gigas_per_month_included  \n",
      "0                      15.0  \n",
      "1                      30.0  \n"
     ]
    }
   ],
   "source": [
    "df_plans.rename(columns={'plan_name': 'plan'}, inplace=True)\n",
    "print(df_plans.head())\n"
   ]
  },
  {
   "cell_type": "code",
   "execution_count": 36,
   "metadata": {},
   "outputs": [
    {
     "name": "stdout",
     "output_type": "stream",
     "text": [
      "   user_id  month  calls  num_minutes  num_messages  num_megas  num_gigas\n",
      "0     1000     12   16.0        124.0          11.0    1901.47        2.0\n",
      "1     1001      8   27.0        182.0          30.0    6919.15        7.0\n",
      "2     1001      9   49.0        315.0          44.0   13314.82       14.0\n",
      "3     1001     10   65.0        393.0          53.0   22330.49       22.0\n",
      "4     1001     11   64.0        426.0          36.0   18504.30       19.0\n"
     ]
    }
   ],
   "source": [
    "\n",
    "print(combined_info.head())"
   ]
  },
  {
   "cell_type": "code",
   "execution_count": 37,
   "metadata": {},
   "outputs": [
    {
     "name": "stdout",
     "output_type": "stream",
     "text": [
      "   user_id first_name  last_name  age                                   city  \\\n",
      "0     1000   Anamaria      Bauer   45  Atlanta-Sandy Springs-Roswell, GA MSA   \n",
      "1     1001     Mickey  Wilkerson   28        Seattle-Tacoma-Bellevue, WA MSA   \n",
      "2     1002     Carlee    Hoffman   36   Las Vegas-Henderson-Paradise, NV MSA   \n",
      "3     1003   Reynaldo    Jenkins   52                          Tulsa, OK MSA   \n",
      "4     1004    Leonila   Thompson   40        Seattle-Tacoma-Bellevue, WA MSA   \n",
      "\n",
      "    reg_date      plan churn_date  \n",
      "0 2018-12-24  ultimate        NaT  \n",
      "1 2018-08-13      surf        NaT  \n",
      "2 2018-10-21      surf        NaT  \n",
      "3 2018-01-28      surf        NaT  \n",
      "4 2018-05-23      surf        NaT  \n"
     ]
    }
   ],
   "source": [
    "\n",
    "print(df_users.head())"
   ]
  },
  {
   "cell_type": "code",
   "execution_count": 38,
   "metadata": {},
   "outputs": [
    {
     "name": "stdout",
     "output_type": "stream",
     "text": [
      "   user_id  month  calls  num_minutes  num_messages  num_megas  num_gigas  \\\n",
      "0     1000     12   16.0        124.0          11.0    1901.47        2.0   \n",
      "1     1006     11    2.0         10.0          15.0    2068.37        3.0   \n",
      "2     1006     12    9.0         59.0         139.0   32118.82       32.0   \n",
      "3     1008     10   71.0        476.0          21.0   17106.99       17.0   \n",
      "4     1008     11   63.0        446.0          37.0   23676.72       24.0   \n",
      "\n",
      "  first_name last_name  age  ...      plan churn_date messages_included  \\\n",
      "0   Anamaria     Bauer   45  ...  ultimate        NaT              1000   \n",
      "1     Jesusa  Bradford   73  ...  ultimate 2018-12-18              1000   \n",
      "2     Jesusa  Bradford   73  ...  ultimate 2018-12-18              1000   \n",
      "3      Emely   Hoffman   53  ...  ultimate        NaT              1000   \n",
      "4      Emely   Hoffman   53  ...  ultimate        NaT              1000   \n",
      "\n",
      "  mb_per_month_included  minutes_included  usd_monthly_pay  usd_per_gb  \\\n",
      "0                 30720              3000               70           7   \n",
      "1                 30720              3000               70           7   \n",
      "2                 30720              3000               70           7   \n",
      "3                 30720              3000               70           7   \n",
      "4                 30720              3000               70           7   \n",
      "\n",
      "   usd_per_message  usd_per_minute  gigas_per_month_included  \n",
      "0             0.01            0.01                      30.0  \n",
      "1             0.01            0.01                      30.0  \n",
      "2             0.01            0.01                      30.0  \n",
      "3             0.01            0.01                      30.0  \n",
      "4             0.01            0.01                      30.0  \n",
      "\n",
      "[5 rows x 22 columns]\n"
     ]
    }
   ],
   "source": [
    "# Añade la información del plan\n",
    "\n",
    "combined_info = combined_info.merge(df_users, on=['user_id']).merge(df_plans, on=['plan'])\n",
    "print(combined_info.head())\n"
   ]
  },
  {
   "cell_type": "markdown",
   "metadata": {},
   "source": [
    "Establecemos los ingresos mensuales de cada usuariode acuerdo a las condiciones de plan y el uso de este"
   ]
  },
  {
   "cell_type": "code",
   "execution_count": 39,
   "metadata": {},
   "outputs": [
    {
     "name": "stdout",
     "output_type": "stream",
     "text": [
      "<class 'pandas.core.frame.DataFrame'>\n",
      "Int64Index: 2293 entries, 0 to 2292\n",
      "Data columns (total 22 columns):\n",
      " #   Column                    Non-Null Count  Dtype         \n",
      "---  ------                    --------------  -----         \n",
      " 0   user_id                   2293 non-null   int64         \n",
      " 1   month                     2293 non-null   int64         \n",
      " 2   calls                     2258 non-null   float64       \n",
      " 3   num_minutes               2258 non-null   float64       \n",
      " 4   num_messages              1806 non-null   float64       \n",
      " 5   num_megas                 2277 non-null   float64       \n",
      " 6   num_gigas                 2277 non-null   float64       \n",
      " 7   first_name                2293 non-null   object        \n",
      " 8   last_name                 2293 non-null   object        \n",
      " 9   age                       2293 non-null   int64         \n",
      " 10  city                      2293 non-null   object        \n",
      " 11  reg_date                  2293 non-null   datetime64[ns]\n",
      " 12  plan                      2293 non-null   object        \n",
      " 13  churn_date                158 non-null    datetime64[ns]\n",
      " 14  messages_included         2293 non-null   int64         \n",
      " 15  mb_per_month_included     2293 non-null   int64         \n",
      " 16  minutes_included          2293 non-null   int64         \n",
      " 17  usd_monthly_pay           2293 non-null   int64         \n",
      " 18  usd_per_gb                2293 non-null   int64         \n",
      " 19  usd_per_message           2293 non-null   float64       \n",
      " 20  usd_per_minute            2293 non-null   float64       \n",
      " 21  gigas_per_month_included  2293 non-null   float64       \n",
      "dtypes: datetime64[ns](2), float64(8), int64(8), object(4)\n",
      "memory usage: 412.0+ KB\n",
      "None\n"
     ]
    }
   ],
   "source": [
    "print(combined_info.info())"
   ]
  },
  {
   "cell_type": "code",
   "execution_count": 40,
   "metadata": {},
   "outputs": [],
   "source": [
    "# Calcula el ingreso mensual para cada usuario\n",
    "\n",
    "combined_info['monthly_income'] = (combined_info['num_minutes'] - combined_info['minutes_included'])*combined_info['usd_per_minute']\n",
    "combined_info['monthly_income'] = (combined_info['num_messages'] - combined_info['messages_included'])*combined_info['usd_per_message']\n",
    "combined_info['monthly_income'] = (combined_info['num_gigas'] - combined_info['gigas_per_month_included'])*combined_info['usd_per_gb']\n",
    "\n",
    "combined_info.loc[combined_info['monthly_income'] < 0, 'monthly_income'] = 0\n"
   ]
  },
  {
   "cell_type": "code",
   "execution_count": 41,
   "metadata": {},
   "outputs": [],
   "source": [
    "combined_info['monthly_total']=combined_info['monthly_income']+combined_info['usd_monthly_pay']"
   ]
  },
  {
   "cell_type": "code",
   "execution_count": 42,
   "metadata": {
    "scrolled": true
   },
   "outputs": [
    {
     "name": "stdout",
     "output_type": "stream",
     "text": [
      "<class 'pandas.core.frame.DataFrame'>\n",
      "Int64Index: 2293 entries, 0 to 2292\n",
      "Data columns (total 24 columns):\n",
      " #   Column                    Non-Null Count  Dtype         \n",
      "---  ------                    --------------  -----         \n",
      " 0   user_id                   2293 non-null   int64         \n",
      " 1   month                     2293 non-null   int64         \n",
      " 2   calls                     2258 non-null   float64       \n",
      " 3   num_minutes               2258 non-null   float64       \n",
      " 4   num_messages              1806 non-null   float64       \n",
      " 5   num_megas                 2277 non-null   float64       \n",
      " 6   num_gigas                 2277 non-null   float64       \n",
      " 7   first_name                2293 non-null   object        \n",
      " 8   last_name                 2293 non-null   object        \n",
      " 9   age                       2293 non-null   int64         \n",
      " 10  city                      2293 non-null   object        \n",
      " 11  reg_date                  2293 non-null   datetime64[ns]\n",
      " 12  plan                      2293 non-null   object        \n",
      " 13  churn_date                158 non-null    datetime64[ns]\n",
      " 14  messages_included         2293 non-null   int64         \n",
      " 15  mb_per_month_included     2293 non-null   int64         \n",
      " 16  minutes_included          2293 non-null   int64         \n",
      " 17  usd_monthly_pay           2293 non-null   int64         \n",
      " 18  usd_per_gb                2293 non-null   int64         \n",
      " 19  usd_per_message           2293 non-null   float64       \n",
      " 20  usd_per_minute            2293 non-null   float64       \n",
      " 21  gigas_per_month_included  2293 non-null   float64       \n",
      " 22  monthly_income            2277 non-null   float64       \n",
      " 23  monthly_total             2277 non-null   float64       \n",
      "dtypes: datetime64[ns](2), float64(10), int64(8), object(4)\n",
      "memory usage: 447.9+ KB\n",
      "None\n"
     ]
    }
   ],
   "source": [
    "print(combined_info.info())"
   ]
  },
  {
   "cell_type": "markdown",
   "metadata": {},
   "source": [
    "## Estudia el comportamiento del usuario"
   ]
  },
  {
   "cell_type": "markdown",
   "metadata": {},
   "source": [
    "Estudio de la duracion promedio de las llamadas por usuario y por plan"
   ]
  },
  {
   "cell_type": "markdown",
   "metadata": {},
   "source": [
    "### Llamadas"
   ]
  },
  {
   "cell_type": "code",
   "execution_count": 43,
   "metadata": {},
   "outputs": [
    {
     "data": {
      "image/png": "[encoded data removed]",
      "text/plain": [
       "<Figure size 720x432 with 1 Axes>"
      ]
     },
     "metadata": {
      "needs_background": "light"
     },
     "output_type": "display_data"
    }
   ],
   "source": [
    "# Compara la duración promedio de llamadas por cada plan por cada mes. Dibuja una gráfica de barras para visualizarlo.\n",
    "avg_call = combined_info.groupby(['plan', 'month'])['num_minutes'].mean().reset_index()\n",
    "\n",
    "# Div de los planes\n",
    "surf_data = avg_call[avg_call['plan'] == 'surf']\n",
    "ultimate_data = avg_call[avg_call['plan'] == 'ultimate']\n",
    "\n",
    "#Grafic\n",
    "plt.figure(figsize=(10, 6))\n",
    "plt.bar(surf_data['month'], surf_data['num_minutes'], width=0.4, align='center', label='surf')\n",
    "plt.bar(ultimate_data['month'], ultimate_data['num_minutes'], width=0.4, align='edge', label='ultimate')\n",
    "plt.xlabel('Mes')\n",
    "plt.ylabel('Duración promedio de llamadas')\n",
    "plt.title('Duración promedio de llamadas por plan y mes')\n",
    "plt.legend()\n",
    "plt.show()"
   ]
  },
  {
   "cell_type": "markdown",
   "metadata": {},
   "source": [
    "La duracion promedio de ambos planes son bastante similares, solo tenemos un incremento grande para usuarios ultimate en el mes 2"
   ]
  },
  {
   "cell_type": "code",
   "execution_count": 44,
   "metadata": {},
   "outputs": [
    {
     "data": {
      "image/png": "[encoded data removed]",
      "text/plain": [
       "<Figure size 576x432 with 1 Axes>"
      ]
     },
     "metadata": {
      "needs_background": "light"
     },
     "output_type": "display_data"
    },
    {
     "data": {
      "image/png": "[encoded data removed]",
      "text/plain": [
       "<Figure size 576x432 with 1 Axes>"
      ]
     },
     "metadata": {
      "needs_background": "light"
     },
     "output_type": "display_data"
    }
   ],
   "source": [
    "# Compara el número de minutos que los usuarios de cada plan requieren cada mes. Traza un histograma.\n",
    "# Hist durf\n",
    "plt.figure(figsize=(8, 6))\n",
    "plt.hist(surf_data['num_minutes'], bins=10, edgecolor='black')\n",
    "plt.xlabel('Frecuencia')\n",
    "plt.ylabel('Minutos')\n",
    "plt.title('Histograma de minutos en surf')\n",
    "plt.show()\n",
    "\n",
    "# Hist ult\n",
    "plt.figure(figsize=(8, 6))\n",
    "plt.hist(ultimate_data['num_minutes'], bins=10, edgecolor='black')\n",
    "plt.xlabel('Frecuencia')\n",
    "plt.ylabel('Minutos')\n",
    "plt.title('Histograma de minutos para ultimate')\n",
    "plt.show()"
   ]
  },
  {
   "cell_type": "markdown",
   "metadata": {},
   "source": [
    "Los resultados son bastante similares pero los resultados de los usuarios ultimate respecto a los minutos son ligeramente mas grandes"
   ]
  },
  {
   "cell_type": "markdown",
   "metadata": {},
   "source": [
    "Calculamos la media y la variable de la duración de la llamada para concluir si los usuarios de diferentes planes muestran comportamientos distintos para sus llamadas"
   ]
  },
  {
   "cell_type": "code",
   "execution_count": 45,
   "metadata": {},
   "outputs": [
    {
     "name": "stdout",
     "output_type": "stream",
     "text": [
      "Media: plan      month\n",
      "surf      1        203.000000\n",
      "          2        297.000000\n",
      "          3        330.000000\n",
      "          4        351.540000\n",
      "          5        410.240000\n",
      "          6        435.791667\n",
      "          7        453.733333\n",
      "          8        417.849057\n",
      "          9        420.732984\n",
      "          10       438.991379\n",
      "          11       432.494585\n",
      "          12       484.501608\n",
      "ultimate  1        193.500000\n",
      "          2        470.333333\n",
      "          3        304.250000\n",
      "          4        336.857143\n",
      "          5        406.241379\n",
      "          6        387.444444\n",
      "          7        427.067797\n",
      "          8        421.436620\n",
      "          9        437.511628\n",
      "          10       455.028571\n",
      "          11       448.730159\n",
      "          12       465.261745\n",
      "Name: num_minutes, dtype: float64\n",
      "Varianza: plan      month\n",
      "surf      1        15842.000000\n",
      "          2        52226.500000\n",
      "          3        35809.363636\n",
      "          4        50866.743265\n",
      "          5        56938.779459\n",
      "          6        44094.061404\n",
      "          7        59802.012325\n",
      "          8        52122.749224\n",
      "          9        44579.912538\n",
      "          10       49326.952306\n",
      "          11       48748.787108\n",
      "          12       59882.373385\n",
      "ultimate  1        16572.333333\n",
      "          2        54345.066667\n",
      "          3        61984.931818\n",
      "          4        34888.928571\n",
      "          5        43841.046798\n",
      "          6        37902.570707\n",
      "          7        72563.374635\n",
      "          8        53645.506640\n",
      "          9        57070.464569\n",
      "          10       52811.566484\n",
      "          11       59479.782603\n",
      "          12       60461.924270\n",
      "Name: num_minutes, dtype: float64\n"
     ]
    }
   ],
   "source": [
    "# Calcula la media y la varianza de la duración mensual de llamadas.\n",
    "media = combined_info.groupby(['plan', 'month'])['num_minutes'].mean()\n",
    "varianza = combined_info.groupby(['plan', 'month'])['num_minutes'].var()\n",
    "\n",
    "print(\"Media:\", media)\n",
    "print(\"Varianza:\", varianza)"
   ]
  },
  {
   "cell_type": "code",
   "execution_count": 46,
   "metadata": {},
   "outputs": [
    {
     "data": {
      "image/png": "[encoded data removed]",
      "text/plain": [
       "<Figure size 432x288 with 1 Axes>"
      ]
     },
     "metadata": {
      "needs_background": "light"
     },
     "output_type": "display_data"
    }
   ],
   "source": [
    "# Traza un diagrama de caja para visualizar la distribución de la duración mensual de llamadas.\n",
    "datos = combined_info.groupby(['plan', 'month'])['num_minutes'].apply(list).values\n",
    "\n",
    "plt.boxplot(datos)\n",
    "\n",
    "plt.xlabel('Plan y Mes')\n",
    "plt.ylabel('Duración de Llamadas')\n",
    "plt.title('Distribución de Duración Mensual de Llamadas')\n",
    "\n",
    "plt.show()"
   ]
  },
  {
   "cell_type": "markdown",
   "metadata": {},
   "source": [
    "¿Este comportamiento es diferente entre los planes?\n",
    "Los usuarios ultimate tienen mucho mas actividad (tanto en la frecuencia de llamadas como en la duracion de estas) a excepcion de los ultimos 3 meses"
   ]
  },
  {
   "cell_type": "markdown",
   "metadata": {},
   "source": [
    "### Mensajes"
   ]
  },
  {
   "cell_type": "code",
   "execution_count": 47,
   "metadata": {},
   "outputs": [
    {
     "data": {
      "image/png": "[encoded data removed]",
      "text/plain": [
       "<Figure size 576x432 with 1 Axes>"
      ]
     },
     "metadata": {
      "needs_background": "light"
     },
     "output_type": "display_data"
    },
    {
     "data": {
      "image/png": "[encoded data removed]",
      "text/plain": [
       "<Figure size 576x432 with 1 Axes>"
      ]
     },
     "metadata": {
      "needs_background": "light"
     },
     "output_type": "display_data"
    }
   ],
   "source": [
    "# Comprara el número de mensajes que tienden a enviar cada mes los usuarios de cada plan\n",
    "surf_monthly_messages = combined_info[combined_info['plan'] == 'surf']\n",
    "ultimate_monthly_messages = combined_info[combined_info['plan'] == 'ultimate']\n",
    "\n",
    "# Hist durf\n",
    "plt.figure(figsize=(8, 6))\n",
    "plt.hist(surf_monthly_messages['num_messages'], bins=10, edgecolor='black')\n",
    "plt.xlabel('Frecuencia')\n",
    "plt.ylabel('Mensajes')\n",
    "plt.title('Histograma de mensajes en surf')\n",
    "plt.show()\n",
    "\n",
    "# Hist ult\n",
    "plt.figure(figsize=(8, 6))\n",
    "plt.hist(ultimate_monthly_messages['num_messages'], bins=10, edgecolor='black')\n",
    "plt.xlabel('Frecuencia')\n",
    "plt.ylabel('Mensajes')\n",
    "plt.title('Histograma de Mensajes para ultimate')\n",
    "plt.show()"
   ]
  },
  {
   "cell_type": "markdown",
   "metadata": {},
   "source": [
    "¿Este comportamiento es diferente entre los planes? Si, los usuarios surf envian mas del triple de mensajes que los usuarios Ultimate"
   ]
  },
  {
   "cell_type": "markdown",
   "metadata": {},
   "source": [
    "### Internet"
   ]
  },
  {
   "cell_type": "code",
   "execution_count": 48,
   "metadata": {},
   "outputs": [
    {
     "data": {
      "image/png": "[encoded data removed]",
      "text/plain": [
       "<Figure size 576x432 with 1 Axes>"
      ]
     },
     "metadata": {
      "needs_background": "light"
     },
     "output_type": "display_data"
    },
    {
     "data": {
      "image/png": "[encoded data removed]",
      "text/plain": [
       "<Figure size 576x432 with 1 Axes>"
      ]
     },
     "metadata": {
      "needs_background": "light"
     },
     "output_type": "display_data"
    }
   ],
   "source": [
    "# Compara la cantidad de tráfico de internet consumido por usuarios por plan\n",
    "surf_monthly = combined_info[combined_info['plan'] == 'surf']\n",
    "ultimate_monthly = combined_info[combined_info['plan'] == 'ultimate']\n",
    "\n",
    "# Hist durf\n",
    "plt.figure(figsize=(8, 6))\n",
    "plt.hist(surf_monthly['num_gigas'], bins=10, edgecolor='black')\n",
    "plt.xlabel('Frecuencia')\n",
    "plt.ylabel('gigas')\n",
    "plt.title('Histograma de gigas en surf')\n",
    "plt.show()\n",
    "\n",
    "# Hist ult\n",
    "plt.figure(figsize=(8, 6))\n",
    "plt.hist(ultimate_monthly['num_gigas'], bins=10, edgecolor='black')\n",
    "plt.xlabel('Frecuencia')\n",
    "plt.ylabel('gigas')\n",
    "plt.title('Histograma de gigas para ultimate')\n",
    "plt.show()"
   ]
  },
  {
   "cell_type": "markdown",
   "metadata": {},
   "source": [
    "¿Este comportamiento es diferente entre los planes? Si, los usuarios Surf consumen mas gigas de su paquete, mientras que los Ultimate si bien consumen mas gb, porcentualmente y en relacion a su paquete no consumen tantas como los usuarios Surf"
   ]
  },
  {
   "cell_type": "markdown",
   "metadata": {},
   "source": [
    "## Ingreso"
   ]
  },
  {
   "cell_type": "markdown",
   "metadata": {},
   "source": [
    "[Del mismo modo en que has estudiado el comportamiento del usuario, es decir, estadísticamente, describe el ingreso entre los planes.]"
   ]
  },
  {
   "cell_type": "code",
   "execution_count": 49,
   "metadata": {},
   "outputs": [
    {
     "data": {
      "image/png": "[encoded data removed]",
      "text/plain": [
       "<Figure size 576x432 with 1 Axes>"
      ]
     },
     "metadata": {
      "needs_background": "light"
     },
     "output_type": "display_data"
    },
    {
     "data": {
      "image/png": "[encoded data removed]",
      "text/plain": [
       "<Figure size 576x432 with 1 Axes>"
      ]
     },
     "metadata": {
      "needs_background": "light"
     },
     "output_type": "display_data"
    }
   ],
   "source": [
    "# Compara la cantidad de tráfico de internet consumido por usuarios por plan\n",
    "\n",
    "surf_monthly = combined_info[combined_info['plan'] == 'surf']\n",
    "ultimate_monthly = combined_info[combined_info['plan'] == 'ultimate']\n",
    "\n",
    "# Hist durf\n",
    "plt.figure(figsize=(8, 6))\n",
    "plt.hist(surf_monthly['monthly_total'], bins=10, edgecolor='black')\n",
    "plt.xlabel('Deuda')\n",
    "plt.ylabel('Frecuencia')\n",
    "plt.title('Histograma de ingreso en surf')\n",
    "plt.show()\n",
    "\n",
    "# Hist ult\n",
    "plt.figure(figsize=(8, 6))\n",
    "plt.hist(ultimate_monthly['monthly_total'], bins=10, edgecolor='black')\n",
    "plt.xlabel('Deuda')\n",
    "plt.ylabel('Frecuencia')\n",
    "plt.title('Histograma de ingreso para ultimate')\n",
    "plt.show()"
   ]
  },
  {
   "cell_type": "markdown",
   "metadata": {},
   "source": [
    "En cuanto al trafico consumido por los planes Surf y Ultimate, los usuarios Surf suelen quedarse cortos de GB utilizando gb extras y generando mucho mas ingreso por cargos extras"
   ]
  },
  {
   "cell_type": "markdown",
   "metadata": {},
   "source": [
    "## Probar las hipótesis estadísticas."
   ]
  },
  {
   "cell_type": "code",
   "execution_count": 51,
   "metadata": {
    "scrolled": true
   },
   "outputs": [
    {
     "name": "stdout",
     "output_type": "stream",
     "text": [
      "Estadística de prueba: 6.464382544616247\n",
      "Valor p: 1.2405746384721852e-10\n",
      "Se rechaza la hipótesis nula. Existe una diferencia significativa en los ingresos promedio.\n"
     ]
    }
   ],
   "source": [
    "ingresos_ultimate = combined_info[combined_info['plan'] == 'ultimate']['monthly_total'].values\n",
    "ingresos_surf = combined_info[combined_info['plan'] == 'surf']['monthly_total'].values\n",
    "\n",
    "statistic, pvalue = ttest_ind(ingresos_ultimate, ingresos_surf, nan_policy='omit')\n",
    "\n",
    "print(\"Estadística de prueba:\", statistic)\n",
    "print(\"Valor p:\", pvalue)\n",
    "\n",
    "alpha = 0.05\n",
    "if pvalue < alpha:\n",
    "    print(\"Se rechaza la hipótesis nula. Existe una diferencia significativa en los ingresos promedio.\")\n",
    "else:\n",
    "    print(\"No se puede rechazar la hipótesis nula. No se encuentra evidencia suficiente de una diferencia significativa en los ingresos promedio.\")"
   ]
  },
  {
   "cell_type": "markdown",
   "metadata": {},
   "source": [
    "Vemos ingreso promedio de los usuarios del área NY-NJ es diferente al de los usuarios de otras regiones."
   ]
  },
  {
   "cell_type": "code",
   "execution_count": null,
   "metadata": {},
   "outputs": [],
   "source": [
    "combined_info['city'].value_counts()"
   ]
  },
  {
   "cell_type": "code",
   "execution_count": 52,
   "metadata": {},
   "outputs": [
    {
     "name": "stdout",
     "output_type": "stream",
     "text": [
      "Estadística de prueba: -1.7590792471908607\n",
      "Valor p: 0.07867866375353852\n",
      "No se puede rechazar la hipótesis nula. No se encuentra evidencia suficiente de una diferencia significativa en el ingreso promedio entre el área NY-NJ y otras regiones.\n"
     ]
    }
   ],
   "source": [
    "ingresos_nynj = combined_info[combined_info['city'] == 'New York-Newark-Jersey City, NY-NJ-PA MSA']['monthly_total'].values\n",
    "ingresos_otras_regiones = combined_info[combined_info['city'] != 'NY-NJ']['monthly_total'].values\n",
    "\n",
    "ingresos_nynj = np.nan_to_num(ingresos_nynj)\n",
    "ingresos_otras_regiones = np.nan_to_num(ingresos_otras_regiones) \n",
    "\n",
    "statistic, pvalue = ttest_ind(ingresos_nynj, ingresos_otras_regiones, nan_policy='omit')\n",
    "\n",
    "print(\"Estadística de prueba:\", statistic)\n",
    "print(\"Valor p:\", pvalue)\n",
    "\n",
    "alpha = 0.05\n",
    "if pvalue < alpha:\n",
    "    print(\"Se rechaza la hipótesis nula. Existe una diferencia significativa en el ingreso promedio entre el área NY-NJ y otras regiones.\")\n",
    "else:\n",
    "    print(\"No se puede rechazar la hipótesis nula. No se encuentra evidencia suficiente de una diferencia significativa en el ingreso promedio entre el área NY-NJ y otras regiones.\")"
   ]
  },
  {
   "cell_type": "markdown",
   "metadata": {},
   "source": [
    "## Conclusión general\n"
   ]
  },
  {
   "cell_type": "markdown",
   "metadata": {},
   "source": [
    "En conclusion, al comparar los planes de comunicación Surf y Ultimate de Megaline, podemps observar que los usuarios Ultimate tienen una mayor actividad en términos de frecuencia y duración de las llamadas, mientras que los usuarios Surf por enviar más mensajes. \n",
    "\n",
    "En cuanto al consumo de datos, los usuarios Surf consumen más gb en general, aunque los usuarios Ultimate consumen más. Sin embargo es importante resalta que los usuarios surf tienden a quedarse cortos en el consumo de datos, esto resulta en cargos extras y en un mayor ingreso para la compañía\n",
    "\n",
    "En términos generales, el plan Ultimate puede ser más adecuado para aquellos que realizan llamadas con mayor frecuencia y duración, mientras que el plan Surf puede ser más atractivo para aquellos que envían una mayor cantidad de mensajes.\n",
    "\n",
    "Al final los planes de comunicación Surf y Ultimate de Megaline ofrecen diferentes beneficios para diferentes necesidades que los usuarios deben evaluar ademas de estar al pendiente del consumo de datos para evitar cargos extras."
   ]
  }
 ],
 "metadata": {
  "ExecuteTimeLog": [
   {
    "duration": 828,
    "start_time": "2021-11-16T09:21:11.304Z"
   },
   {
    "duration": 893,
    "start_time": "2021-11-16T09:21:17.728Z"
   },
   {
    "duration": 1150,
    "start_time": "2021-11-16T09:21:29.568Z"
   },
   {
    "duration": 3,
    "start_time": "2021-11-16T09:24:14.495Z"
   },
   {
    "duration": 120,
    "start_time": "2021-11-16T09:24:46.630Z"
   },
   {
    "duration": 3,
    "start_time": "2021-11-16T09:28:27.882Z"
   },
   {
    "duration": 4,
    "start_time": "2021-11-16T09:29:54.281Z"
   },
   {
    "duration": 3,
    "start_time": "2021-11-16T09:30:45.936Z"
   },
   {
    "duration": 4,
    "start_time": "2021-11-16T09:31:06.300Z"
   },
   {
    "duration": 113,
    "start_time": "2021-11-16T09:31:37.208Z"
   },
   {
    "duration": 143,
    "start_time": "2021-11-16T09:31:48.656Z"
   },
   {
    "duration": 98,
    "start_time": "2021-11-16T09:31:55.678Z"
   },
   {
    "duration": 3,
    "start_time": "2021-11-16T09:32:08.535Z"
   },
   {
    "duration": 111,
    "start_time": "2021-11-16T09:32:10.120Z"
   },
   {
    "duration": 3,
    "start_time": "2021-11-16T09:32:15.732Z"
   },
   {
    "duration": 4,
    "start_time": "2021-11-16T09:32:29.423Z"
   },
   {
    "duration": 3,
    "start_time": "2021-11-16T10:03:03.074Z"
   },
   {
    "duration": 3,
    "start_time": "2021-11-16T10:10:01.288Z"
   },
   {
    "duration": 3,
    "start_time": "2021-11-16T10:10:46.923Z"
   },
   {
    "duration": 121,
    "start_time": "2021-11-16T10:37:46.494Z"
   },
   {
    "duration": 125,
    "start_time": "2021-11-16T10:38:20.632Z"
   },
   {
    "duration": 112,
    "start_time": "2021-11-16T10:46:53.001Z"
   },
   {
    "duration": 110,
    "start_time": "2021-11-16T10:48:25.775Z"
   },
   {
    "duration": 3,
    "start_time": "2021-11-16T10:50:18.720Z"
   },
   {
    "duration": 4,
    "start_time": "2021-11-16T10:50:37.649Z"
   },
   {
    "duration": 2,
    "start_time": "2021-11-16T10:50:51.884Z"
   },
   {
    "duration": 3,
    "start_time": "2021-11-16T10:51:56.237Z"
   },
   {
    "duration": 101,
    "start_time": "2021-11-16T10:53:13.791Z"
   },
   {
    "duration": 3,
    "start_time": "2021-11-16T10:55:59.186Z"
   },
   {
    "duration": 3,
    "start_time": "2021-11-16T10:56:10.751Z"
   },
   {
    "duration": 3,
    "start_time": "2021-11-16T10:56:49.038Z"
   },
   {
    "duration": 3,
    "start_time": "2021-11-16T10:56:49.174Z"
   },
   {
    "duration": 4,
    "start_time": "2021-11-16T10:56:49.414Z"
   },
   {
    "duration": 3,
    "start_time": "2021-11-16T10:56:49.680Z"
   },
   {
    "duration": 3,
    "start_time": "2021-11-16T10:56:50.370Z"
   },
   {
    "duration": 114,
    "start_time": "2021-11-16T10:59:34.518Z"
   },
   {
    "duration": 3,
    "start_time": "2021-11-16T11:01:41.201Z"
   },
   {
    "duration": 116,
    "start_time": "2021-11-16T11:01:48.754Z"
   },
   {
    "duration": 3,
    "start_time": "2021-11-16T11:02:16.685Z"
   },
   {
    "duration": 3,
    "start_time": "2021-11-16T11:02:19.479Z"
   },
   {
    "duration": 3,
    "start_time": "2021-11-16T11:02:47.067Z"
   },
   {
    "duration": 3,
    "start_time": "2021-11-16T11:02:49.353Z"
   },
   {
    "duration": 3,
    "start_time": "2021-11-16T11:03:07.835Z"
   },
   {
    "duration": 3,
    "start_time": "2021-11-16T11:03:07.953Z"
   },
   {
    "duration": 112,
    "start_time": "2021-11-16T11:07:52.072Z"
   },
   {
    "duration": 187,
    "start_time": "2021-11-16T11:09:23.468Z"
   },
   {
    "duration": 4,
    "start_time": "2021-11-16T11:10:01.455Z"
   },
   {
    "duration": 3,
    "start_time": "2021-11-16T11:10:05.069Z"
   },
   {
    "duration": 4,
    "start_time": "2021-11-16T11:10:13.376Z"
   },
   {
    "duration": 3,
    "start_time": "2021-11-16T11:10:14.434Z"
   },
   {
    "duration": 3,
    "start_time": "2021-11-16T11:10:22.853Z"
   },
   {
    "duration": 4,
    "start_time": "2021-11-16T11:27:29.279Z"
   },
   {
    "duration": 4,
    "start_time": "2021-11-16T11:29:08.919Z"
   },
   {
    "duration": 118,
    "start_time": "2021-11-16T11:29:46.703Z"
   },
   {
    "duration": 437,
    "start_time": "2021-11-16T11:36:02.181Z"
   },
   {
    "duration": 157,
    "start_time": "2021-11-16T11:36:14.388Z"
   },
   {
    "duration": 207,
    "start_time": "2021-11-16T11:47:15.898Z"
   },
   {
    "duration": 3,
    "start_time": "2021-11-16T11:53:52.092Z"
   },
   {
    "duration": 3,
    "start_time": "2021-11-16T11:53:52.236Z"
   },
   {
    "duration": 3,
    "start_time": "2021-11-16T11:59:12.005Z"
   },
   {
    "duration": 112,
    "start_time": "2021-11-16T12:00:33.446Z"
   },
   {
    "duration": 3,
    "start_time": "2021-11-16T12:02:14.453Z"
   },
   {
    "duration": 3,
    "start_time": "2021-11-16T12:02:39.512Z"
   },
   {
    "duration": 106,
    "start_time": "2021-11-16T12:03:03.460Z"
   },
   {
    "duration": 3,
    "start_time": "2021-11-17T20:37:21.139Z"
   },
   {
    "duration": 3,
    "start_time": "2021-11-17T20:37:22.229Z"
   },
   {
    "duration": 3,
    "start_time": "2021-11-17T20:38:38.806Z"
   },
   {
    "duration": 3,
    "start_time": "2021-11-17T20:38:41.958Z"
   },
   {
    "duration": 3,
    "start_time": "2021-11-17T20:43:46.551Z"
   },
   {
    "duration": 4,
    "start_time": "2021-11-17T20:58:21.835Z"
   },
   {
    "duration": 3,
    "start_time": "2021-11-17T20:59:21.872Z"
   },
   {
    "duration": 4,
    "start_time": "2021-11-17T20:59:45.352Z"
   },
   {
    "duration": 4,
    "start_time": "2021-11-17T20:59:49.646Z"
   },
   {
    "duration": 159,
    "start_time": "2021-11-17T21:02:26.949Z"
   },
   {
    "duration": 3,
    "start_time": "2021-11-17T21:03:53.461Z"
   },
   {
    "duration": 3,
    "start_time": "2021-11-17T21:03:53.694Z"
   },
   {
    "duration": 3,
    "start_time": "2021-11-17T21:05:28.145Z"
   },
   {
    "duration": 116,
    "start_time": "2021-11-17T21:05:57.787Z"
   },
   {
    "duration": 3,
    "start_time": "2021-11-17T21:06:37.993Z"
   },
   {
    "duration": 3,
    "start_time": "2021-11-17T21:06:38.261Z"
   },
   {
    "duration": 3,
    "start_time": "2021-11-17T21:11:54.358Z"
   },
   {
    "duration": 3,
    "start_time": "2021-11-17T21:12:43.846Z"
   },
   {
    "duration": 4,
    "start_time": "2021-11-17T21:13:08.773Z"
   },
   {
    "duration": 3,
    "start_time": "2021-11-17T21:14:44.441Z"
   },
   {
    "duration": 3,
    "start_time": "2021-11-17T21:15:42.059Z"
   },
   {
    "duration": 4,
    "start_time": "2021-11-17T21:15:51.995Z"
   },
   {
    "duration": 3,
    "start_time": "2021-11-17T21:15:53.923Z"
   },
   {
    "duration": 3,
    "start_time": "2021-11-17T21:15:55.282Z"
   },
   {
    "duration": 3,
    "start_time": "2021-11-17T21:16:28.492Z"
   },
   {
    "duration": 3,
    "start_time": "2021-11-17T21:16:32.603Z"
   },
   {
    "duration": 3,
    "start_time": "2021-11-17T21:17:06.941Z"
   },
   {
    "duration": 98,
    "start_time": "2021-11-17T21:18:05.733Z"
   },
   {
    "duration": 4,
    "start_time": "2021-11-17T21:21:35.255Z"
   },
   {
    "duration": 3,
    "start_time": "2021-11-17T21:21:37.804Z"
   },
   {
    "duration": 4,
    "start_time": "2021-11-17T21:23:06.071Z"
   },
   {
    "duration": 3,
    "start_time": "2021-11-17T21:23:24.799Z"
   },
   {
    "duration": 3,
    "start_time": "2021-11-17T21:23:32.591Z"
   },
   {
    "duration": 98,
    "start_time": "2021-11-17T21:28:31.559Z"
   },
   {
    "duration": 3,
    "start_time": "2021-11-17T21:28:45.448Z"
   },
   {
    "duration": 3,
    "start_time": "2021-11-17T21:29:17.303Z"
   },
   {
    "duration": 3,
    "start_time": "2021-11-17T21:29:29.617Z"
   },
   {
    "duration": 3,
    "start_time": "2021-11-17T21:29:32.681Z"
   },
   {
    "duration": 3,
    "start_time": "2021-11-17T21:36:11.474Z"
   },
   {
    "duration": 3,
    "start_time": "2021-11-17T21:36:14.791Z"
   },
   {
    "duration": 3,
    "start_time": "2021-11-17T21:36:53.943Z"
   },
   {
    "duration": 3,
    "start_time": "2021-11-17T21:36:56.165Z"
   },
   {
    "duration": 4,
    "start_time": "2021-11-17T21:37:16.590Z"
   },
   {
    "duration": 3,
    "start_time": "2021-11-17T21:37:22.702Z"
   },
   {
    "duration": 4,
    "start_time": "2021-11-17T21:38:03.479Z"
   },
   {
    "duration": 3,
    "start_time": "2021-11-17T21:38:08.601Z"
   },
   {
    "duration": 3,
    "start_time": "2021-11-17T21:38:12.928Z"
   },
   {
    "duration": 3,
    "start_time": "2021-11-17T21:38:48.896Z"
   },
   {
    "duration": 2,
    "start_time": "2021-11-17T21:38:49.171Z"
   },
   {
    "duration": 4,
    "start_time": "2021-11-17T21:39:57.889Z"
   },
   {
    "duration": 3,
    "start_time": "2021-11-17T21:39:58.057Z"
   },
   {
    "duration": 3,
    "start_time": "2021-11-17T21:41:20.108Z"
   },
   {
    "duration": 3,
    "start_time": "2021-11-17T21:41:20.629Z"
   },
   {
    "duration": 3,
    "start_time": "2021-11-17T21:42:49.136Z"
   },
   {
    "duration": 3,
    "start_time": "2021-11-17T21:43:15.137Z"
   },
   {
    "duration": 4,
    "start_time": "2021-11-17T21:43:16.766Z"
   },
   {
    "duration": 4,
    "start_time": "2021-11-17T21:43:31.711Z"
   },
   {
    "duration": 3,
    "start_time": "2021-11-17T21:43:36.312Z"
   },
   {
    "duration": 4,
    "start_time": "2021-11-17T21:45:08.825Z"
   },
   {
    "duration": 4,
    "start_time": "2021-11-17T21:45:10.119Z"
   },
   {
    "duration": 4,
    "start_time": "2021-11-17T21:45:13.748Z"
   },
   {
    "duration": 3,
    "start_time": "2021-11-17T21:45:22.219Z"
   },
   {
    "duration": 3,
    "start_time": "2021-11-17T21:45:33.412Z"
   },
   {
    "duration": 2,
    "start_time": "2021-11-17T21:46:01.885Z"
   },
   {
    "duration": 3,
    "start_time": "2021-11-17T21:46:03.628Z"
   },
   {
    "duration": 107,
    "start_time": "2021-11-17T21:47:32.512Z"
   },
   {
    "duration": 103,
    "start_time": "2021-11-17T21:50:36.243Z"
   },
   {
    "duration": 3,
    "start_time": "2021-11-18T06:28:31.440Z"
   },
   {
    "duration": 3,
    "start_time": "2021-11-18T06:29:00.168Z"
   },
   {
    "duration": 3,
    "start_time": "2021-11-18T06:31:27.008Z"
   },
   {
    "duration": 2,
    "start_time": "2021-11-18T06:35:34.288Z"
   },
   {
    "duration": 2,
    "start_time": "2021-11-18T06:38:04.527Z"
   }
  ],
  "kernelspec": {
   "display_name": "Python 3 (ipykernel)",
   "language": "python",
   "name": "python3"
  },
  "language_info": {
   "codemirror_mode": {
    "name": "ipython",
    "version": 3
   },
   "file_extension": ".py",
   "mimetype": "text/x-python",
   "name": "python",
   "nbconvert_exporter": "python",
   "pygments_lexer": "ipython3",
   "version": "3.9.5"
  },
  "toc": {
   "base_numbering": 1,
   "nav_menu": {},
   "number_sections": true,
   "sideBar": true,
   "skip_h1_title": false,
   "title_cell": "Table of Contents",
   "title_sidebar": "Contents",
   "toc_cell": false,
   "toc_position": {
    "height": "calc(100% - 180px)",
    "left": "10px",
    "top": "150px",
    "width": "330.125px"
   },
   "toc_section_display": true,
   "toc_window_display": true
  }
 },
 "nbformat": 4,
 "nbformat_minor": 2
}
