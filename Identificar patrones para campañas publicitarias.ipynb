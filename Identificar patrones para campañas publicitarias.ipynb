{
 "cells": [
  {
   "cell_type": "markdown",
   "id": "14af2f1c",
   "metadata": {},
   "source": [
    "# Descripción del Proyecto"
   ]
  },
  {
   "cell_type": "markdown",
   "id": "9d159751",
   "metadata": {},
   "source": [
    "Trabajas para la tienda online Ice que vende videojuegos por todo el mundo. Las reseñas de usuarios y expertos, los géneros, las plataformas (por ejemplo, Xbox o PlayStation) y los datos históricos sobre las ventas de juegos están disponibles en fuentes abiertas. Tienes que identificar patrones que determinen si un juego tiene éxito o no. Esto te permitirá detectar proyectos prometedores y planificar campañas publicitarias.\n",
    "Delante de ti hay datos que se remontan a 2016. Imaginemos que es diciembre de 2016 y estás planeando una campaña para 2017.\n",
    "(Lo importante es adquirir experiencia de trabajo con datos. Realmente no importa si estás pronosticando las ventas de 2017 en función de los datos de 2016 o las ventas de 2027 en función de los datos de 2026.)\n",
    "El dataset contiene la abreviatura ESRB. The Entertainment Software Rating Board (la Junta de clasificación de software de entretenimiento) evalúa el contenido de un juego y asigna una clasificación de edad como Adolescente o Adulto.\n"
   ]
  },
  {
   "cell_type": "markdown",
   "id": "e13d99d8",
   "metadata": {},
   "source": [
    "# Tabla de contenido\n",
    "\n",
    "- [Instrucciones para completar el proyecto](#instrucciones-para-completar-el-proyecto)\n",
    "- [Paso 2. Prepara los datos](#paso-2-prepara-los-datos)\n",
    "- [Paso 3. Analiza los datos](#paso-3-analiza-los-datos)\n",
    "- [Paso 4. Crea un perfil de usuario para cada región](#paso-4-crea-un-perfil-de-usuario-para-cada-región)\n",
    "- [Paso 5. Prueba las siguientes hipótesis](#paso-5-prueba-las-siguientes-hipótesis)\n",
    "- [Paso 6. Escribe una conclusión general](#paso-6-escribe-una-conclusión-general)\n",
    "- [Explicaciones](#explicaciones)"
   ]
  },
  {
   "cell_type": "markdown",
   "id": "41384a6d",
   "metadata": {},
   "source": [
    "# Introducción"
   ]
  },
  {
   "cell_type": "markdown",
   "id": "03ca5734",
   "metadata": {},
   "source": [
    "La tienda online Ice que vende videojuegos por todo el mundo. Las reseñas de usuarios y expertos, los géneros, las plataformas (por ejemplo, Xbox o PlayStation) y los datos históricos sobre las ventas de juegos están disponibles en fuentes abiertas.\n",
    "\n",
    "Vamos a identificar patrones que determinen si un juego tiene éxito o no. Esto te permitirá detectar proyectos prometedores y planificar campañas publicitarias.\n",
    "\n",
    "Tenemos datos que se remontan a 2016, es diciembre de 2016 y se planea una campaña para 2017.\n",
    "\n",
    "El dataset contiene la abreviatura ESRB. The Entertainment Software Rating Board (la Junta de clasificación de software de entretenimiento) evalúa el contenido de un juego y asigna una clasificación de edad como Adolescente o Adulto."
   ]
  },
  {
   "cell_type": "markdown",
   "id": "c36168e3",
   "metadata": {},
   "source": [
    "# Paso 1. Abre el archivo de datos y estudia la información general\n"
   ]
  },
  {
   "cell_type": "code",
   "execution_count": 1,
   "id": "5ce02b4f",
   "metadata": {},
   "outputs": [],
   "source": [
    "import pandas as pd\n",
    "\n",
    "import numpy as np\n",
    "\n",
    "import math\n",
    "\n",
    "import os\n",
    "\n",
    "import matplotlib.pyplot as plt\n",
    "\n",
    "import seaborn as sns\n",
    "\n",
    "import scipy.stats as stats"
   ]
  },
  {
   "cell_type": "code",
   "execution_count": 2,
   "id": "1a30f230",
   "metadata": {},
   "outputs": [],
   "source": [
    "df_general= pd.read_csv('/datasets/games.csv')"
   ]
  },
  {
   "cell_type": "code",
   "execution_count": 3,
   "id": "00c05e9e",
   "metadata": {},
   "outputs": [
    {
     "name": "stdout",
     "output_type": "stream",
     "text": [
      "<class 'pandas.core.frame.DataFrame'>\n",
      "RangeIndex: 16715 entries, 0 to 16714\n",
      "Data columns (total 11 columns):\n",
      " #   Column           Non-Null Count  Dtype  \n",
      "---  ------           --------------  -----  \n",
      " 0   Name             16713 non-null  object \n",
      " 1   Platform         16715 non-null  object \n",
      " 2   Year_of_Release  16446 non-null  float64\n",
      " 3   Genre            16713 non-null  object \n",
      " 4   NA_sales         16715 non-null  float64\n",
      " 5   EU_sales         16715 non-null  float64\n",
      " 6   JP_sales         16715 non-null  float64\n",
      " 7   Other_sales      16715 non-null  float64\n",
      " 8   Critic_Score     8137 non-null   float64\n",
      " 9   User_Score       10014 non-null  object \n",
      " 10  Rating           9949 non-null   object \n",
      "dtypes: float64(6), object(5)\n",
      "memory usage: 1.4+ MB\n",
      "None\n"
     ]
    }
   ],
   "source": [
    "print(df_general.info())"
   ]
  },
  {
   "cell_type": "code",
   "execution_count": 4,
   "id": "d87e5c40",
   "metadata": {},
   "outputs": [
    {
     "data": {
      "text/html": [
       "<div>\n",
       "<style scoped>\n",
       "    .dataframe tbody tr th:only-of-type {\n",
       "        vertical-align: middle;\n",
       "    }\n",
       "\n",
       "    .dataframe tbody tr th {\n",
       "        vertical-align: top;\n",
       "    }\n",
       "\n",
       "    .dataframe thead th {\n",
       "        text-align: right;\n",
       "    }\n",
       "</style>\n",
       "<table border=\"1\" class=\"dataframe\">\n",
       "  <thead>\n",
       "    <tr style=\"text-align: right;\">\n",
       "      <th></th>\n",
       "      <th>Name</th>\n",
       "      <th>Platform</th>\n",
       "      <th>Year_of_Release</th>\n",
       "      <th>Genre</th>\n",
       "      <th>NA_sales</th>\n",
       "      <th>EU_sales</th>\n",
       "      <th>JP_sales</th>\n",
       "      <th>Other_sales</th>\n",
       "      <th>Critic_Score</th>\n",
       "      <th>User_Score</th>\n",
       "      <th>Rating</th>\n",
       "    </tr>\n",
       "  </thead>\n",
       "  <tbody>\n",
       "    <tr>\n",
       "      <th>0</th>\n",
       "      <td>Wii Sports</td>\n",
       "      <td>Wii</td>\n",
       "      <td>2006.0</td>\n",
       "      <td>Sports</td>\n",
       "      <td>41.36</td>\n",
       "      <td>28.96</td>\n",
       "      <td>3.77</td>\n",
       "      <td>8.45</td>\n",
       "      <td>76.0</td>\n",
       "      <td>8</td>\n",
       "      <td>E</td>\n",
       "    </tr>\n",
       "    <tr>\n",
       "      <th>1</th>\n",
       "      <td>Super Mario Bros.</td>\n",
       "      <td>NES</td>\n",
       "      <td>1985.0</td>\n",
       "      <td>Platform</td>\n",
       "      <td>29.08</td>\n",
       "      <td>3.58</td>\n",
       "      <td>6.81</td>\n",
       "      <td>0.77</td>\n",
       "      <td>NaN</td>\n",
       "      <td>NaN</td>\n",
       "      <td>NaN</td>\n",
       "    </tr>\n",
       "    <tr>\n",
       "      <th>2</th>\n",
       "      <td>Mario Kart Wii</td>\n",
       "      <td>Wii</td>\n",
       "      <td>2008.0</td>\n",
       "      <td>Racing</td>\n",
       "      <td>15.68</td>\n",
       "      <td>12.76</td>\n",
       "      <td>3.79</td>\n",
       "      <td>3.29</td>\n",
       "      <td>82.0</td>\n",
       "      <td>8.3</td>\n",
       "      <td>E</td>\n",
       "    </tr>\n",
       "    <tr>\n",
       "      <th>3</th>\n",
       "      <td>Wii Sports Resort</td>\n",
       "      <td>Wii</td>\n",
       "      <td>2009.0</td>\n",
       "      <td>Sports</td>\n",
       "      <td>15.61</td>\n",
       "      <td>10.93</td>\n",
       "      <td>3.28</td>\n",
       "      <td>2.95</td>\n",
       "      <td>80.0</td>\n",
       "      <td>8</td>\n",
       "      <td>E</td>\n",
       "    </tr>\n",
       "    <tr>\n",
       "      <th>4</th>\n",
       "      <td>Pokemon Red/Pokemon Blue</td>\n",
       "      <td>GB</td>\n",
       "      <td>1996.0</td>\n",
       "      <td>Role-Playing</td>\n",
       "      <td>11.27</td>\n",
       "      <td>8.89</td>\n",
       "      <td>10.22</td>\n",
       "      <td>1.00</td>\n",
       "      <td>NaN</td>\n",
       "      <td>NaN</td>\n",
       "      <td>NaN</td>\n",
       "    </tr>\n",
       "  </tbody>\n",
       "</table>\n",
       "</div>"
      ],
      "text/plain": [
       "                       Name Platform  Year_of_Release         Genre  NA_sales  \\\n",
       "0                Wii Sports      Wii           2006.0        Sports     41.36   \n",
       "1         Super Mario Bros.      NES           1985.0      Platform     29.08   \n",
       "2            Mario Kart Wii      Wii           2008.0        Racing     15.68   \n",
       "3         Wii Sports Resort      Wii           2009.0        Sports     15.61   \n",
       "4  Pokemon Red/Pokemon Blue       GB           1996.0  Role-Playing     11.27   \n",
       "\n",
       "   EU_sales  JP_sales  Other_sales  Critic_Score User_Score Rating  \n",
       "0     28.96      3.77         8.45          76.0          8      E  \n",
       "1      3.58      6.81         0.77           NaN        NaN    NaN  \n",
       "2     12.76      3.79         3.29          82.0        8.3      E  \n",
       "3     10.93      3.28         2.95          80.0          8      E  \n",
       "4      8.89     10.22         1.00           NaN        NaN    NaN  "
      ]
     },
     "metadata": {},
     "output_type": "display_data"
    }
   ],
   "source": [
    "display(df_general.head())"
   ]
  },
  {
   "cell_type": "markdown",
   "id": "2f534c28",
   "metadata": {},
   "source": [
    "# Paso 2. Prepara los datos\n"
   ]
  },
  {
   "cell_type": "code",
   "execution_count": 5,
   "id": "d9f952e0",
   "metadata": {},
   "outputs": [
    {
     "data": {
      "text/html": [
       "<div>\n",
       "<style scoped>\n",
       "    .dataframe tbody tr th:only-of-type {\n",
       "        vertical-align: middle;\n",
       "    }\n",
       "\n",
       "    .dataframe tbody tr th {\n",
       "        vertical-align: top;\n",
       "    }\n",
       "\n",
       "    .dataframe thead th {\n",
       "        text-align: right;\n",
       "    }\n",
       "</style>\n",
       "<table border=\"1\" class=\"dataframe\">\n",
       "  <thead>\n",
       "    <tr style=\"text-align: right;\">\n",
       "      <th></th>\n",
       "      <th>name</th>\n",
       "      <th>platform</th>\n",
       "      <th>year_of_release</th>\n",
       "      <th>genre</th>\n",
       "      <th>na_sales</th>\n",
       "      <th>eu_sales</th>\n",
       "      <th>jp_sales</th>\n",
       "      <th>other_sales</th>\n",
       "      <th>critic_score</th>\n",
       "      <th>user_score</th>\n",
       "      <th>rating</th>\n",
       "    </tr>\n",
       "  </thead>\n",
       "  <tbody>\n",
       "    <tr>\n",
       "      <th>0</th>\n",
       "      <td>Wii Sports</td>\n",
       "      <td>Wii</td>\n",
       "      <td>2006.0</td>\n",
       "      <td>Sports</td>\n",
       "      <td>41.36</td>\n",
       "      <td>28.96</td>\n",
       "      <td>3.77</td>\n",
       "      <td>8.45</td>\n",
       "      <td>76.0</td>\n",
       "      <td>8</td>\n",
       "      <td>E</td>\n",
       "    </tr>\n",
       "    <tr>\n",
       "      <th>1</th>\n",
       "      <td>Super Mario Bros.</td>\n",
       "      <td>NES</td>\n",
       "      <td>1985.0</td>\n",
       "      <td>Platform</td>\n",
       "      <td>29.08</td>\n",
       "      <td>3.58</td>\n",
       "      <td>6.81</td>\n",
       "      <td>0.77</td>\n",
       "      <td>NaN</td>\n",
       "      <td>NaN</td>\n",
       "      <td>NaN</td>\n",
       "    </tr>\n",
       "    <tr>\n",
       "      <th>2</th>\n",
       "      <td>Mario Kart Wii</td>\n",
       "      <td>Wii</td>\n",
       "      <td>2008.0</td>\n",
       "      <td>Racing</td>\n",
       "      <td>15.68</td>\n",
       "      <td>12.76</td>\n",
       "      <td>3.79</td>\n",
       "      <td>3.29</td>\n",
       "      <td>82.0</td>\n",
       "      <td>8.3</td>\n",
       "      <td>E</td>\n",
       "    </tr>\n",
       "    <tr>\n",
       "      <th>3</th>\n",
       "      <td>Wii Sports Resort</td>\n",
       "      <td>Wii</td>\n",
       "      <td>2009.0</td>\n",
       "      <td>Sports</td>\n",
       "      <td>15.61</td>\n",
       "      <td>10.93</td>\n",
       "      <td>3.28</td>\n",
       "      <td>2.95</td>\n",
       "      <td>80.0</td>\n",
       "      <td>8</td>\n",
       "      <td>E</td>\n",
       "    </tr>\n",
       "    <tr>\n",
       "      <th>4</th>\n",
       "      <td>Pokemon Red/Pokemon Blue</td>\n",
       "      <td>GB</td>\n",
       "      <td>1996.0</td>\n",
       "      <td>Role-Playing</td>\n",
       "      <td>11.27</td>\n",
       "      <td>8.89</td>\n",
       "      <td>10.22</td>\n",
       "      <td>1.00</td>\n",
       "      <td>NaN</td>\n",
       "      <td>NaN</td>\n",
       "      <td>NaN</td>\n",
       "    </tr>\n",
       "  </tbody>\n",
       "</table>\n",
       "</div>"
      ],
      "text/plain": [
       "                       name platform  year_of_release         genre  na_sales  \\\n",
       "0                Wii Sports      Wii           2006.0        Sports     41.36   \n",
       "1         Super Mario Bros.      NES           1985.0      Platform     29.08   \n",
       "2            Mario Kart Wii      Wii           2008.0        Racing     15.68   \n",
       "3         Wii Sports Resort      Wii           2009.0        Sports     15.61   \n",
       "4  Pokemon Red/Pokemon Blue       GB           1996.0  Role-Playing     11.27   \n",
       "\n",
       "   eu_sales  jp_sales  other_sales  critic_score user_score rating  \n",
       "0     28.96      3.77         8.45          76.0          8      E  \n",
       "1      3.58      6.81         0.77           NaN        NaN    NaN  \n",
       "2     12.76      3.79         3.29          82.0        8.3      E  \n",
       "3     10.93      3.28         2.95          80.0          8      E  \n",
       "4      8.89     10.22         1.00           NaN        NaN    NaN  "
      ]
     },
     "metadata": {},
     "output_type": "display_data"
    }
   ],
   "source": [
    "#Reemplaza los nombres de las columnas (ponlos en minúsculas).\n",
    "df_general.columns = df_general.columns.str.lower()\n",
    "display(df_general.head())"
   ]
  },
  {
   "cell_type": "code",
   "execution_count": 6,
   "id": "74071d3f",
   "metadata": {},
   "outputs": [],
   "source": [
    "#Convierte los datos en los tipos necesarios.\n",
    "#Year_of_Release to int\n",
    "df_general['year_of_release'] = df_general['year_of_release'].fillna(0).astype(int)"
   ]
  },
  {
   "cell_type": "code",
   "execution_count": 7,
   "id": "1f50bdf1",
   "metadata": {},
   "outputs": [],
   "source": [
    "df_general['user_score'] = df_general['user_score'].replace('tbd', np.nan)\n",
    "df_general['user_score'] = df_general['user_score'].astype(float)"
   ]
  },
  {
   "cell_type": "markdown",
   "id": "f73aa362",
   "metadata": {},
   "source": [
    "### Describe las columnas en las que los tipos de datos han sido cambiados y explica por qué.\n"
   ]
  },
  {
   "cell_type": "markdown",
   "id": "153beb33",
   "metadata": {},
   "source": [
    "Convertimos la columna year_of_release a numeros enteros, pues no tiene sentido el .0 ademas se vuelve mas practico el analisis de los datos"
   ]
  },
  {
   "cell_type": "code",
   "execution_count": 8,
   "id": "7c91ff59",
   "metadata": {},
   "outputs": [
    {
     "name": "stdout",
     "output_type": "stream",
     "text": [
      "0    8.0\n",
      "1    NaN\n",
      "2    8.3\n",
      "3    8.0\n",
      "4    NaN\n",
      "5    NaN\n",
      "6    8.5\n",
      "7    6.6\n",
      "8    8.4\n",
      "9    NaN\n",
      "Name: user_score, dtype: float64\n"
     ]
    }
   ],
   "source": [
    "#Si es necesario, elige la manera de tratar los valores ausentes:\n",
    "print(df_general['user_score'].head(10))"
   ]
  },
  {
   "cell_type": "code",
   "execution_count": 9,
   "id": "d8c78071",
   "metadata": {},
   "outputs": [
    {
     "data": {
      "text/html": [
       "<div>\n",
       "<style scoped>\n",
       "    .dataframe tbody tr th:only-of-type {\n",
       "        vertical-align: middle;\n",
       "    }\n",
       "\n",
       "    .dataframe tbody tr th {\n",
       "        vertical-align: top;\n",
       "    }\n",
       "\n",
       "    .dataframe thead th {\n",
       "        text-align: right;\n",
       "    }\n",
       "</style>\n",
       "<table border=\"1\" class=\"dataframe\">\n",
       "  <thead>\n",
       "    <tr style=\"text-align: right;\">\n",
       "      <th></th>\n",
       "      <th>name</th>\n",
       "      <th>platform</th>\n",
       "      <th>year_of_release</th>\n",
       "      <th>genre</th>\n",
       "      <th>na_sales</th>\n",
       "      <th>eu_sales</th>\n",
       "      <th>jp_sales</th>\n",
       "      <th>other_sales</th>\n",
       "      <th>critic_score</th>\n",
       "      <th>user_score</th>\n",
       "      <th>rating</th>\n",
       "      <th>user_score_missing</th>\n",
       "      <th>total_values</th>\n",
       "      <th>missing_percent</th>\n",
       "    </tr>\n",
       "  </thead>\n",
       "  <tbody>\n",
       "    <tr>\n",
       "      <th>0</th>\n",
       "      <td>Wii Sports</td>\n",
       "      <td>Wii</td>\n",
       "      <td>2006</td>\n",
       "      <td>Sports</td>\n",
       "      <td>41.36</td>\n",
       "      <td>28.96</td>\n",
       "      <td>3.77</td>\n",
       "      <td>8.45</td>\n",
       "      <td>76.0</td>\n",
       "      <td>8.0</td>\n",
       "      <td>E</td>\n",
       "      <td>False</td>\n",
       "      <td>16715</td>\n",
       "      <td>54.591684</td>\n",
       "    </tr>\n",
       "    <tr>\n",
       "      <th>1</th>\n",
       "      <td>Super Mario Bros.</td>\n",
       "      <td>NES</td>\n",
       "      <td>1985</td>\n",
       "      <td>Platform</td>\n",
       "      <td>29.08</td>\n",
       "      <td>3.58</td>\n",
       "      <td>6.81</td>\n",
       "      <td>0.77</td>\n",
       "      <td>NaN</td>\n",
       "      <td>NaN</td>\n",
       "      <td>NaN</td>\n",
       "      <td>True</td>\n",
       "      <td>16715</td>\n",
       "      <td>54.591684</td>\n",
       "    </tr>\n",
       "    <tr>\n",
       "      <th>2</th>\n",
       "      <td>Mario Kart Wii</td>\n",
       "      <td>Wii</td>\n",
       "      <td>2008</td>\n",
       "      <td>Racing</td>\n",
       "      <td>15.68</td>\n",
       "      <td>12.76</td>\n",
       "      <td>3.79</td>\n",
       "      <td>3.29</td>\n",
       "      <td>82.0</td>\n",
       "      <td>8.3</td>\n",
       "      <td>E</td>\n",
       "      <td>False</td>\n",
       "      <td>16715</td>\n",
       "      <td>54.591684</td>\n",
       "    </tr>\n",
       "    <tr>\n",
       "      <th>3</th>\n",
       "      <td>Wii Sports Resort</td>\n",
       "      <td>Wii</td>\n",
       "      <td>2009</td>\n",
       "      <td>Sports</td>\n",
       "      <td>15.61</td>\n",
       "      <td>10.93</td>\n",
       "      <td>3.28</td>\n",
       "      <td>2.95</td>\n",
       "      <td>80.0</td>\n",
       "      <td>8.0</td>\n",
       "      <td>E</td>\n",
       "      <td>False</td>\n",
       "      <td>16715</td>\n",
       "      <td>54.591684</td>\n",
       "    </tr>\n",
       "    <tr>\n",
       "      <th>4</th>\n",
       "      <td>Pokemon Red/Pokemon Blue</td>\n",
       "      <td>GB</td>\n",
       "      <td>1996</td>\n",
       "      <td>Role-Playing</td>\n",
       "      <td>11.27</td>\n",
       "      <td>8.89</td>\n",
       "      <td>10.22</td>\n",
       "      <td>1.00</td>\n",
       "      <td>NaN</td>\n",
       "      <td>NaN</td>\n",
       "      <td>NaN</td>\n",
       "      <td>True</td>\n",
       "      <td>16715</td>\n",
       "      <td>54.591684</td>\n",
       "    </tr>\n",
       "  </tbody>\n",
       "</table>\n",
       "</div>"
      ],
      "text/plain": [
       "                       name platform  year_of_release         genre  na_sales  \\\n",
       "0                Wii Sports      Wii             2006        Sports     41.36   \n",
       "1         Super Mario Bros.      NES             1985      Platform     29.08   \n",
       "2            Mario Kart Wii      Wii             2008        Racing     15.68   \n",
       "3         Wii Sports Resort      Wii             2009        Sports     15.61   \n",
       "4  Pokemon Red/Pokemon Blue       GB             1996  Role-Playing     11.27   \n",
       "\n",
       "   eu_sales  jp_sales  other_sales  critic_score  user_score rating  \\\n",
       "0     28.96      3.77         8.45          76.0         8.0      E   \n",
       "1      3.58      6.81         0.77           NaN         NaN    NaN   \n",
       "2     12.76      3.79         3.29          82.0         8.3      E   \n",
       "3     10.93      3.28         2.95          80.0         8.0      E   \n",
       "4      8.89     10.22         1.00           NaN         NaN    NaN   \n",
       "\n",
       "   user_score_missing  total_values  missing_percent  \n",
       "0               False         16715        54.591684  \n",
       "1                True         16715        54.591684  \n",
       "2               False         16715        54.591684  \n",
       "3               False         16715        54.591684  \n",
       "4                True         16715        54.591684  "
      ]
     },
     "metadata": {},
     "output_type": "display_data"
    }
   ],
   "source": [
    "#valores faltantes\n",
    "df_general['user_score_missing'] = df_general['user_score'].isnull()\n",
    "\n",
    "#total\n",
    "df_general['total_values'] = len(df_general)\n",
    "\n",
    "# porcentaje de valores faltantes\n",
    "df_general['missing_percent'] = df_general['user_score'].isnull().sum() / len(df_general) * 100\n",
    "\n",
    "display(df_general.head())"
   ]
  },
  {
   "cell_type": "markdown",
   "id": "f56aba1e",
   "metadata": {},
   "source": [
    "|          | missing | total  | percent  |\n",
    "|----------|---------|--------|----------|\n",
    "| Critic_Score   | 8,578   | 16,715 | 51.32%   |\n",
    "| Rating   | 6,766   | 16,715 | 40.48%   |\n",
    "| User_Score | 6,701   | 16,715 | 40.09%   |\n",
    "| Year_of_Release   | 269     | 16,715 | 1.61%    |\n",
    "| Name     | 2       | 16,715 | 0.01%    |\n",
    "| Genre    | 2       | 16,715 | 0.01%    |\n",
    "| Platform | 0       | 16,715 | 0.00%    |\n",
    "| NA_sales | 0       | 16,715 | 0.00%    |\n",
    "| EU_sales | 0       | 16,715 | 0.00%    |\n",
    "| JP_sales | 0       | 16,715 | 0.00%    |\n",
    "| Other_sales | 0     | 16,715 | 0.00%    |\n"
   ]
  },
  {
   "cell_type": "markdown",
   "id": "750b4975",
   "metadata": {},
   "source": [
    "Rellenamos valores ausente con la media de la columna para facilitar el manejo de los datos en procesos posteriores"
   ]
  },
  {
   "cell_type": "code",
   "execution_count": 10,
   "id": "74681030",
   "metadata": {},
   "outputs": [],
   "source": [
    "#Explica por qué rellenaste los valores ausentes como lo hiciste o por qué decidiste dejarlos en blanco.\n",
    "\n",
    "df_general['critic_score'] = df_general['critic_score'].fillna(df_general['critic_score'].mean())\n",
    "user_score_mean = df_general['user_score'].mean()\n",
    "df_general['user_score'] = df_general['user_score'].fillna(user_score_mean)"
   ]
  },
  {
   "cell_type": "code",
   "execution_count": 11,
   "id": "64a7fa9a",
   "metadata": {},
   "outputs": [
    {
     "name": "stdout",
     "output_type": "stream",
     "text": [
      "name                     2\n",
      "platform                 0\n",
      "year_of_release          0\n",
      "genre                    2\n",
      "na_sales                 0\n",
      "eu_sales                 0\n",
      "jp_sales                 0\n",
      "other_sales              0\n",
      "critic_score             0\n",
      "user_score               0\n",
      "rating                6766\n",
      "user_score_missing       0\n",
      "total_values             0\n",
      "missing_percent          0\n",
      "dtype: int64\n"
     ]
    }
   ],
   "source": [
    "print(df_general.isna().sum())"
   ]
  },
  {
   "cell_type": "code",
   "execution_count": 12,
   "id": "744c450d",
   "metadata": {},
   "outputs": [
    {
     "name": "stdout",
     "output_type": "stream",
     "text": [
      "<class 'pandas.core.frame.DataFrame'>\n",
      "RangeIndex: 16715 entries, 0 to 16714\n",
      "Data columns (total 14 columns):\n",
      " #   Column              Non-Null Count  Dtype  \n",
      "---  ------              --------------  -----  \n",
      " 0   name                16713 non-null  object \n",
      " 1   platform            16715 non-null  object \n",
      " 2   year_of_release     16715 non-null  int64  \n",
      " 3   genre               16713 non-null  object \n",
      " 4   na_sales            16715 non-null  float64\n",
      " 5   eu_sales            16715 non-null  float64\n",
      " 6   jp_sales            16715 non-null  float64\n",
      " 7   other_sales         16715 non-null  float64\n",
      " 8   critic_score        16715 non-null  float64\n",
      " 9   user_score          16715 non-null  float64\n",
      " 10  rating              9949 non-null   object \n",
      " 11  user_score_missing  16715 non-null  bool   \n",
      " 12  total_values        16715 non-null  int64  \n",
      " 13  missing_percent     16715 non-null  float64\n",
      "dtypes: bool(1), float64(7), int64(2), object(4)\n",
      "memory usage: 1.7+ MB\n",
      "None\n"
     ]
    }
   ],
   "source": [
    "print(df_general.info())"
   ]
  },
  {
   "cell_type": "code",
   "execution_count": 13,
   "id": "be831048",
   "metadata": {},
   "outputs": [
    {
     "name": "stdout",
     "output_type": "stream",
     "text": [
      "                       name platform  year_of_release         genre  na_sales  \\\n",
      "0                Wii Sports      Wii             2006        Sports     41.36   \n",
      "1         Super Mario Bros.      NES             1985      Platform     29.08   \n",
      "2            Mario Kart Wii      Wii             2008        Racing     15.68   \n",
      "3         Wii Sports Resort      Wii             2009        Sports     15.61   \n",
      "4  Pokemon Red/Pokemon Blue       GB             1996  Role-Playing     11.27   \n",
      "\n",
      "   eu_sales  jp_sales  other_sales  critic_score  user_score rating  \\\n",
      "0     28.96      3.77         8.45     76.000000    8.000000      E   \n",
      "1      3.58      6.81         0.77     68.967679    7.125046    NaN   \n",
      "2     12.76      3.79         3.29     82.000000    8.300000      E   \n",
      "3     10.93      3.28         2.95     80.000000    8.000000      E   \n",
      "4      8.89     10.22         1.00     68.967679    7.125046    NaN   \n",
      "\n",
      "   user_score_missing  total_values  missing_percent  \n",
      "0               False         16715        54.591684  \n",
      "1                True         16715        54.591684  \n",
      "2               False         16715        54.591684  \n",
      "3               False         16715        54.591684  \n",
      "4                True         16715        54.591684  \n"
     ]
    }
   ],
   "source": [
    "print(df_general.head())"
   ]
  },
  {
   "cell_type": "markdown",
   "id": "9aaf640c",
   "metadata": {},
   "source": [
    "### ¿Por qué crees que los valores están ausentes? Brinda explicaciones posibles.\n"
   ]
  },
  {
   "cell_type": "markdown",
   "id": "29e19ffa",
   "metadata": {},
   "source": [
    "los valores pudieran estar ausentes por algun detalle en que los usuarios simplemente no calificaron el juego"
   ]
  },
  {
   "cell_type": "markdown",
   "id": "fad9913d",
   "metadata": {},
   "source": [
    "### Presta atención a la abreviatura TBD: significa \"to be determined\" (a determinar). Especifica cómo piensas manejar estos casos.\n"
   ]
  },
  {
   "cell_type": "markdown",
   "id": "d2e8edad",
   "metadata": {},
   "source": [
    "Considero que mas tarde no va a afectar el analisis por ello decidi dejarlo tal cual está"
   ]
  },
  {
   "cell_type": "code",
   "execution_count": 14,
   "id": "7b517153",
   "metadata": {},
   "outputs": [
    {
     "name": "stdout",
     "output_type": "stream",
     "text": [
      "0    82.54\n",
      "1    40.24\n",
      "2    35.52\n",
      "3    32.77\n",
      "4    31.38\n",
      "Name: total_sales, dtype: float64\n"
     ]
    }
   ],
   "source": [
    "#Calcula las ventas totales (la suma de las ventas en todas las regiones) para cada juego y coloca estos valores en una columna separada.\n",
    "df_general['total_sales'] = df_general['eu_sales'] + df_general['jp_sales'] + df_general['na_sales'] + df_general['other_sales']\n",
    "print(df_general['total_sales'].head())"
   ]
  },
  {
   "cell_type": "markdown",
   "id": "38a949f3",
   "metadata": {},
   "source": [
    "# Paso 3. Analiza los datos\n"
   ]
  },
  {
   "cell_type": "code",
   "execution_count": 15,
   "id": "34726fdc",
   "metadata": {},
   "outputs": [
    {
     "name": "stdout",
     "output_type": "stream",
     "text": [
      "year_of_release\n",
      "0        269\n",
      "1980       9\n",
      "1981      46\n",
      "1982      36\n",
      "1983      17\n",
      "1984      14\n",
      "1985      14\n",
      "1986      21\n",
      "1987      16\n",
      "1988      15\n",
      "1989      17\n",
      "1990      16\n",
      "1991      41\n",
      "1992      43\n",
      "1993      62\n",
      "1994     121\n",
      "1995     219\n",
      "1996     263\n",
      "1997     289\n",
      "1998     379\n",
      "1999     338\n",
      "2000     350\n",
      "2001     482\n",
      "2002     829\n",
      "2003     775\n",
      "2004     762\n",
      "2005     939\n",
      "2006    1006\n",
      "2007    1197\n",
      "2008    1427\n",
      "2009    1426\n",
      "2010    1255\n",
      "2011    1136\n",
      "2012     653\n",
      "2013     544\n",
      "2014     581\n",
      "2015     606\n",
      "2016     502\n",
      "dtype: int64\n"
     ]
    }
   ],
   "source": [
    "#Mira cuántos juegos fueron lanzados en diferentes años. ¿Son significativos los datos de cada período?\n",
    "year_counts = df_general.groupby('year_of_release').size()\n",
    "print(year_counts)"
   ]
  },
  {
   "cell_type": "code",
   "execution_count": 16,
   "id": "35d01303",
   "metadata": {},
   "outputs": [
    {
     "name": "stdout",
     "output_type": "stream",
     "text": [
      "Número de bins según la regla de Sturges: 15\n"
     ]
    }
   ],
   "source": [
    "n = len(df_general['year_of_release'])\n",
    "\n",
    "bins = 1 + math.log2(n)\n",
    "\n",
    "bins = int(round(bins))\n",
    "\n",
    "print(\"Número de bins según la regla de Sturges:\", bins)"
   ]
  },
  {
   "cell_type": "code",
   "execution_count": 17,
   "id": "f886107d",
   "metadata": {},
   "outputs": [
    {
     "data": {
      "image/png": "[encoded data removed]",
      "text/plain": [
       "<Figure size 720x432 with 1 Axes>"
      ]
     },
     "metadata": {
      "needs_background": "light"
     },
     "output_type": "display_data"
    }
   ],
   "source": [
    "# Hist Juegos\n",
    "plt.figure(figsize=(10, 6))\n",
    "plt.hist(year_counts, bins, edgecolor='black')\n",
    "plt.xlabel('Fecha')\n",
    "plt.ylabel('Juegos Lanzados')\n",
    "plt.title('Histograma de Juegos Lanzados Por Año')\n",
    "plt.tight_layout()  # ajustar el tamaño de tus gráficas \n",
    "plt.show()"
   ]
  },
  {
   "cell_type": "markdown",
   "id": "8c1c82b5",
   "metadata": {},
   "source": [
    "Podemos ver que el año 0 tuvo bastantes ventas, sin embargo fueron juegos que tenian asignado directamente el valor 0, a fecha con mas ventas seria en el 200 y la fecha mas escasa en el 400"
   ]
  },
  {
   "cell_type": "markdown",
   "id": "017916ec",
   "metadata": {},
   "source": [
    "### Observa cómo varían las ventas de una plataforma a otra. "
   ]
  },
  {
   "cell_type": "code",
   "execution_count": 18,
   "id": "88b55ab8",
   "metadata": {},
   "outputs": [
    {
     "name": "stdout",
     "output_type": "stream",
     "text": [
      "platform\n",
      "PS2     1255.77\n",
      "X360     971.42\n",
      "PS3      939.65\n",
      "Wii      907.51\n",
      "DS       806.12\n",
      "PS       730.86\n",
      "GBA      317.85\n",
      "PS4      314.14\n",
      "PSP      294.05\n",
      "PC       259.52\n",
      "3DS      259.00\n",
      "XB       257.74\n",
      "GB       255.46\n",
      "NES      251.05\n",
      "N64      218.68\n",
      "SNES     200.04\n",
      "GC       198.93\n",
      "XOne     159.32\n",
      "2600      96.98\n",
      "WiiU      82.19\n",
      "PSV       54.07\n",
      "SAT       33.59\n",
      "GEN       30.77\n",
      "DC        15.95\n",
      "SCD        1.86\n",
      "NG         1.44\n",
      "WS         1.42\n",
      "TG16       0.16\n",
      "3DO        0.10\n",
      "GG         0.04\n",
      "PCFX       0.03\n",
      "Name: total_sales, dtype: float64\n"
     ]
    }
   ],
   "source": [
    "# Elige las plataformas con las mayores ventas totales y construye una distribución basada en los datos de cada año. \n",
    "platform_sales = df_general.groupby('platform')['total_sales'].sum().sort_values(ascending=False)\n",
    "print(platform_sales)\n"
   ]
  },
  {
   "cell_type": "code",
   "execution_count": 19,
   "id": "4543b8e7",
   "metadata": {},
   "outputs": [
    {
     "name": "stdout",
     "output_type": "stream",
     "text": [
      "['PS3' 'PS2']\n"
     ]
    }
   ],
   "source": [
    "# Busca las plataformas que solían ser populares pero que ahora no tienen ventas. \n",
    "no_sales = df_general[df_general['total_sales'] == 0]\n",
    "platform_counts = no_sales.groupby('platform').size()\n",
    "no_sales_popular_platforms = platform_counts[platform_counts > 0].index\n",
    "popular_platforms_no_sales = df_general[df_general['platform'].isin(no_sales_popular_platforms)]['platform'].unique()\n",
    "\n",
    "print(popular_platforms_no_sales)\n"
   ]
  },
  {
   "cell_type": "markdown",
   "id": "0791b42a",
   "metadata": {},
   "source": [
    "Ademas podemos notar que las plataformas PS3 y PS2 solian tener muchas ventas y ser populares pero ahora no"
   ]
  },
  {
   "cell_type": "markdown",
   "id": "4d21fc93",
   "metadata": {},
   "source": [
    "### ¿Cuánto tardan generalmente las nuevas plataformas en aparecer y las antiguas en desaparecer?\n"
   ]
  },
  {
   "cell_type": "code",
   "execution_count": 20,
   "id": "9df83cae",
   "metadata": {},
   "outputs": [
    {
     "name": "stdout",
     "output_type": "stream",
     "text": [
      "Tiempo de aparición de nuevas plataformas:  36  años\n",
      "Tiempo de desaparición de antiguas plataformas:  7  años\n"
     ]
    }
   ],
   "source": [
    "max_year = df_general['year_of_release'].max()\n",
    "min_year = 1980\n",
    "years_appearance = max_year - min_year\n",
    "\n",
    "current_year = 2023\n",
    "years_disappearance = current_year - max_year\n",
    "\n",
    "print(\"Tiempo de aparición de nuevas plataformas: \", years_appearance, \" años\")\n",
    "print(\"Tiempo de desaparición de antiguas plataformas: \", years_disappearance, \" años\")\n"
   ]
  },
  {
   "cell_type": "code",
   "execution_count": 21,
   "id": "a1e7937c",
   "metadata": {},
   "outputs": [
    {
     "name": "stdout",
     "output_type": "stream",
     "text": [
      "                        Años\n",
      "Indicador                   \n",
      "Tiempo de aparición       36\n",
      "Tiempo de desaparición     7\n"
     ]
    }
   ],
   "source": [
    "import pandas as pd\n",
    "\n",
    "max_year = df_general['year_of_release'].max()\n",
    "min_year = 1980\n",
    "years_appearance = max_year - min_year\n",
    "\n",
    "current_year = 2023\n",
    "years_disappearance = current_year - max_year\n",
    "\n",
    "# Crear DataFrame con los datos\n",
    "data = {\n",
    "    'Indicador': ['Tiempo de aparición', 'Tiempo de desaparición'],\n",
    "    'Años': [years_appearance, years_disappearance]\n",
    "}\n",
    "\n",
    "df_pivot = pd.DataFrame(data)\n",
    "\n",
    "# Crear la tabla pivotante\n",
    "pivot_table = pd.pivot_table(df_pivot, values='Años', index='Indicador')\n",
    "\n",
    "print(pivot_table)\n"
   ]
  },
  {
   "cell_type": "markdown",
   "id": "7c650308",
   "metadata": {},
   "source": [
    "<img src=\"https://i.ibb.co/rcwbrGK/grafica.png\">"
   ]
  },
  {
   "cell_type": "markdown",
   "id": "3104848a",
   "metadata": {},
   "source": [
    "### Determina para qué período debes tomar datos. Los datos deberían permitirte construir un modelo para 2017."
   ]
  },
  {
   "cell_type": "code",
   "execution_count": 22,
   "id": "a3f4435b",
   "metadata": {},
   "outputs": [],
   "source": [
    "#Trabaja solo con los datos que consideras relevantes. Ignora los datos de años anteriores.\n",
    "model_2017 = df_general[(df_general['year_of_release'] >= 2013) & (df_general['year_of_release'] <= 2017)]\n"
   ]
  },
  {
   "cell_type": "markdown",
   "id": "d48104e2",
   "metadata": {},
   "source": [
    "### ¿Qué plataformas son líderes en ventas? "
   ]
  },
  {
   "cell_type": "code",
   "execution_count": 23,
   "id": "49556fee",
   "metadata": {},
   "outputs": [
    {
     "name": "stdout",
     "output_type": "stream",
     "text": [
      "platform\n",
      "PS4     314.14\n",
      "PS3     181.43\n",
      "XOne    159.32\n",
      "3DS     143.25\n",
      "X360    136.80\n",
      "Name: total_sales, dtype: float64\n"
     ]
    }
   ],
   "source": [
    "platform_sales = model_2017.groupby('platform')['total_sales'].sum().sort_values(ascending=False)\n",
    "print(platform_sales.head())"
   ]
  },
  {
   "cell_type": "markdown",
   "id": "7abf9f61",
   "metadata": {},
   "source": [
    "### ¿Cuáles crecen y cuáles se reducen? Elige varias plataformas potencialmente rentables.\n"
   ]
  },
  {
   "cell_type": "code",
   "execution_count": 24,
   "id": "72075330",
   "metadata": {
    "scrolled": true
   },
   "outputs": [
    {
     "data": {
      "image/png": "[encoded data removed]",
      "text/plain": [
       "<Figure size 864x576 with 1 Axes>"
      ]
     },
     "metadata": {
      "needs_background": "light"
     },
     "output_type": "display_data"
    }
   ],
   "source": [
    "#Crea un diagrama de caja para las ventas globales de todos los juegos, desglosados por plataforma.\n",
    "\n",
    "\n",
    "plt.figure(figsize=(12, 8))\n",
    "plt.boxplot(model_2017.groupby('platform')['total_sales'].sum(), patch_artist=True)\n",
    "plt.title('Ventas Globales por Plataforma')\n",
    "plt.xlabel('Plataforma')\n",
    "plt.ylabel('Ventas Globales (millones)')\n",
    "plt.xticks(rotation=45)\n",
    "plt.show()"
   ]
  },
  {
   "cell_type": "code",
   "execution_count": 25,
   "id": "9f8fe820",
   "metadata": {},
   "outputs": [
    {
     "name": "stdout",
     "output_type": "stream",
     "text": [
      "platform\n",
      "3DS     143.25\n",
      "DS        1.54\n",
      "PC       39.43\n",
      "PS3     181.43\n",
      "PS4     314.14\n",
      "PSP       3.50\n",
      "PSV      32.99\n",
      "Wii      13.66\n",
      "WiiU     64.63\n",
      "X360    136.80\n",
      "XOne    159.32\n",
      "Name: total_sales, dtype: float64\n"
     ]
    }
   ],
   "source": [
    "box_data=model_2017.groupby('platform')['total_sales'].sum()\n",
    "print(box_data)"
   ]
  },
  {
   "cell_type": "code",
   "execution_count": 26,
   "id": "f74f10da",
   "metadata": {},
   "outputs": [
    {
     "data": {
      "text/plain": [
       "platform\n",
       "3DS     AxesSubplot(0.125,0.125;0.775x0.755)\n",
       "DS      AxesSubplot(0.125,0.125;0.775x0.755)\n",
       "PC      AxesSubplot(0.125,0.125;0.775x0.755)\n",
       "PS3     AxesSubplot(0.125,0.125;0.775x0.755)\n",
       "PS4     AxesSubplot(0.125,0.125;0.775x0.755)\n",
       "PSP     AxesSubplot(0.125,0.125;0.775x0.755)\n",
       "PSV     AxesSubplot(0.125,0.125;0.775x0.755)\n",
       "Wii     AxesSubplot(0.125,0.125;0.775x0.755)\n",
       "WiiU    AxesSubplot(0.125,0.125;0.775x0.755)\n",
       "X360    AxesSubplot(0.125,0.125;0.775x0.755)\n",
       "XOne    AxesSubplot(0.125,0.125;0.775x0.755)\n",
       "dtype: object"
      ]
     },
     "execution_count": 26,
     "metadata": {},
     "output_type": "execute_result"
    },
    {
     "data": {
      "image/png": "[encoded data removed]",
      "text/plain": [
       "<Figure size 432x288 with 1 Axes>"
      ]
     },
     "metadata": {
      "needs_background": "light"
     },
     "output_type": "display_data"
    },
    {
     "data": {
      "image/png": "[encoded data removed]",
      "text/plain": [
       "<Figure size 432x288 with 1 Axes>"
      ]
     },
     "metadata": {
      "needs_background": "light"
     },
     "output_type": "display_data"
    },
    {
     "data": {
      "image/png": "[encoded data removed]",
      "text/plain": [
       "<Figure size 432x288 with 1 Axes>"
      ]
     },
     "metadata": {
      "needs_background": "light"
     },
     "output_type": "display_data"
    },
    {
     "data": {
      "image/png": "[encoded data removed]",
      "text/plain": [
       "<Figure size 432x288 with 1 Axes>"
      ]
     },
     "metadata": {
      "needs_background": "light"
     },
     "output_type": "display_data"
    },
    {
     "data": {
      "image/png": "[encoded data removed]",
      "text/plain": [
       "<Figure size 432x288 with 1 Axes>"
      ]
     },
     "metadata": {
      "needs_background": "light"
     },
     "output_type": "display_data"
    },
    {
     "data": {
      "image/png": "[encoded data removed]",
      "text/plain": [
       "<Figure size 432x288 with 1 Axes>"
      ]
     },
     "metadata": {
      "needs_background": "light"
     },
     "output_type": "display_data"
    },
    {
     "data": {
      "image/png": "[encoded data removed]",
      "text/plain": [
       "<Figure size 432x288 with 1 Axes>"
      ]
     },
     "metadata": {
      "needs_background": "light"
     },
     "output_type": "display_data"
    },
    {
     "data": {
      "image/png": "[encoded data removed]",
      "text/plain": [
       "<Figure size 432x288 with 1 Axes>"
      ]
     },
     "metadata": {
      "needs_background": "light"
     },
     "output_type": "display_data"
    },
    {
     "data": {
      "image/png": "[encoded data removed]",
      "text/plain": [
       "<Figure size 432x288 with 1 Axes>"
      ]
     },
     "metadata": {
      "needs_background": "light"
     },
     "output_type": "display_data"
    },
    {
     "data": {
      "image/png": "[encoded data removed]",
      "text/plain": [
       "<Figure size 432x288 with 1 Axes>"
      ]
     },
     "metadata": {
      "needs_background": "light"
     },
     "output_type": "display_data"
    },
    {
     "data": {
      "image/png": "[encoded data removed]",
      "text/plain": [
       "<Figure size 432x288 with 1 Axes>"
      ]
     },
     "metadata": {
      "needs_background": "light"
     },
     "output_type": "display_data"
    }
   ],
   "source": [
    "model_2017[['total_sales','platform']].groupby('platform').plot(kind='box')"
   ]
  },
  {
   "cell_type": "code",
   "execution_count": 27,
   "id": "600a8ec0",
   "metadata": {},
   "outputs": [
    {
     "data": {
      "image/png": "[encoded data removed]",
      "text/plain": [
       "<Figure size 864x6336 with 11 Axes>"
      ]
     },
     "metadata": {
      "needs_background": "light"
     },
     "output_type": "display_data"
    }
   ],
   "source": [
    "\n",
    "platforms = model_2017['platform'].unique()\n",
    "fig, axes = plt.subplots(len(platforms), 1, figsize=(12, 8 * len(platforms)))\n",
    "\n",
    "for i, platform in enumerate(platforms):\n",
    "    data = model_2017[model_2017['platform'] == platform]\n",
    "    ax = axes[i]\n",
    "    sns.boxplot(data=data, x='platform', y='total_sales', ax=ax)\n",
    "    ax.set_title(f'Ventas Totales de Juegos en {platform}')\n",
    "    ax.set_xlabel('Plataforma')\n",
    "    ax.set_ylabel('Ventas Totales')\n",
    "    ax.set_xticklabels([platform])  \n",
    "\n",
    "plt.tight_layout()\n",
    "plt.show()"
   ]
  },
  {
   "cell_type": "markdown",
   "id": "1ce4a3aa",
   "metadata": {},
   "source": [
    "¿Son significativas las diferencias en las ventas? Si\n",
    "¿Qué sucede con las ventas promedio en varias plataformas? Describe tus hallazgos.\n",
    "La plataforma lider PS4 casi duplica a las demas PS3 X One  3Ds 360"
   ]
  },
  {
   "cell_type": "code",
   "execution_count": 28,
   "id": "443881bd",
   "metadata": {},
   "outputs": [
    {
     "name": "stdout",
     "output_type": "stream",
     "text": [
      "              user_score  critic_score  total_sales\n",
      "user_score      1.000000      0.346371    -0.108650\n",
      "critic_score    0.346371      1.000000     0.215447\n",
      "total_sales    -0.108650      0.215447     1.000000\n"
     ]
    }
   ],
   "source": [
    "#Mira cómo las reseñas de usuarios y profesionales afectan las ventas de una plataforma popular (tu elección). \n",
    "df_pc = model_2017[model_2017['platform'] == 'PC']\n",
    "correlation_matrix = df_pc[['user_score', 'critic_score', 'total_sales']].corr()\n",
    "print(correlation_matrix)\n"
   ]
  },
  {
   "cell_type": "code",
   "execution_count": 29,
   "id": "27c3610d",
   "metadata": {},
   "outputs": [
    {
     "data": {
      "image/png": "[encoded data removed]",
      "text/plain": [
       "<Figure size 432x288 with 2 Axes>"
      ]
     },
     "metadata": {
      "needs_background": "light"
     },
     "output_type": "display_data"
    }
   ],
   "source": [
    "sns.heatmap(correlation_matrix, annot=True, cmap='coolwarm')\n",
    "plt.title('Correlación entre Reseñas de Usuarios, Reseñas de Profesionales y Ventas Totales (PC)')\n",
    "plt.show()\n"
   ]
  },
  {
   "cell_type": "code",
   "execution_count": 30,
   "id": "3593b82c",
   "metadata": {},
   "outputs": [
    {
     "name": "stdout",
     "output_type": "stream",
     "text": [
      "Correlación: 0.07199097239329379\n"
     ]
    },
    {
     "data": {
      "image/png": "[encoded data removed]",
      "text/plain": [
       "<Figure size 432x288 with 1 Axes>"
      ]
     },
     "metadata": {
      "needs_background": "light"
     },
     "output_type": "display_data"
    }
   ],
   "source": [
    "#Crea un gráfico de dispersión y calcula la correlación entre las reseñas y las ventas. \n",
    "plt.scatter(df_general['user_score'], df_general['total_sales'])\n",
    "plt.title('Relación entre reseñas y ventas')\n",
    "plt.xlabel('Reseñas de Usuarios')\n",
    "plt.ylabel('Ventas Totales')\n",
    "\n",
    "correlation = np.corrcoef(df_general['user_score'], df_general['total_sales'])[0, 1]\n",
    "print('Correlación:', correlation)\n",
    "\n",
    "plt.show()"
   ]
  },
  {
   "cell_type": "markdown",
   "id": "d0badfcd",
   "metadata": {},
   "source": [
    "### Saca conclusiones\n"
   ]
  },
  {
   "cell_type": "code",
   "execution_count": 31,
   "id": "5301859b",
   "metadata": {},
   "outputs": [
    {
     "data": {
      "image/png": "[encoded data removed]",
      "text/plain": [
       "<Figure size 432x288 with 1 Axes>"
      ]
     },
     "metadata": {
      "needs_background": "light"
     },
     "output_type": "display_data"
    }
   ],
   "source": [
    "#Teniendo en cuenta tus conclusiones compara las ventas de los mismos juegos en otras plataformas.\n",
    "plt.bar(df_general.groupby('platform')['total_sales'].sum().index, df_general.groupby('platform')['total_sales'].sum().values)\n",
    "plt.xlabel('Plataforma')\n",
    "plt.ylabel('Ventas totales')\n",
    "plt.title('Comparación de ventas de juegos en diferentes plataformas')\n",
    "plt.show()"
   ]
  },
  {
   "cell_type": "code",
   "execution_count": 32,
   "id": "0a24f2b2",
   "metadata": {},
   "outputs": [
    {
     "data": {
      "image/png": "[encoded data removed]",
      "text/plain": [
       "<Figure size 432x288 with 1 Axes>"
      ]
     },
     "metadata": {
      "needs_background": "light"
     },
     "output_type": "display_data"
    }
   ],
   "source": [
    "#Echa un vistazo a la distribución general de los juegos por género. \n",
    "genre_counts = df_general['genre'].value_counts()\n",
    "\n",
    "plt.bar(genre_counts.index, genre_counts.values)\n",
    "plt.xlabel('Género')\n",
    "plt.ylabel('Cantidad de juegos')\n",
    "plt.title('Distribución de juegos por género')\n",
    "plt.xticks(rotation=90)\n",
    "plt.show()"
   ]
  },
  {
   "cell_type": "markdown",
   "id": "9bdbc123",
   "metadata": {},
   "source": [
    "### ¿Qué se puede decir de los géneros más rentables? "
   ]
  },
  {
   "cell_type": "markdown",
   "id": "c65b0e68",
   "metadata": {},
   "source": [
    "La tabla anterior nos indica que el genero mas rentable es accion y deportes mientras que los menos rentales seria strategy y puzzle"
   ]
  },
  {
   "cell_type": "markdown",
   "id": "bcd8666c",
   "metadata": {},
   "source": [
    "### ¿Puedes generalizar acerca de los géneros con ventas altas y bajas?"
   ]
  },
  {
   "cell_type": "markdown",
   "id": "3b9c08ba",
   "metadata": {},
   "source": [
    "Si, directamente los generos mas populares son aquellos relacionado con accion y los menos relacionados con puzzles"
   ]
  },
  {
   "cell_type": "markdown",
   "id": "618b5f0d",
   "metadata": {},
   "source": [
    "# Paso 4. Crea un perfil de usuario para cada región\n",
    "\n"
   ]
  },
  {
   "cell_type": "markdown",
   "id": "2f6a93a1",
   "metadata": {},
   "source": [
    "### Para cada región (NA, UE, JP) determina:\n"
   ]
  },
  {
   "cell_type": "code",
   "execution_count": 33,
   "id": "7a6d2da6",
   "metadata": {},
   "outputs": [
    {
     "name": "stdout",
     "output_type": "stream",
     "text": [
      "platform\n",
      "PS4     314.14\n",
      "PS3     181.43\n",
      "XOne    159.32\n",
      "3DS     143.25\n",
      "X360    136.80\n",
      "Name: total_sales, dtype: float64\n"
     ]
    }
   ],
   "source": [
    "#Las cinco plataformas principales.\n",
    "na_platform = df_general.groupby('platform')['na_sales'].sum().sort_values(ascending=False)\n",
    "print(platform_sales.head())\n"
   ]
  },
  {
   "cell_type": "code",
   "execution_count": 34,
   "id": "753b5dda",
   "metadata": {},
   "outputs": [
    {
     "name": "stdout",
     "output_type": "stream",
     "text": [
      "platform\n",
      "PS4     314.14\n",
      "PS3     181.43\n",
      "XOne    159.32\n",
      "3DS     143.25\n",
      "X360    136.80\n",
      "Name: total_sales, dtype: float64\n"
     ]
    }
   ],
   "source": [
    "#Las cinco plataformas principales.\n",
    "eu_platform = df_general.groupby('platform')['eu_sales'].sum().sort_values(ascending=False)\n",
    "print(platform_sales.head())\n"
   ]
  },
  {
   "cell_type": "code",
   "execution_count": 35,
   "id": "86507241",
   "metadata": {},
   "outputs": [
    {
     "name": "stdout",
     "output_type": "stream",
     "text": [
      "platform\n",
      "PS4     314.14\n",
      "PS3     181.43\n",
      "XOne    159.32\n",
      "3DS     143.25\n",
      "X360    136.80\n",
      "Name: total_sales, dtype: float64\n"
     ]
    }
   ],
   "source": [
    "#Las cinco plataformas principales.\n",
    "jp_platform = df_general.groupby('platform')['jp_sales'].sum().sort_values(ascending=False)\n",
    "print(platform_sales.head())\n"
   ]
  },
  {
   "cell_type": "markdown",
   "id": "8e7887f7",
   "metadata": {},
   "source": [
    "### Describe las variaciones en sus cuotas de mercado de una región a otra."
   ]
  },
  {
   "cell_type": "code",
   "execution_count": 36,
   "id": "e7dc9567",
   "metadata": {},
   "outputs": [
    {
     "name": "stdout",
     "output_type": "stream",
     "text": [
      "platform\n",
      "PS4     314.14\n",
      "PS3     181.43\n",
      "XOne    159.32\n",
      "3DS     143.25\n",
      "X360    136.80\n",
      "Name: total_sales, dtype: float64\n"
     ]
    }
   ],
   "source": [
    "#Los cinco géneros principales. \n",
    "na_genres = df_general.groupby('genre')['na_sales'].sum().sort_values(ascending=False)\n",
    "print(platform_sales.head())"
   ]
  },
  {
   "cell_type": "code",
   "execution_count": 37,
   "id": "d163c431",
   "metadata": {},
   "outputs": [
    {
     "name": "stdout",
     "output_type": "stream",
     "text": [
      "platform\n",
      "PS4     314.14\n",
      "PS3     181.43\n",
      "XOne    159.32\n",
      "3DS     143.25\n",
      "X360    136.80\n",
      "Name: total_sales, dtype: float64\n"
     ]
    }
   ],
   "source": [
    "#Los cinco géneros principales. \n",
    "eu_genres = df_general.groupby('genre')['eu_sales'].sum().sort_values(ascending=False)\n",
    "print(platform_sales.head())"
   ]
  },
  {
   "cell_type": "code",
   "execution_count": 38,
   "id": "404c2a8f",
   "metadata": {},
   "outputs": [
    {
     "name": "stdout",
     "output_type": "stream",
     "text": [
      "platform\n",
      "PS4     314.14\n",
      "PS3     181.43\n",
      "XOne    159.32\n",
      "3DS     143.25\n",
      "X360    136.80\n",
      "Name: total_sales, dtype: float64\n"
     ]
    }
   ],
   "source": [
    "#Los cinco géneros principales. \n",
    "jp_genres = df_general.groupby('genre')['jp_sales'].sum().sort_values(ascending=False)\n",
    "print(platform_sales.head())"
   ]
  },
  {
   "cell_type": "markdown",
   "id": "e1ecc7bf",
   "metadata": {},
   "source": [
    "### Explica la diferencia."
   ]
  },
  {
   "cell_type": "markdown",
   "id": "0964f6fe",
   "metadata": {},
   "source": [
    "### Si las clasificaciones de ESRB afectan a las ventas en regiones individuales."
   ]
  },
  {
   "cell_type": "code",
   "execution_count": 39,
   "id": "ca037f11",
   "metadata": {},
   "outputs": [
    {
     "name": "stdout",
     "output_type": "stream",
     "text": [
      "platform\n",
      "PS4     314.14\n",
      "PS3     181.43\n",
      "XOne    159.32\n",
      "3DS     143.25\n",
      "X360    136.80\n",
      "Name: total_sales, dtype: float64\n"
     ]
    }
   ],
   "source": [
    "#Los cinco géneros principales. \n",
    "na_rating = df_general.groupby('rating')['na_sales'].sum().sort_values(ascending=False)\n",
    "print(platform_sales.head())"
   ]
  },
  {
   "cell_type": "code",
   "execution_count": 40,
   "id": "1a25e125",
   "metadata": {},
   "outputs": [
    {
     "name": "stdout",
     "output_type": "stream",
     "text": [
      "platform\n",
      "PS4     314.14\n",
      "PS3     181.43\n",
      "XOne    159.32\n",
      "3DS     143.25\n",
      "X360    136.80\n",
      "Name: total_sales, dtype: float64\n"
     ]
    }
   ],
   "source": [
    "#Los cinco géneros principales. \n",
    "eu_rating = df_general.groupby('rating')['eu_sales'].sum().sort_values(ascending=False)\n",
    "print(platform_sales.head())"
   ]
  },
  {
   "cell_type": "code",
   "execution_count": 41,
   "id": "ce573f4b",
   "metadata": {},
   "outputs": [
    {
     "name": "stdout",
     "output_type": "stream",
     "text": [
      "platform\n",
      "PS4     314.14\n",
      "PS3     181.43\n",
      "XOne    159.32\n",
      "3DS     143.25\n",
      "X360    136.80\n",
      "Name: total_sales, dtype: float64\n"
     ]
    }
   ],
   "source": [
    "#Los cinco géneros principales. \n",
    "jp_rating = df_general.groupby('rating')['jp_sales'].sum().sort_values(ascending=False)\n",
    "print(platform_sales.head())"
   ]
  },
  {
   "cell_type": "markdown",
   "id": "1e49e1bf",
   "metadata": {},
   "source": [
    "No, las clasificaciones no parecen afectar las ventas"
   ]
  },
  {
   "cell_type": "markdown",
   "id": "18b8b51e",
   "metadata": {},
   "source": [
    "# Paso 5. Prueba las siguientes hipótesis:\n"
   ]
  },
  {
   "cell_type": "markdown",
   "id": "c0e4a7d4",
   "metadata": {},
   "source": [
    "### Las calificaciones promedio de los usuarios para las plataformas Xbox One y PC son las mismas."
   ]
  },
  {
   "cell_type": "code",
   "execution_count": 42,
   "id": "5ff568b8",
   "metadata": {},
   "outputs": [
    {
     "name": "stdout",
     "output_type": "stream",
     "text": [
      "6.680275292975521\n"
     ]
    }
   ],
   "source": [
    "rating_xbox_one = df_general[df_general['platform'] == 'XOne']['user_score'].mean()\n",
    "print(rating_xbox_one)\n"
   ]
  },
  {
   "cell_type": "code",
   "execution_count": 43,
   "id": "05caf379",
   "metadata": {
    "scrolled": true
   },
   "outputs": [
    {
     "name": "stdout",
     "output_type": "stream",
     "text": [
      "7.075574339953413\n"
     ]
    }
   ],
   "source": [
    "rating_pc = df_general[df_general['platform'] == 'PC']['user_score'].mean()\n",
    "print(rating_pc)\n"
   ]
  },
  {
   "cell_type": "markdown",
   "id": "9c51484e",
   "metadata": {},
   "source": [
    "### Las calificaciones promedio de los usuarios para los géneros de Acción y Deportes son diferentes.\n"
   ]
  },
  {
   "cell_type": "code",
   "execution_count": 44,
   "id": "d2c52545",
   "metadata": {},
   "outputs": [
    {
     "name": "stdout",
     "output_type": "stream",
     "text": [
      "['Sports' 'Platform' 'Racing' 'Role-Playing' 'Puzzle' 'Misc' 'Shooter'\n",
      " 'Simulation' 'Action' 'Fighting' 'Adventure' 'Strategy' nan]\n"
     ]
    }
   ],
   "source": [
    "print(df_general['genre'].unique())\n"
   ]
  },
  {
   "cell_type": "code",
   "execution_count": 45,
   "id": "d049d626",
   "metadata": {
    "scrolled": true
   },
   "outputs": [
    {
     "name": "stdout",
     "output_type": "stream",
     "text": [
      "7.086478470875465\n"
     ]
    }
   ],
   "source": [
    "rating_action = df_general[df_general['genre'] == 'Action']['user_score'].mean()\n",
    "print(rating_action)\n"
   ]
  },
  {
   "cell_type": "code",
   "execution_count": 46,
   "id": "b4c11ec1",
   "metadata": {
    "scrolled": true
   },
   "outputs": [
    {
     "name": "stdout",
     "output_type": "stream",
     "text": [
      "7.0480759842705245\n"
     ]
    }
   ],
   "source": [
    "rating_sport = df_general[df_general['genre'] == 'Sports']['user_score'].mean()\n",
    "print(rating_sport)\n"
   ]
  },
  {
   "cell_type": "markdown",
   "id": "9b376dee",
   "metadata": {},
   "source": [
    "### Establece tu mismo el valor de umbral alfa.\n"
   ]
  },
  {
   "cell_type": "code",
   "execution_count": 47,
   "id": "a95f3514",
   "metadata": {},
   "outputs": [],
   "source": [
    "from scipy.stats import ttest_ind"
   ]
  },
  {
   "cell_type": "code",
   "execution_count": 48,
   "id": "7f1a9e66",
   "metadata": {},
   "outputs": [
    {
     "name": "stdout",
     "output_type": "stream",
     "text": [
      "Estadística de prueba: 4.165220224005854\n",
      "Valor p: 3.329648256313532e-05\n",
      "Se rechaza la hipótesis nula. Existe una diferencia significativa en el rating.\n"
     ]
    }
   ],
   "source": [
    "pc_hipotesis= df_general[df_general['platform'] == 'PC']['user_score'] # Ojo con esto\n",
    "xbox_one_hipotesis = df_general[df_general['platform'] == 'XOne']['user_score'] # Ojo con esto\n",
    "\n",
    "statistic, pvalue = ttest_ind(pc_hipotesis, xbox_one_hipotesis)\n",
    "\n",
    "print(\"Estadística de prueba:\", statistic)\n",
    "print(\"Valor p:\", pvalue)\n",
    "\n",
    "alpha = 0.05\n",
    "if pvalue < alpha:\n",
    "    print(\"Se rechaza la hipótesis nula. Existe una diferencia significativa en el rating.\")\n",
    "else:\n",
    "    print(\"No se puede rechazar la hipótesis nula. No se encuentra evidencia suficiente de una diferencia significativa en el ratng.\")"
   ]
  },
  {
   "cell_type": "code",
   "execution_count": 49,
   "id": "b89b8490",
   "metadata": {},
   "outputs": [
    {
     "name": "stdout",
     "output_type": "stream",
     "text": [
      "Estadística de prueba: 1.3295310541845122\n",
      "Valor p: 0.18372589312608184\n",
      "No se puede rechazar la hipótesis nula. No se encuentra evidencia suficiente de una diferencia significativa en el ratng.\n"
     ]
    }
   ],
   "source": [
    "hipotesis_action = df_general[df_general['genre'] == 'Action']['user_score']\n",
    "hipotesis_sport = df_general[df_general['genre'] == 'Sports']['user_score']\n",
    "\n",
    "statistic, pvalue = ttest_ind(hipotesis_action, hipotesis_sport, nan_policy='omit')\n",
    "\n",
    "print(\"Estadística de prueba:\", statistic)\n",
    "print(\"Valor p:\", pvalue)\n",
    "\n",
    "alpha = 0.05\n",
    "if pvalue < alpha:\n",
    "    print(\"Se rechaza la hipótesis nula. Existe una diferencia significativa en el rating.\")\n",
    "else:\n",
    "    print(\"No se puede rechazar la hipótesis nula. No se encuentra evidencia suficiente de una diferencia significativa en el ratng.\")"
   ]
  },
  {
   "cell_type": "markdown",
   "id": "da7f032c",
   "metadata": {},
   "source": [
    "# Explicaciones:\n"
   ]
  },
  {
   "cell_type": "markdown",
   "id": "468e8157",
   "metadata": {},
   "source": [
    "### Cómo formulaste las hipótesis nula y alternativa.\n"
   ]
  },
  {
   "cell_type": "markdown",
   "id": "ffbf65e3",
   "metadata": {},
   "source": [
    "Con base a los promedios de generos y plataformas para posteriormente compararlos"
   ]
  },
  {
   "cell_type": "markdown",
   "id": "1f2c4e45",
   "metadata": {},
   "source": [
    "### Qué criterio utilizaste para probar las hipótesis y por qué\n"
   ]
  },
  {
   "cell_type": "markdown",
   "id": "1326f205",
   "metadata": {},
   "source": [
    "se utilizo la hipotesis estadistica con el fin de evaluar la evidencia con la hipotesis nula"
   ]
  },
  {
   "cell_type": "markdown",
   "id": "d3be0337",
   "metadata": {},
   "source": [
    "# Paso 6. Escribe una conclusión general"
   ]
  },
  {
   "cell_type": "markdown",
   "id": "12275564",
   "metadata": {},
   "source": [
    "Las plataformas lideres en venta son la PS4, PS3, Xbox One, 3Ds y Xbox 360\n",
    "Las plataformas con menos ventas son PCFX, GG, 3DO y TG1\n",
    "Siendo los generos mas rentables los de accion y de deportes\n",
    "Los menos rentables son strategy y puzzle"
   ]
  }
 ],
 "metadata": {
  "kernelspec": {
   "display_name": "Python 3 (ipykernel)",
   "language": "python",
   "name": "python3"
  },
  "language_info": {
   "codemirror_mode": {
    "name": "ipython",
    "version": 3
   },
   "file_extension": ".py",
   "mimetype": "text/x-python",
   "name": "python",
   "nbconvert_exporter": "python",
   "pygments_lexer": "ipython3",
   "version": "3.9.5"
  },
  "toc": {
   "base_numbering": 1,
   "nav_menu": {},
   "number_sections": true,
   "sideBar": true,
   "skip_h1_title": true,
   "title_cell": "Table of Contents",
   "title_sidebar": "Contents",
   "toc_cell": false,
   "toc_position": {},
   "toc_section_display": true,
   "toc_window_display": false
  }
 },
 "nbformat": 4,
 "nbformat_minor": 5
}
