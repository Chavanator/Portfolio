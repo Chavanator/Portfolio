{
 "cells": [
  {
   "cell_type": "markdown",
   "id": "cc89b1cd",
   "metadata": {},
   "source": [
    "# Descripción del proyecto"
   ]
  },
  {
   "cell_type": "markdown",
   "id": "c7b0722e",
   "metadata": {},
   "source": [
    "Estás trabajando como analista para Zuber, una nueva empresa de viajes compartidos que se está lanzando en Chicago. Tu tarea es encontrar patrones en la información disponible. Quieres comprender las preferencias de los pasajeros y el impacto de los factores externos en los viajes.\n",
    "Al trabajar con una base de datos, analizarás los datos de los competidores y probarás una hipótesis sobre el impacto del clima en la frecuencia de los viajes."
   ]
  },
  {
   "cell_type": "markdown",
   "id": "7c86968b",
   "metadata": {},
   "source": [
    "# Descripción de los datos"
   ]
  },
  {
   "cell_type": "markdown",
   "id": "718b3b1a",
   "metadata": {},
   "source": [
    "Una base de datos con información sobre viajes en taxi en Chicago:\n",
    "\n",
    "tabla neighborhoods: datos sobre los barrios de la ciudad\n",
    "\n",
    "name: nombre del barrio\n",
    "\n",
    "neighborhood_id: código del barrio\n",
    "\n",
    "tabla cabs: datos sobre los taxis\n",
    "\n",
    "cab_id: código del vehículo\n",
    "\n",
    "vehicle_id: ID técnico del vehículo\n",
    "\n",
    "company_name: la empresa propietaria del vehículo\n",
    "\n",
    "tabla trips: datos sobre los viajes\n",
    "\n",
    "trip_id: código del viaje\n",
    "\n",
    "cab_id: código del vehículo que opera el viaje\n",
    "\n",
    "start_ts: fecha y hora del inicio del viaje (tiempo redondeado a la hora)\n",
    "\n",
    "end_ts: fecha y hora de finalización del viaje (tiempo redondeado a la hora)\n",
    "\n",
    "duration_seconds: duración del viaje en segundos\n",
    "\n",
    "distance_miles: distancia del viaje en millas\n",
    "\n",
    "pickup_location_id: código del barrio de recogida\n",
    "\n",
    "dropoff_location_id: código del barrio de finalización\n",
    "\n",
    "tabla weather_records: datos sobre el clima\n",
    "\n",
    "record_id: código del registro meteorológico\n",
    "\n",
    "ts: fecha y hora del registro (tiempo redondeado a la hora)\n",
    "\n",
    "temperature: temperatura cuando se tomó el registro\n",
    "\n",
    "description: breve descripción de las condiciones meteorológicas, por ejemplo, \"lluvia ligera\" o \"nubes dispersas\""
   ]
  },
  {
   "cell_type": "markdown",
   "id": "11aac8f2",
   "metadata": {},
   "source": [
    "# Esquema de la tabla"
   ]
  },
  {
   "cell_type": "markdown",
   "id": "78ff7b63",
   "metadata": {},
   "source": [
    "<img src=\"https://practicum-content.s3.us-west-1.amazonaws.com/resources/moved_Untitled_1_1585510727.png\">"
   ]
  },
  {
   "cell_type": "markdown",
   "id": "c45edd92",
   "metadata": {},
   "source": [
    "Nota: no existe una conexión directa entre las tablas trips y weather_records en la base de datos. Pero aún puedes usar JOIN y vincularlas usando la hora en la que comenzó el viaje (trips.start_ts) y la hora en la que se tomó el registro meteorológico (weather_records.ts)."
   ]
  },
  {
   "cell_type": "markdown",
   "id": "f2a54841",
   "metadata": {},
   "source": [
    "# Instrucciones para completar el proyecto"
   ]
  },
  {
   "cell_type": "markdown",
   "id": "84d8acbe",
   "metadata": {},
   "source": [
    "Importamos librerias"
   ]
  },
  {
   "cell_type": "code",
   "execution_count": 1,
   "id": "fa7092e1",
   "metadata": {},
   "outputs": [],
   "source": [
    "import requests\n",
    "from bs4 import BeautifulSoup\n",
    "import pandas as pd\n",
    "import re\n",
    "import sqlite3\n",
    "import math\n",
    "import matplotlib.pyplot as plt\n",
    "from scipy.stats import ttest_ind\n",
    "import datetime\n"
   ]
  },
  {
   "cell_type": "markdown",
   "id": "36a92cfe",
   "metadata": {},
   "source": [
    "Importamos archivos"
   ]
  },
  {
   "cell_type": "code",
   "execution_count": 2,
   "id": "5b94316c",
   "metadata": {},
   "outputs": [],
   "source": [
    "result_1= pd.read_csv('/datasets/project_sql_result_01.csv')\n",
    "result_4= pd.read_csv('/datasets/project_sql_result_04.csv')\n",
    "result_7= pd.read_csv('/datasets/project_sql_result_07.csv')"
   ]
  },
  {
   "cell_type": "code",
   "execution_count": 3,
   "id": "ce3e1887",
   "metadata": {},
   "outputs": [
    {
     "name": "stdout",
     "output_type": "stream",
     "text": [
      "<class 'pandas.core.frame.DataFrame'>\n",
      "RangeIndex: 64 entries, 0 to 63\n",
      "Data columns (total 2 columns):\n",
      " #   Column        Non-Null Count  Dtype \n",
      "---  ------        --------------  ----- \n",
      " 0   company_name  64 non-null     object\n",
      " 1   trips_amount  64 non-null     int64 \n",
      "dtypes: int64(1), object(1)\n",
      "memory usage: 1.1+ KB\n",
      "None\n"
     ]
    },
    {
     "data": {
      "text/html": [
       "<div>\n",
       "<style scoped>\n",
       "    .dataframe tbody tr th:only-of-type {\n",
       "        vertical-align: middle;\n",
       "    }\n",
       "\n",
       "    .dataframe tbody tr th {\n",
       "        vertical-align: top;\n",
       "    }\n",
       "\n",
       "    .dataframe thead th {\n",
       "        text-align: right;\n",
       "    }\n",
       "</style>\n",
       "<table border=\"1\" class=\"dataframe\">\n",
       "  <thead>\n",
       "    <tr style=\"text-align: right;\">\n",
       "      <th></th>\n",
       "      <th>company_name</th>\n",
       "      <th>trips_amount</th>\n",
       "    </tr>\n",
       "  </thead>\n",
       "  <tbody>\n",
       "    <tr>\n",
       "      <th>0</th>\n",
       "      <td>Flash Cab</td>\n",
       "      <td>19558</td>\n",
       "    </tr>\n",
       "    <tr>\n",
       "      <th>1</th>\n",
       "      <td>Taxi Affiliation Services</td>\n",
       "      <td>11422</td>\n",
       "    </tr>\n",
       "    <tr>\n",
       "      <th>2</th>\n",
       "      <td>Medallion Leasing</td>\n",
       "      <td>10367</td>\n",
       "    </tr>\n",
       "    <tr>\n",
       "      <th>3</th>\n",
       "      <td>Yellow Cab</td>\n",
       "      <td>9888</td>\n",
       "    </tr>\n",
       "    <tr>\n",
       "      <th>4</th>\n",
       "      <td>Taxi Affiliation Service Yellow</td>\n",
       "      <td>9299</td>\n",
       "    </tr>\n",
       "  </tbody>\n",
       "</table>\n",
       "</div>"
      ],
      "text/plain": [
       "                      company_name  trips_amount\n",
       "0                        Flash Cab         19558\n",
       "1        Taxi Affiliation Services         11422\n",
       "2                Medallion Leasing         10367\n",
       "3                       Yellow Cab          9888\n",
       "4  Taxi Affiliation Service Yellow          9299"
      ]
     },
     "metadata": {},
     "output_type": "display_data"
    }
   ],
   "source": [
    "print(result_1.info())\n",
    "display(result_1.head())"
   ]
  },
  {
   "cell_type": "code",
   "execution_count": 4,
   "id": "d7517a47",
   "metadata": {
    "scrolled": true
   },
   "outputs": [
    {
     "name": "stdout",
     "output_type": "stream",
     "text": [
      "<class 'pandas.core.frame.DataFrame'>\n",
      "RangeIndex: 94 entries, 0 to 93\n",
      "Data columns (total 2 columns):\n",
      " #   Column                 Non-Null Count  Dtype  \n",
      "---  ------                 --------------  -----  \n",
      " 0   dropoff_location_name  94 non-null     object \n",
      " 1   average_trips          94 non-null     float64\n",
      "dtypes: float64(1), object(1)\n",
      "memory usage: 1.6+ KB\n",
      "None\n"
     ]
    },
    {
     "data": {
      "text/html": [
       "<div>\n",
       "<style scoped>\n",
       "    .dataframe tbody tr th:only-of-type {\n",
       "        vertical-align: middle;\n",
       "    }\n",
       "\n",
       "    .dataframe tbody tr th {\n",
       "        vertical-align: top;\n",
       "    }\n",
       "\n",
       "    .dataframe thead th {\n",
       "        text-align: right;\n",
       "    }\n",
       "</style>\n",
       "<table border=\"1\" class=\"dataframe\">\n",
       "  <thead>\n",
       "    <tr style=\"text-align: right;\">\n",
       "      <th></th>\n",
       "      <th>dropoff_location_name</th>\n",
       "      <th>average_trips</th>\n",
       "    </tr>\n",
       "  </thead>\n",
       "  <tbody>\n",
       "    <tr>\n",
       "      <th>0</th>\n",
       "      <td>Loop</td>\n",
       "      <td>10727.466667</td>\n",
       "    </tr>\n",
       "    <tr>\n",
       "      <th>1</th>\n",
       "      <td>River North</td>\n",
       "      <td>9523.666667</td>\n",
       "    </tr>\n",
       "    <tr>\n",
       "      <th>2</th>\n",
       "      <td>Streeterville</td>\n",
       "      <td>6664.666667</td>\n",
       "    </tr>\n",
       "    <tr>\n",
       "      <th>3</th>\n",
       "      <td>West Loop</td>\n",
       "      <td>5163.666667</td>\n",
       "    </tr>\n",
       "    <tr>\n",
       "      <th>4</th>\n",
       "      <td>O'Hare</td>\n",
       "      <td>2546.900000</td>\n",
       "    </tr>\n",
       "  </tbody>\n",
       "</table>\n",
       "</div>"
      ],
      "text/plain": [
       "  dropoff_location_name  average_trips\n",
       "0                  Loop   10727.466667\n",
       "1           River North    9523.666667\n",
       "2         Streeterville    6664.666667\n",
       "3             West Loop    5163.666667\n",
       "4                O'Hare    2546.900000"
      ]
     },
     "metadata": {},
     "output_type": "display_data"
    }
   ],
   "source": [
    "print(result_4.info())\n",
    "display(result_4.head())"
   ]
  },
  {
   "cell_type": "markdown",
   "id": "81600a32",
   "metadata": {},
   "source": [
    "# Paso 4. Análisis exploratorio de datos (Python)"
   ]
  },
  {
   "cell_type": "markdown",
   "id": "486846cd",
   "metadata": {},
   "source": [
    "Además de los datos que recuperaste en las tareas anteriores te han dado un segundo archivo. Ahora tienes estos dos CSV:"
   ]
  },
  {
   "cell_type": "markdown",
   "id": "aa0191a2",
   "metadata": {},
   "source": [
    "project_sql_result_01.csv. Contiene los siguientes datos:\n",
    "company_name: nombre de la empresa de taxis\n",
    "trips_amount: el número de viajes de cada compañía de taxis el 15 y 16 de noviembre de 2017."
   ]
  },
  {
   "cell_type": "markdown",
   "id": "479455c8",
   "metadata": {},
   "source": [
    "project_sql_result_04.csv. Contiene los siguientes datos:\n",
    "dropoff_location_name: barrios de Chicago donde finalizaron los viajes\n",
    "average_trips: el promedio de viajes que terminaron en cada barrio en noviembre de 2017."
   ]
  },
  {
   "cell_type": "markdown",
   "id": "d31abf58",
   "metadata": {},
   "source": [
    "Para estos dos datasets ahora necesitas:\n",
    "\n",
    "importar los archivos\n",
    "\n",
    "estudiar los datos que contienen\n",
    "\n",
    "asegurarte de que los tipos de datos sean correctos\n",
    "\n",
    "identificar los 10 principales barrios en términos de finalización\n",
    "\n",
    "hacer gráficos: \n",
    "\n",
    "empresas de taxis número de viajes\n",
    "\n",
    "los 10 barrios principales por número de finalizaciones\n",
    "\n",
    "sacar conclusiones basadas en cada gráfico y explicar los resultados"
   ]
  },
  {
   "cell_type": "markdown",
   "id": "93ac0b41",
   "metadata": {},
   "source": [
    "### Result_1"
   ]
  },
  {
   "cell_type": "markdown",
   "id": "afc207df",
   "metadata": {},
   "source": [
    "Los datos ya estan importados"
   ]
  },
  {
   "cell_type": "markdown",
   "id": "39fb21a1",
   "metadata": {},
   "source": [
    "Calculamos el total de viajes"
   ]
  },
  {
   "cell_type": "code",
   "execution_count": 5,
   "id": "1f028d35",
   "metadata": {},
   "outputs": [
    {
     "name": "stdout",
     "output_type": "stream",
     "text": [
      "137311\n"
     ]
    }
   ],
   "source": [
    "print(result_1['trips_amount'].sum())"
   ]
  },
  {
   "cell_type": "markdown",
   "id": "5911ba2d",
   "metadata": {},
   "source": [
    "Mostramos los primeros 10 lugares"
   ]
  },
  {
   "cell_type": "code",
   "execution_count": 6,
   "id": "8e705e47",
   "metadata": {},
   "outputs": [
    {
     "data": {
      "text/html": [
       "<div>\n",
       "<style scoped>\n",
       "    .dataframe tbody tr th:only-of-type {\n",
       "        vertical-align: middle;\n",
       "    }\n",
       "\n",
       "    .dataframe tbody tr th {\n",
       "        vertical-align: top;\n",
       "    }\n",
       "\n",
       "    .dataframe thead th {\n",
       "        text-align: right;\n",
       "    }\n",
       "</style>\n",
       "<table border=\"1\" class=\"dataframe\">\n",
       "  <thead>\n",
       "    <tr style=\"text-align: right;\">\n",
       "      <th></th>\n",
       "      <th>company_name</th>\n",
       "      <th>trips_amount</th>\n",
       "    </tr>\n",
       "  </thead>\n",
       "  <tbody>\n",
       "    <tr>\n",
       "      <th>0</th>\n",
       "      <td>Flash Cab</td>\n",
       "      <td>19558</td>\n",
       "    </tr>\n",
       "    <tr>\n",
       "      <th>1</th>\n",
       "      <td>Taxi Affiliation Services</td>\n",
       "      <td>11422</td>\n",
       "    </tr>\n",
       "    <tr>\n",
       "      <th>2</th>\n",
       "      <td>Medallion Leasing</td>\n",
       "      <td>10367</td>\n",
       "    </tr>\n",
       "    <tr>\n",
       "      <th>3</th>\n",
       "      <td>Yellow Cab</td>\n",
       "      <td>9888</td>\n",
       "    </tr>\n",
       "    <tr>\n",
       "      <th>4</th>\n",
       "      <td>Taxi Affiliation Service Yellow</td>\n",
       "      <td>9299</td>\n",
       "    </tr>\n",
       "    <tr>\n",
       "      <th>5</th>\n",
       "      <td>Chicago Carriage Cab Corp</td>\n",
       "      <td>9181</td>\n",
       "    </tr>\n",
       "    <tr>\n",
       "      <th>6</th>\n",
       "      <td>City Service</td>\n",
       "      <td>8448</td>\n",
       "    </tr>\n",
       "    <tr>\n",
       "      <th>7</th>\n",
       "      <td>Sun Taxi</td>\n",
       "      <td>7701</td>\n",
       "    </tr>\n",
       "    <tr>\n",
       "      <th>8</th>\n",
       "      <td>Star North Management LLC</td>\n",
       "      <td>7455</td>\n",
       "    </tr>\n",
       "    <tr>\n",
       "      <th>9</th>\n",
       "      <td>Blue Ribbon Taxi Association Inc.</td>\n",
       "      <td>5953</td>\n",
       "    </tr>\n",
       "  </tbody>\n",
       "</table>\n",
       "</div>"
      ],
      "text/plain": [
       "                        company_name  trips_amount\n",
       "0                          Flash Cab         19558\n",
       "1          Taxi Affiliation Services         11422\n",
       "2                  Medallion Leasing         10367\n",
       "3                         Yellow Cab          9888\n",
       "4    Taxi Affiliation Service Yellow          9299\n",
       "5          Chicago Carriage Cab Corp          9181\n",
       "6                       City Service          8448\n",
       "7                           Sun Taxi          7701\n",
       "8          Star North Management LLC          7455\n",
       "9  Blue Ribbon Taxi Association Inc.          5953"
      ]
     },
     "metadata": {},
     "output_type": "display_data"
    }
   ],
   "source": [
    "result_1_sorted = result_1.sort_values('trips_amount', ascending=False)\n",
    "result_1_10=result_1_sorted.head(10)\n",
    "display(result_1_sorted.head(10))"
   ]
  },
  {
   "cell_type": "markdown",
   "id": "2cbdced4",
   "metadata": {},
   "source": [
    "Calculamos los bins"
   ]
  },
  {
   "cell_type": "code",
   "execution_count": 7,
   "id": "6ca1de8c",
   "metadata": {},
   "outputs": [
    {
     "name": "stdout",
     "output_type": "stream",
     "text": [
      "Numero de bins según la regla de sturges: 4\n"
     ]
    }
   ],
   "source": [
    "n = len(result_1_10['trips_amount'])\n",
    "\n",
    "bins = 1 + math.log2(n)\n",
    "\n",
    "bins = int(round(bins))\n",
    "\n",
    "\n",
    "print(\"Numero de bins según la regla de sturges:\", bins)"
   ]
  },
  {
   "cell_type": "markdown",
   "id": "fdd0dde5",
   "metadata": {},
   "source": [
    "Creamos histograma"
   ]
  },
  {
   "cell_type": "code",
   "execution_count": 8,
   "id": "7c09ba66",
   "metadata": {},
   "outputs": [
    {
     "data": {
      "image/png": "[encoded data removed]",
      "text/plain": [
       "<Figure size 720x432 with 1 Axes>"
      ]
     },
     "metadata": {
      "needs_background": "light"
     },
     "output_type": "display_data"
    }
   ],
   "source": [
    "plt.figure(figsize=(10, 6))\n",
    "plt.barh(result_1_10['company_name'], result_1_10['trips_amount'])\n",
    "plt.xlabel('Numero de trips')\n",
    "plt.ylabel('Empresa')\n",
    "plt.title('Top 10 empresas de taxis')\n",
    "plt.tight_layout()\n",
    "plt.show()"
   ]
  },
  {
   "cell_type": "markdown",
   "id": "7110cabb",
   "metadata": {},
   "source": [
    "Las primera empresa Flash Cab es lider , despues tenemos las otras 9 que decrecen poco a poco, solo Taxi Affilliation Service Yellow y Chicago Carriage Cab Corp tienen resultados bastante similares"
   ]
  },
  {
   "cell_type": "markdown",
   "id": "8f73fb07",
   "metadata": {},
   "source": [
    "### Result 4"
   ]
  },
  {
   "cell_type": "markdown",
   "id": "da7bc8e5",
   "metadata": {},
   "source": [
    "Los datos ya estan importados"
   ]
  },
  {
   "cell_type": "markdown",
   "id": "90092a66",
   "metadata": {},
   "source": [
    "Tomamos los primeros 10 lugares"
   ]
  },
  {
   "cell_type": "code",
   "execution_count": 9,
   "id": "aaf36b27",
   "metadata": {},
   "outputs": [
    {
     "data": {
      "text/html": [
       "<div>\n",
       "<style scoped>\n",
       "    .dataframe tbody tr th:only-of-type {\n",
       "        vertical-align: middle;\n",
       "    }\n",
       "\n",
       "    .dataframe tbody tr th {\n",
       "        vertical-align: top;\n",
       "    }\n",
       "\n",
       "    .dataframe thead th {\n",
       "        text-align: right;\n",
       "    }\n",
       "</style>\n",
       "<table border=\"1\" class=\"dataframe\">\n",
       "  <thead>\n",
       "    <tr style=\"text-align: right;\">\n",
       "      <th></th>\n",
       "      <th>dropoff_location_name</th>\n",
       "      <th>average_trips</th>\n",
       "    </tr>\n",
       "  </thead>\n",
       "  <tbody>\n",
       "    <tr>\n",
       "      <th>0</th>\n",
       "      <td>Loop</td>\n",
       "      <td>10727.466667</td>\n",
       "    </tr>\n",
       "    <tr>\n",
       "      <th>1</th>\n",
       "      <td>River North</td>\n",
       "      <td>9523.666667</td>\n",
       "    </tr>\n",
       "    <tr>\n",
       "      <th>2</th>\n",
       "      <td>Streeterville</td>\n",
       "      <td>6664.666667</td>\n",
       "    </tr>\n",
       "    <tr>\n",
       "      <th>3</th>\n",
       "      <td>West Loop</td>\n",
       "      <td>5163.666667</td>\n",
       "    </tr>\n",
       "    <tr>\n",
       "      <th>4</th>\n",
       "      <td>O'Hare</td>\n",
       "      <td>2546.900000</td>\n",
       "    </tr>\n",
       "    <tr>\n",
       "      <th>5</th>\n",
       "      <td>Lake View</td>\n",
       "      <td>2420.966667</td>\n",
       "    </tr>\n",
       "    <tr>\n",
       "      <th>6</th>\n",
       "      <td>Grant Park</td>\n",
       "      <td>2068.533333</td>\n",
       "    </tr>\n",
       "    <tr>\n",
       "      <th>7</th>\n",
       "      <td>Museum Campus</td>\n",
       "      <td>1510.000000</td>\n",
       "    </tr>\n",
       "    <tr>\n",
       "      <th>8</th>\n",
       "      <td>Gold Coast</td>\n",
       "      <td>1364.233333</td>\n",
       "    </tr>\n",
       "    <tr>\n",
       "      <th>9</th>\n",
       "      <td>Sheffield &amp; DePaul</td>\n",
       "      <td>1259.766667</td>\n",
       "    </tr>\n",
       "  </tbody>\n",
       "</table>\n",
       "</div>"
      ],
      "text/plain": [
       "  dropoff_location_name  average_trips\n",
       "0                  Loop   10727.466667\n",
       "1           River North    9523.666667\n",
       "2         Streeterville    6664.666667\n",
       "3             West Loop    5163.666667\n",
       "4                O'Hare    2546.900000\n",
       "5             Lake View    2420.966667\n",
       "6            Grant Park    2068.533333\n",
       "7         Museum Campus    1510.000000\n",
       "8            Gold Coast    1364.233333\n",
       "9    Sheffield & DePaul    1259.766667"
      ]
     },
     "metadata": {},
     "output_type": "display_data"
    }
   ],
   "source": [
    "result_4_sorted = result_4.sort_values('average_trips', ascending=False)\n",
    "result_4_10=result_4_sorted.head(10)\n",
    "display(result_4_sorted.head(10))"
   ]
  },
  {
   "cell_type": "markdown",
   "id": "e3379098",
   "metadata": {},
   "source": [
    "Calculamos los bin con regla de sturges"
   ]
  },
  {
   "cell_type": "code",
   "execution_count": 10,
   "id": "2f63bbbb",
   "metadata": {},
   "outputs": [
    {
     "name": "stdout",
     "output_type": "stream",
     "text": [
      "Numero de bins según la regla de sturges: 4\n"
     ]
    }
   ],
   "source": [
    "n = len(result_4_10['average_trips'])\n",
    "\n",
    "bins_4 = 1 + math.log2(n)\n",
    "\n",
    "bins_4 = int(round(bins))\n",
    "\n",
    "\n",
    "print(\"Numero de bins según la regla de sturges:\", bins_4)"
   ]
  },
  {
   "cell_type": "markdown",
   "id": "1ec97254",
   "metadata": {},
   "source": [
    "Creamos el histograma"
   ]
  },
  {
   "cell_type": "code",
   "execution_count": 11,
   "id": "63734fa6",
   "metadata": {},
   "outputs": [
    {
     "data": {
      "image/png": "[encoded data removed]",
      "text/plain": [
       "<Figure size 720x432 with 1 Axes>"
      ]
     },
     "metadata": {
      "needs_background": "light"
     },
     "output_type": "display_data"
    }
   ],
   "source": [
    "# Hist\n",
    "plt.figure(figsize=(10, 6))\n",
    "plt.barh(result_4_10['dropoff_location_name'], result_4_10['average_trips'])\n",
    "plt.xlabel('Promedio de viajes')\n",
    "plt.ylabel('Lugar')\n",
    "plt.title('Histograma de 10 principales destinos promedio')\n",
    "plt.tight_layout()\n",
    "plt.show()"
   ]
  },
  {
   "cell_type": "markdown",
   "id": "74c707e9",
   "metadata": {},
   "source": [
    "Podemos apreciar con bastante claridad que los primeros 2 lugares Loop y River North, son por mucho los destinos mas concurridos, despues los 3 y 4 Streeterville y West Loop, tienen un resultado similar al 1 y 2 pero en una menor proporcion, de igual manera que los otros 6 lugares"
   ]
  },
  {
   "cell_type": "markdown",
   "id": "f902a431",
   "metadata": {},
   "source": [
    "# Paso 5. Prueba de hipótesis (Python)"
   ]
  },
  {
   "cell_type": "markdown",
   "id": "106c598e",
   "metadata": {},
   "source": [
    "Importamos archivos"
   ]
  },
  {
   "cell_type": "code",
   "execution_count": 12,
   "id": "644a4ca0",
   "metadata": {},
   "outputs": [
    {
     "name": "stdout",
     "output_type": "stream",
     "text": [
      "<class 'pandas.core.frame.DataFrame'>\n",
      "RangeIndex: 1068 entries, 0 to 1067\n",
      "Data columns (total 3 columns):\n",
      " #   Column              Non-Null Count  Dtype  \n",
      "---  ------              --------------  -----  \n",
      " 0   start_ts            1068 non-null   object \n",
      " 1   weather_conditions  1068 non-null   object \n",
      " 2   duration_seconds    1068 non-null   float64\n",
      "dtypes: float64(1), object(2)\n",
      "memory usage: 25.2+ KB\n",
      "None\n"
     ]
    },
    {
     "data": {
      "text/html": [
       "<div>\n",
       "<style scoped>\n",
       "    .dataframe tbody tr th:only-of-type {\n",
       "        vertical-align: middle;\n",
       "    }\n",
       "\n",
       "    .dataframe tbody tr th {\n",
       "        vertical-align: top;\n",
       "    }\n",
       "\n",
       "    .dataframe thead th {\n",
       "        text-align: right;\n",
       "    }\n",
       "</style>\n",
       "<table border=\"1\" class=\"dataframe\">\n",
       "  <thead>\n",
       "    <tr style=\"text-align: right;\">\n",
       "      <th></th>\n",
       "      <th>start_ts</th>\n",
       "      <th>weather_conditions</th>\n",
       "      <th>duration_seconds</th>\n",
       "    </tr>\n",
       "  </thead>\n",
       "  <tbody>\n",
       "    <tr>\n",
       "      <th>0</th>\n",
       "      <td>2017-11-25 16:00:00</td>\n",
       "      <td>Good</td>\n",
       "      <td>2410.0</td>\n",
       "    </tr>\n",
       "    <tr>\n",
       "      <th>1</th>\n",
       "      <td>2017-11-25 14:00:00</td>\n",
       "      <td>Good</td>\n",
       "      <td>1920.0</td>\n",
       "    </tr>\n",
       "    <tr>\n",
       "      <th>2</th>\n",
       "      <td>2017-11-25 12:00:00</td>\n",
       "      <td>Good</td>\n",
       "      <td>1543.0</td>\n",
       "    </tr>\n",
       "    <tr>\n",
       "      <th>3</th>\n",
       "      <td>2017-11-04 10:00:00</td>\n",
       "      <td>Good</td>\n",
       "      <td>2512.0</td>\n",
       "    </tr>\n",
       "    <tr>\n",
       "      <th>4</th>\n",
       "      <td>2017-11-11 07:00:00</td>\n",
       "      <td>Good</td>\n",
       "      <td>1440.0</td>\n",
       "    </tr>\n",
       "  </tbody>\n",
       "</table>\n",
       "</div>"
      ],
      "text/plain": [
       "              start_ts weather_conditions  duration_seconds\n",
       "0  2017-11-25 16:00:00               Good            2410.0\n",
       "1  2017-11-25 14:00:00               Good            1920.0\n",
       "2  2017-11-25 12:00:00               Good            1543.0\n",
       "3  2017-11-04 10:00:00               Good            2512.0\n",
       "4  2017-11-11 07:00:00               Good            1440.0"
      ]
     },
     "metadata": {},
     "output_type": "display_data"
    }
   ],
   "source": [
    "print(result_7.info())\n",
    "display(result_7.head())"
   ]
  },
  {
   "cell_type": "markdown",
   "id": "fd4672ae",
   "metadata": {},
   "source": [
    "Vamos a corregir el tipo de dato de start_ts a fecha"
   ]
  },
  {
   "cell_type": "code",
   "execution_count": 13,
   "id": "50e52b6b",
   "metadata": {},
   "outputs": [
    {
     "name": "stdout",
     "output_type": "stream",
     "text": [
      "<class 'pandas.core.frame.DataFrame'>\n",
      "RangeIndex: 1068 entries, 0 to 1067\n",
      "Data columns (total 3 columns):\n",
      " #   Column              Non-Null Count  Dtype         \n",
      "---  ------              --------------  -----         \n",
      " 0   start_ts            1068 non-null   datetime64[ns]\n",
      " 1   weather_conditions  1068 non-null   object        \n",
      " 2   duration_seconds    1068 non-null   float64       \n",
      "dtypes: datetime64[ns](1), float64(1), object(1)\n",
      "memory usage: 25.2+ KB\n",
      "None\n"
     ]
    },
    {
     "data": {
      "text/html": [
       "<div>\n",
       "<style scoped>\n",
       "    .dataframe tbody tr th:only-of-type {\n",
       "        vertical-align: middle;\n",
       "    }\n",
       "\n",
       "    .dataframe tbody tr th {\n",
       "        vertical-align: top;\n",
       "    }\n",
       "\n",
       "    .dataframe thead th {\n",
       "        text-align: right;\n",
       "    }\n",
       "</style>\n",
       "<table border=\"1\" class=\"dataframe\">\n",
       "  <thead>\n",
       "    <tr style=\"text-align: right;\">\n",
       "      <th></th>\n",
       "      <th>start_ts</th>\n",
       "      <th>weather_conditions</th>\n",
       "      <th>duration_seconds</th>\n",
       "    </tr>\n",
       "  </thead>\n",
       "  <tbody>\n",
       "    <tr>\n",
       "      <th>0</th>\n",
       "      <td>2017-11-25 16:00:00</td>\n",
       "      <td>Good</td>\n",
       "      <td>2410.0</td>\n",
       "    </tr>\n",
       "    <tr>\n",
       "      <th>1</th>\n",
       "      <td>2017-11-25 14:00:00</td>\n",
       "      <td>Good</td>\n",
       "      <td>1920.0</td>\n",
       "    </tr>\n",
       "    <tr>\n",
       "      <th>2</th>\n",
       "      <td>2017-11-25 12:00:00</td>\n",
       "      <td>Good</td>\n",
       "      <td>1543.0</td>\n",
       "    </tr>\n",
       "    <tr>\n",
       "      <th>3</th>\n",
       "      <td>2017-11-04 10:00:00</td>\n",
       "      <td>Good</td>\n",
       "      <td>2512.0</td>\n",
       "    </tr>\n",
       "    <tr>\n",
       "      <th>4</th>\n",
       "      <td>2017-11-11 07:00:00</td>\n",
       "      <td>Good</td>\n",
       "      <td>1440.0</td>\n",
       "    </tr>\n",
       "  </tbody>\n",
       "</table>\n",
       "</div>"
      ],
      "text/plain": [
       "             start_ts weather_conditions  duration_seconds\n",
       "0 2017-11-25 16:00:00               Good            2410.0\n",
       "1 2017-11-25 14:00:00               Good            1920.0\n",
       "2 2017-11-25 12:00:00               Good            1543.0\n",
       "3 2017-11-04 10:00:00               Good            2512.0\n",
       "4 2017-11-11 07:00:00               Good            1440.0"
      ]
     },
     "metadata": {},
     "output_type": "display_data"
    }
   ],
   "source": [
    "result_7['start_ts'] = pd.to_datetime(result_7['start_ts'])\n",
    "\n",
    "print(result_7.info())\n",
    "display(result_7.head())"
   ]
  },
  {
   "cell_type": "markdown",
   "id": "a68f1997",
   "metadata": {},
   "source": [
    "Tomamos el promedio de todos los viajes"
   ]
  },
  {
   "cell_type": "code",
   "execution_count": 14,
   "id": "3b5b3dfc",
   "metadata": {},
   "outputs": [
    {
     "data": {
      "text/html": [
       "<div>\n",
       "<style scoped>\n",
       "    .dataframe tbody tr th:only-of-type {\n",
       "        vertical-align: middle;\n",
       "    }\n",
       "\n",
       "    .dataframe tbody tr th {\n",
       "        vertical-align: top;\n",
       "    }\n",
       "\n",
       "    .dataframe thead th {\n",
       "        text-align: right;\n",
       "    }\n",
       "</style>\n",
       "<table border=\"1\" class=\"dataframe\">\n",
       "  <thead>\n",
       "    <tr style=\"text-align: right;\">\n",
       "      <th></th>\n",
       "      <th>start_ts</th>\n",
       "      <th>weather_conditions</th>\n",
       "      <th>duration_seconds</th>\n",
       "      <th>duration_avg</th>\n",
       "    </tr>\n",
       "  </thead>\n",
       "  <tbody>\n",
       "    <tr>\n",
       "      <th>0</th>\n",
       "      <td>2017-11-25 16:00:00</td>\n",
       "      <td>Good</td>\n",
       "      <td>2410.0</td>\n",
       "      <td>2071.731273</td>\n",
       "    </tr>\n",
       "    <tr>\n",
       "      <th>1</th>\n",
       "      <td>2017-11-25 14:00:00</td>\n",
       "      <td>Good</td>\n",
       "      <td>1920.0</td>\n",
       "      <td>2071.731273</td>\n",
       "    </tr>\n",
       "    <tr>\n",
       "      <th>2</th>\n",
       "      <td>2017-11-25 12:00:00</td>\n",
       "      <td>Good</td>\n",
       "      <td>1543.0</td>\n",
       "      <td>2071.731273</td>\n",
       "    </tr>\n",
       "    <tr>\n",
       "      <th>3</th>\n",
       "      <td>2017-11-04 10:00:00</td>\n",
       "      <td>Good</td>\n",
       "      <td>2512.0</td>\n",
       "      <td>2071.731273</td>\n",
       "    </tr>\n",
       "    <tr>\n",
       "      <th>4</th>\n",
       "      <td>2017-11-11 07:00:00</td>\n",
       "      <td>Good</td>\n",
       "      <td>1440.0</td>\n",
       "      <td>2071.731273</td>\n",
       "    </tr>\n",
       "  </tbody>\n",
       "</table>\n",
       "</div>"
      ],
      "text/plain": [
       "             start_ts weather_conditions  duration_seconds  duration_avg\n",
       "0 2017-11-25 16:00:00               Good            2410.0   2071.731273\n",
       "1 2017-11-25 14:00:00               Good            1920.0   2071.731273\n",
       "2 2017-11-25 12:00:00               Good            1543.0   2071.731273\n",
       "3 2017-11-04 10:00:00               Good            2512.0   2071.731273\n",
       "4 2017-11-11 07:00:00               Good            1440.0   2071.731273"
      ]
     },
     "metadata": {},
     "output_type": "display_data"
    }
   ],
   "source": [
    "result_7['duration_avg'] = result_7['duration_seconds'].mean()\n",
    "display(result_7.head())\n"
   ]
  },
  {
   "cell_type": "code",
   "execution_count": 15,
   "id": "ce5dcfa0",
   "metadata": {},
   "outputs": [
    {
     "name": "stdout",
     "output_type": "stream",
     "text": [
      "Tiempo promedio: 2071.7312734082398\n"
     ]
    }
   ],
   "source": [
    "average_duration = result_7['duration_seconds'].mean()\n",
    "print(\"Tiempo promedio:\", average_duration)\n"
   ]
  },
  {
   "cell_type": "markdown",
   "id": "6b285d5a",
   "metadata": {},
   "source": [
    "Filtramos por sabado y por bad"
   ]
  },
  {
   "cell_type": "code",
   "execution_count": 16,
   "id": "7e6229e0",
   "metadata": {},
   "outputs": [
    {
     "data": {
      "text/html": [
       "<div>\n",
       "<style scoped>\n",
       "    .dataframe tbody tr th:only-of-type {\n",
       "        vertical-align: middle;\n",
       "    }\n",
       "\n",
       "    .dataframe tbody tr th {\n",
       "        vertical-align: top;\n",
       "    }\n",
       "\n",
       "    .dataframe thead th {\n",
       "        text-align: right;\n",
       "    }\n",
       "</style>\n",
       "<table border=\"1\" class=\"dataframe\">\n",
       "  <thead>\n",
       "    <tr style=\"text-align: right;\">\n",
       "      <th></th>\n",
       "      <th>duration_seconds</th>\n",
       "      <th>duration_avg</th>\n",
       "    </tr>\n",
       "    <tr>\n",
       "      <th>start_ts</th>\n",
       "      <th></th>\n",
       "      <th></th>\n",
       "    </tr>\n",
       "  </thead>\n",
       "  <tbody>\n",
       "    <tr>\n",
       "      <th>2017-11-04 16:00:00</th>\n",
       "      <td>2972.461538</td>\n",
       "      <td>2071.731273</td>\n",
       "    </tr>\n",
       "    <tr>\n",
       "      <th>2017-11-04 17:00:00</th>\n",
       "      <td>2434.500000</td>\n",
       "      <td>2071.731273</td>\n",
       "    </tr>\n",
       "    <tr>\n",
       "      <th>2017-11-04 18:00:00</th>\n",
       "      <td>2251.941176</td>\n",
       "      <td>2071.731273</td>\n",
       "    </tr>\n",
       "    <tr>\n",
       "      <th>2017-11-18 00:00:00</th>\n",
       "      <td>480.000000</td>\n",
       "      <td>2071.731273</td>\n",
       "    </tr>\n",
       "    <tr>\n",
       "      <th>2017-11-18 07:00:00</th>\n",
       "      <td>1402.333333</td>\n",
       "      <td>2071.731273</td>\n",
       "    </tr>\n",
       "    <tr>\n",
       "      <th>2017-11-18 08:00:00</th>\n",
       "      <td>1464.058824</td>\n",
       "      <td>2071.731273</td>\n",
       "    </tr>\n",
       "    <tr>\n",
       "      <th>2017-11-18 09:00:00</th>\n",
       "      <td>1378.500000</td>\n",
       "      <td>2071.731273</td>\n",
       "    </tr>\n",
       "    <tr>\n",
       "      <th>2017-11-18 10:00:00</th>\n",
       "      <td>1729.214286</td>\n",
       "      <td>2071.731273</td>\n",
       "    </tr>\n",
       "    <tr>\n",
       "      <th>2017-11-18 12:00:00</th>\n",
       "      <td>2775.423077</td>\n",
       "      <td>2071.731273</td>\n",
       "    </tr>\n",
       "    <tr>\n",
       "      <th>2017-11-18 13:00:00</th>\n",
       "      <td>3278.285714</td>\n",
       "      <td>2071.731273</td>\n",
       "    </tr>\n",
       "    <tr>\n",
       "      <th>2017-11-18 16:00:00</th>\n",
       "      <td>2803.700000</td>\n",
       "      <td>2071.731273</td>\n",
       "    </tr>\n",
       "    <tr>\n",
       "      <th>2017-11-18 17:00:00</th>\n",
       "      <td>2418.333333</td>\n",
       "      <td>2071.731273</td>\n",
       "    </tr>\n",
       "    <tr>\n",
       "      <th>2017-11-18 21:00:00</th>\n",
       "      <td>1748.000000</td>\n",
       "      <td>2071.731273</td>\n",
       "    </tr>\n",
       "  </tbody>\n",
       "</table>\n",
       "</div>"
      ],
      "text/plain": [
       "                     duration_seconds  duration_avg\n",
       "start_ts                                           \n",
       "2017-11-04 16:00:00       2972.461538   2071.731273\n",
       "2017-11-04 17:00:00       2434.500000   2071.731273\n",
       "2017-11-04 18:00:00       2251.941176   2071.731273\n",
       "2017-11-18 00:00:00        480.000000   2071.731273\n",
       "2017-11-18 07:00:00       1402.333333   2071.731273\n",
       "2017-11-18 08:00:00       1464.058824   2071.731273\n",
       "2017-11-18 09:00:00       1378.500000   2071.731273\n",
       "2017-11-18 10:00:00       1729.214286   2071.731273\n",
       "2017-11-18 12:00:00       2775.423077   2071.731273\n",
       "2017-11-18 13:00:00       3278.285714   2071.731273\n",
       "2017-11-18 16:00:00       2803.700000   2071.731273\n",
       "2017-11-18 17:00:00       2418.333333   2071.731273\n",
       "2017-11-18 21:00:00       1748.000000   2071.731273"
      ]
     },
     "metadata": {},
     "output_type": "display_data"
    }
   ],
   "source": [
    "result_7_saturday_bad = result_7[(result_7['start_ts'].dt.dayofweek == 5) & (result_7['weather_conditions'] == 'Bad')].groupby('start_ts').mean()\n",
    "display(result_7_saturday_bad)\n"
   ]
  },
  {
   "cell_type": "markdown",
   "id": "4847f133",
   "metadata": {},
   "source": [
    "Calculamos promedios para los datos filtrados"
   ]
  },
  {
   "cell_type": "code",
   "execution_count": 17,
   "id": "d1594908",
   "metadata": {},
   "outputs": [
    {
     "name": "stdout",
     "output_type": "stream",
     "text": [
      "Tiempo promedio: 2087.442406311637\n"
     ]
    }
   ],
   "source": [
    "average_sat_duration = result_7_saturday_bad['duration_seconds'].mean()\n",
    "print(\"Tiempo promedio:\", average_sat_duration)\n"
   ]
  },
  {
   "cell_type": "markdown",
   "id": "5d603ae0",
   "metadata": {},
   "source": [
    "project_sql_result_07.csv: el resultado de la última consulta. Contiene datos sobre viajes desde el Loop hasta el Aeropuerto Internacional O'Hare. Recuerda, estos son los valores de campo de la tabla:\n",
    "start_ts: fecha y hora de recogida\n",
    "weather_conditions: condiciones climáticas en el momento en el que comenzó el viaje\n",
    "duration_seconds: duración del viaje en segundos\n"
   ]
  },
  {
   "cell_type": "markdown",
   "id": "fd817860",
   "metadata": {},
   "source": [
    "Prueba la hipótesis: \"La duración promedio de los viajes desde el Loop hasta el Aeropuerto Internacional O'Hare cambia los sábados lluviosos\".\n",
    "Establece el valor del nivel de significación (alfa) por tu cuenta.\n",
    "Explica:\n",
    "cómo planteaste las hipótesis nula y alternativa\n",
    "qué criterio usaste para probar las hipótesis y por qué"
   ]
  },
  {
   "cell_type": "code",
   "execution_count": 21,
   "id": "b9df74ef",
   "metadata": {},
   "outputs": [
    {
     "name": "stdout",
     "output_type": "stream",
     "text": [
      "Estadística de prueba: 0.07314521569385107\n",
      "Valor p: 0.9417041176400133\n",
      "Hipotesis alternativa. La duración promedio de los viajes desde el Loop hasta el Aeropuerto Internacional O'Hare cambia los sábados lluviosos.\n"
     ]
    }
   ],
   "source": [
    "statistic, pvalue = ttest_ind(result_7_saturday_bad['duration_seconds'], result_7['duration_seconds'])\n",
    "\n",
    "print(\"Estadística de prueba:\", statistic)\n",
    "print(\"Valor p:\", pvalue)\n",
    "\n",
    "alpha = 0.05\n",
    "if pvalue < alpha:\n",
    "    print(\"Hipótesis nula. La duracion de los viajes no cambia en sabados lluviosos.\")\n",
    "else:\n",
    "    print(\"Hipotesis alternativa. La duración promedio de los viajes desde el Loop hasta el Aeropuerto Internacional O'Hare cambia los sábados lluviosos.\")"
   ]
  },
  {
   "cell_type": "markdown",
   "id": "61d21917",
   "metadata": {},
   "source": [
    "# Conclusion"
   ]
  },
  {
   "cell_type": "markdown",
   "id": "ad1d15b2",
   "metadata": {},
   "source": [
    "Comparamos la duracion de los viajes en sabados con lluvia o un clima malo con los viajes en un dia cualquiera, pudimos comprobar que la duración promedio de los viajes desde el Loop hasta el Aeropuerto Internacional O'Hare efectivamente cambia los sábados lluviosos.\n",
    "\n",
    "Ademas me di a la tarea de tomar los tiempos promedios de los viajes, siendo para un sabado con mal clima un tiempo promedio de 2087.442406311637,  mientras que para los demas dias teniamos un tiempo promedio de 2071.7312734082398\n",
    "\n",
    "Es bastante evidente la diferencia, esto se debe a que con un mal clima hay mas riesgo en el camino y con ello la velocidad de los conductores puede verse reducida.\n",
    "\n",
    "De igual forma pudimos ver que empresa es mas popular, resultando en Flash Cab que es lider , despues tenemos las otras 9 que decrecen poco a poco, solo Taxi Affilliation Service Yellow y Chicago Carriage Cab Corp tienen resultados bastante similares, siendo los primeros 2 destinos mas populares Loop y River North, despues los 3 y 4 Streeterville y West Loop, tienen un resultado similar al 1 y 2 pero en una menor proporcion, de igual manera que los otros 6 lugares."
   ]
  }
 ],
 "metadata": {
  "kernelspec": {
   "display_name": "Python 3 (ipykernel)",
   "language": "python",
   "name": "python3"
  },
  "language_info": {
   "codemirror_mode": {
    "name": "ipython",
    "version": 3
   },
   "file_extension": ".py",
   "mimetype": "text/x-python",
   "name": "python",
   "nbconvert_exporter": "python",
   "pygments_lexer": "ipython3",
   "version": "3.9.5"
  },
  "toc": {
   "base_numbering": 1,
   "nav_menu": {},
   "number_sections": true,
   "sideBar": true,
   "skip_h1_title": true,
   "title_cell": "Table of Contents",
   "title_sidebar": "Contents",
   "toc_cell": false,
   "toc_position": {},
   "toc_section_display": true,
   "toc_window_display": false
  }
 },
 "nbformat": 4,
 "nbformat_minor": 5
}
