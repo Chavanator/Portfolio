{
 "cells": [
  {
   "cell_type": "markdown",
   "id": "76c7308d",
   "metadata": {},
   "source": [
    "# Puntuacion de crédito"
   ]
  },
  {
   "cell_type": "markdown",
   "id": "517ed8ca",
   "metadata": {},
   "source": [
    "# Introduccion\n",
    "\n",
    "En este proyecto se lleva a cabo la evaluación de los clientes con respecto a la solvencia crediticia la cual es fundamental para determinar tanto la capacidad de pago como la reduccion los riesgos de impuntualidades en los pagos. El objetivo principal será investigar si variables como el estado civil, el número de hijos, propositos e ingresos de un cliente tienen algún impacto en el incumplimiento de un préstamo"
   ]
  },
  {
   "cell_type": "markdown",
   "id": "da122416",
   "metadata": {},
   "source": [
    "## 1.- Abrir archivo de datos"
   ]
  },
  {
   "cell_type": "code",
   "execution_count": 1,
   "id": "e73462be",
   "metadata": {},
   "outputs": [],
   "source": [
    "#librerias\n",
    "import pandas as pd"
   ]
  },
  {
   "cell_type": "code",
   "execution_count": 2,
   "id": "ec10dffd",
   "metadata": {
    "scrolled": true
   },
   "outputs": [],
   "source": [
    "#abrir el archivo\n",
    "df = pd.read_csv('/datasets/credit_scoring_eng.csv')"
   ]
  },
  {
   "cell_type": "markdown",
   "id": "b43fc9b1",
   "metadata": {},
   "source": [
    "## 2.-Preprocesamiento de datos"
   ]
  },
  {
   "cell_type": "code",
   "execution_count": 3,
   "id": "91c64256",
   "metadata": {
    "scrolled": true
   },
   "outputs": [
    {
     "name": "stdout",
     "output_type": "stream",
     "text": [
      "<class 'pandas.core.frame.DataFrame'>\n",
      "RangeIndex: 21525 entries, 0 to 21524\n",
      "Data columns (total 12 columns):\n",
      " #   Column            Non-Null Count  Dtype  \n",
      "---  ------            --------------  -----  \n",
      " 0   children          21525 non-null  int64  \n",
      " 1   days_employed     19351 non-null  float64\n",
      " 2   dob_years         21525 non-null  int64  \n",
      " 3   education         21525 non-null  object \n",
      " 4   education_id      21525 non-null  int64  \n",
      " 5   family_status     21525 non-null  object \n",
      " 6   family_status_id  21525 non-null  int64  \n",
      " 7   gender            21525 non-null  object \n",
      " 8   income_type       21525 non-null  object \n",
      " 9   debt              21525 non-null  int64  \n",
      " 10  total_income      19351 non-null  float64\n",
      " 11  purpose           21525 non-null  object \n",
      "dtypes: float64(2), int64(5), object(5)\n",
      "memory usage: 2.0+ MB\n"
     ]
    }
   ],
   "source": [
    "#informacion general\n",
    "df.info()"
   ]
  },
  {
   "cell_type": "code",
   "execution_count": 4,
   "id": "06c51c74",
   "metadata": {
    "scrolled": true
   },
   "outputs": [
    {
     "name": "stdout",
     "output_type": "stream",
     "text": [
      "children               0\n",
      "days_employed       2174\n",
      "dob_years              0\n",
      "education              0\n",
      "education_id           0\n",
      "family_status          0\n",
      "family_status_id       0\n",
      "gender                 0\n",
      "income_type            0\n",
      "debt                   0\n",
      "total_income        2174\n",
      "purpose                0\n",
      "dtype: int64\n"
     ]
    }
   ],
   "source": [
    "#numero de datos ausentes\n",
    "print(df.isna().sum())"
   ]
  },
  {
   "cell_type": "code",
   "execution_count": 5,
   "id": "92055ccc",
   "metadata": {},
   "outputs": [
    {
     "name": "stdout",
     "output_type": "stream",
     "text": [
      "¿Los valores nulos son simétricos? True\n"
     ]
    }
   ],
   "source": [
    "missing_data = df[['days_employed', 'total_income']].isnull().sum()\n",
    "symmetry = missing_data[0] == missing_data[1]\n",
    "\n",
    "print(f\"¿Los valores nulos son simétricos? {symmetry}\")"
   ]
  },
  {
   "cell_type": "code",
   "execution_count": 6,
   "id": "fbb890b5",
   "metadata": {},
   "outputs": [
    {
     "name": "stdout",
     "output_type": "stream",
     "text": [
      "Distribución de respuestas en days_employed:\n",
      "df_no_null:\n",
      "-327.685916     0.000052\n",
      "-1580.622577    0.000052\n",
      "-4122.460569    0.000052\n",
      "-2828.237691    0.000052\n",
      "-2636.090517    0.000052\n",
      "                  ...   \n",
      "-7120.517564    0.000052\n",
      "-2146.884040    0.000052\n",
      "-881.454684     0.000052\n",
      "-794.666350     0.000052\n",
      "-3382.113891    0.000052\n",
      "Name: days_employed, Length: 19351, dtype: float64\n",
      "df_null_values:\n",
      "Series([], Name: days_employed, dtype: float64)\n",
      "\n",
      "Distribución de respuestas en total_income:\n",
      "df_no_null:\n",
      "42413.096    0.000103\n",
      "17312.717    0.000103\n",
      "31791.384    0.000103\n",
      "14427.878    0.000052\n",
      "20837.034    0.000052\n",
      "               ...   \n",
      "27715.458    0.000052\n",
      "23834.534    0.000052\n",
      "26124.613    0.000052\n",
      "28692.182    0.000052\n",
      "41428.916    0.000052\n",
      "Name: total_income, Length: 19348, dtype: float64\n",
      "df_null_values:\n",
      "Series([], Name: total_income, dtype: float64)\n",
      "\n"
     ]
    }
   ],
   "source": [
    "#observaciones sobre patrones en valores nulos\n",
    "df_no_null = df.dropna()\n",
    "df_null_values = df[df['days_employed'].isnull() | df['total_income'].isnull()]\n",
    "for column in ['days_employed', 'total_income']:\n",
    "    print(f\"Distribución de respuestas en {column}:\")\n",
    "    print(\"df_no_null:\")\n",
    "    print(df_no_null[column].value_counts(normalize=True))\n",
    "    print(\"df_null_values:\")\n",
    "    print(df_null_values[column].value_counts(normalize=True))\n",
    "    print()"
   ]
  },
  {
   "cell_type": "markdown",
   "id": "97519d6e",
   "metadata": {},
   "source": [
    "Efectivamente los valores nulos en days_employed y total_income son simetricos, pues existe la misma cantidad de valores ausentes en ambas columnas\n"
   ]
  },
  {
   "cell_type": "code",
   "execution_count": 7,
   "id": "ab566d9a",
   "metadata": {
    "scrolled": true
   },
   "outputs": [
    {
     "name": "stdout",
     "output_type": "stream",
     "text": [
      "   children  days_employed  dob_years            education  education_id  \\\n",
      "0         1   -8437.673028         42    bachelor's degree             0   \n",
      "1         1   -4024.803754         36  secondary education             1   \n",
      "2         0   -5623.422610         33  secondary education             1   \n",
      "3         3   -4124.747207         32  secondary education             1   \n",
      "4         0  340266.072047         53  secondary education             1   \n",
      "\n",
      "       family_status  family_status_id gender income_type  debt  total_income  \\\n",
      "0            married                 0      F    employee     0     40620.102   \n",
      "1            married                 0      F    employee     0     17932.802   \n",
      "2            married                 0      M    employee     0     23341.752   \n",
      "3            married                 0      M    employee     0     42820.568   \n",
      "4  civil partnership                 1      F     retiree     0     25378.572   \n",
      "\n",
      "                   purpose  \n",
      "0    purchase of the house  \n",
      "1             car purchase  \n",
      "2    purchase of the house  \n",
      "3  supplementary education  \n",
      "4        to have a wedding  \n"
     ]
    }
   ],
   "source": [
    "#correccion de education (tiene un mal uso de mayúsculas y minúsculas)\n",
    "df['education'] = df['education'].str.lower()\n",
    "print(df.head())"
   ]
  },
  {
   "cell_type": "code",
   "execution_count": 8,
   "id": "53d5662c",
   "metadata": {},
   "outputs": [
    {
     "name": "stdout",
     "output_type": "stream",
     "text": [
      "[ 1  0  3  2 -1  4 20  5]\n",
      "[1 0 3 2 4 5]\n"
     ]
    }
   ],
   "source": [
    "#correccion de children (hay valores inconsistentes como -1 y 20)\n",
    "unique_children = df['children'].unique()\n",
    "print(unique_children)\n",
    "\n",
    "df['children']=df['children'].abs()\n",
    "df['children']=df['children'].replace(20, 2)\n",
    "\n",
    "unique_children = df['children'].unique()\n",
    "print(unique_children)"
   ]
  },
  {
   "cell_type": "code",
   "execution_count": 9,
   "id": "71e39f37",
   "metadata": {},
   "outputs": [
    {
     "name": "stdout",
     "output_type": "stream",
     "text": [
      "[8437.67302776 4024.80375385 5623.42261023 ... 2113.3468877  3112.4817052\n",
      " 1984.50758853]\n"
     ]
    }
   ],
   "source": [
    "# Corrección de days_employed (tiene números negativos y también anormalmente grandes)\n",
    "df['days_employed'] = df['days_employed'].apply(lambda x: -x if x < 0 else x)\n",
    "\n",
    "max_age = df['dob_years'].max()\n",
    "df['days_employed'] = df['days_employed'].apply(lambda x: x if x < max_age * 365 else x / 365)\n",
    "\n",
    "# Verificación de los valores corregidos\n",
    "unique_days_employed = df['days_employed'].unique()\n",
    "print(unique_days_employed)\n"
   ]
  },
  {
   "cell_type": "markdown",
   "id": "a0365458",
   "metadata": {},
   "source": [
    "Se corrigieron datos negativos y anormales"
   ]
  },
  {
   "cell_type": "code",
   "execution_count": 10,
   "id": "5760623d",
   "metadata": {},
   "outputs": [
    {
     "name": "stdout",
     "output_type": "stream",
     "text": [
      "[42.         36.         33.         32.         53.         27.\n",
      " 43.         50.         35.         41.         40.         65.\n",
      " 54.         56.         26.         48.         24.         21.\n",
      " 57.         67.         28.         63.         62.         47.\n",
      " 34.         68.         25.         31.         30.         20.\n",
      " 49.         37.         45.         61.         64.         44.\n",
      " 52.         46.         23.         38.         39.         51.\n",
      " 43.29337979 59.         29.         60.         55.         58.\n",
      " 71.         22.         73.         66.         69.         19.\n",
      " 72.         70.         74.         75.        ]\n"
     ]
    }
   ],
   "source": [
    "#correccion de dob_years (tiene 0 s)\n",
    "mean = df['dob_years'].mean()\n",
    "df['dob_years'] = df['dob_years'].replace(0, mean)\n",
    "\n",
    "unique_dob = df['dob_years'].unique()\n",
    "print(unique_dob)"
   ]
  },
  {
   "cell_type": "code",
   "execution_count": 11,
   "id": "d4b68d32",
   "metadata": {},
   "outputs": [
    {
     "data": {
      "text/plain": [
       "F      14236\n",
       "M       7288\n",
       "XNA        1\n",
       "Name: gender, dtype: int64"
      ]
     },
     "execution_count": 11,
     "metadata": {},
     "output_type": "execute_result"
    }
   ],
   "source": [
    "#correccion de gender (hay que identificar a que se puede referir XNA).\n",
    "df['gender'].value_counts()"
   ]
  },
  {
   "cell_type": "code",
   "execution_count": 12,
   "id": "3f4c2f43",
   "metadata": {
    "scrolled": true
   },
   "outputs": [],
   "source": [
    "#correccion de familly_status (su contenido debe estar en snake_case).\n",
    "df['family_status'] = df['family_status'].str.lower().str.replace(' ', '_')"
   ]
  },
  {
   "cell_type": "code",
   "execution_count": 13,
   "id": "7b70795a",
   "metadata": {},
   "outputs": [],
   "source": [
    "#correccion de income_type (el contenido debe estar en snake_case y las categorías de menor frecuencia pueden seer agrupadas)\n",
    "df['income_type'] = df['income_type'].str.lower().str.replace(' ', '_')"
   ]
  },
  {
   "cell_type": "code",
   "execution_count": 14,
   "id": "535411d2",
   "metadata": {},
   "outputs": [],
   "source": [
    "# Crear dos variables de agrupamientos (age_grouping y income_grouping)\n",
    "df['age_grouping'] = pd.cut(df['dob_years'], bins=[0, 30, 40, 50, 100], labels=['<30', '30-40', '40-50', '>50'])\n",
    "df['income_grouping'] = pd.qcut(df['total_income'], q=4, labels=['Q1', 'Q2', 'Q3', 'Q4'])"
   ]
  },
  {
   "cell_type": "code",
   "execution_count": 15,
   "id": "b3dfdb78",
   "metadata": {},
   "outputs": [],
   "source": [
    "#llena datos ausentes en days_employed y total_income\n",
    "df['days_employed'].fillna(df.groupby('age_grouping')['days_employed'].transform('median'), inplace=True)\n",
    "df['total_income'].fillna(df.groupby('income_type')['total_income'].transform('median'), inplace=True)"
   ]
  },
  {
   "cell_type": "code",
   "execution_count": 16,
   "id": "023e73d1",
   "metadata": {},
   "outputs": [
    {
     "name": "stdout",
     "output_type": "stream",
     "text": [
      "children               0\n",
      "days_employed          0\n",
      "dob_years              0\n",
      "education              0\n",
      "education_id           0\n",
      "family_status          0\n",
      "family_status_id       0\n",
      "gender                 0\n",
      "income_type            0\n",
      "debt                   0\n",
      "total_income           0\n",
      "purpose                0\n",
      "age_grouping           0\n",
      "income_grouping     2174\n",
      "dtype: int64\n"
     ]
    }
   ],
   "source": [
    "#verificacion de datos ausentes\n",
    "print(df.isna().sum())"
   ]
  },
  {
   "cell_type": "code",
   "execution_count": 17,
   "id": "d65483b2",
   "metadata": {},
   "outputs": [
    {
     "name": "stdout",
     "output_type": "stream",
     "text": [
      "   children  days_employed  dob_years            education  education_id  \\\n",
      "0         1    8437.673028       42.0    bachelor's degree             0   \n",
      "1         1    4024.803754       36.0  secondary education             1   \n",
      "2         0    5623.422610       33.0  secondary education             1   \n",
      "3         3    4124.747207       32.0  secondary education             1   \n",
      "4         0     932.235814       53.0  secondary education             1   \n",
      "5         0     926.185831       27.0    bachelor's degree             0   \n",
      "6         0    2879.202052       43.0    bachelor's degree             0   \n",
      "7         0     152.779569       50.0  secondary education             1   \n",
      "8         2    6929.865299       35.0    bachelor's degree             0   \n",
      "9         0    2188.756445       41.0  secondary education             1   \n",
      "\n",
      "       family_status  family_status_id gender income_type  debt  total_income  \\\n",
      "0            married                 0      F    employee     0     40620.102   \n",
      "1            married                 0      F    employee     0     17932.802   \n",
      "2            married                 0      M    employee     0     23341.752   \n",
      "3            married                 0      M    employee     0     42820.568   \n",
      "4  civil_partnership                 1      F     retiree     0     25378.572   \n",
      "5  civil_partnership                 1      M    business     0     40922.170   \n",
      "6            married                 0      F    business     0     38484.156   \n",
      "7            married                 0      M    employee     0     21731.829   \n",
      "8  civil_partnership                 1      F    employee     0     15337.093   \n",
      "9            married                 0      M    employee     0     23108.150   \n",
      "\n",
      "                               purpose age_grouping income_grouping  \n",
      "0                purchase of the house        40-50              Q4  \n",
      "1                         car purchase        30-40              Q2  \n",
      "2                purchase of the house        30-40              Q3  \n",
      "3              supplementary education        30-40              Q4  \n",
      "4                    to have a wedding          >50              Q3  \n",
      "5                purchase of the house          <30              Q4  \n",
      "6                 housing transactions        40-50              Q4  \n",
      "7                            education        40-50              Q2  \n",
      "8                     having a wedding        30-40              Q1  \n",
      "9  purchase of the house for my family        40-50              Q2  \n"
     ]
    }
   ],
   "source": [
    "#imprime las primeras 10 filas para reemplazar los numeros reales con numeros enteros\n",
    "print(df.head(10))"
   ]
  },
  {
   "cell_type": "code",
   "execution_count": 18,
   "id": "7de345bd",
   "metadata": {},
   "outputs": [],
   "source": [
    "#reemplaza numero real con numero entero\n",
    "df['days_employed']= df['days_employed'].astype('int')\n",
    "df['total_income']= df['total_income'].astype('int')\n",
    "df['children']= df['children'].astype('int')\n",
    "df['days_employed']= df['days_employed'].astype('int')\n",
    "df['dob_years']= df['dob_years'].astype('int')\n",
    "df['education_id']= df['education_id'].astype('int')\n",
    "df['family_status_id']= df['family_status_id'].astype('int')\n",
    "df['debt']= df['debt'].astype('int')\n",
    "df['children']= df['children'].astype('int')\n"
   ]
  },
  {
   "cell_type": "code",
   "execution_count": 19,
   "id": "ad8d2cf2",
   "metadata": {},
   "outputs": [
    {
     "name": "stdout",
     "output_type": "stream",
     "text": [
      "<class 'pandas.core.frame.DataFrame'>\n",
      "RangeIndex: 21525 entries, 0 to 21524\n",
      "Data columns (total 14 columns):\n",
      " #   Column            Non-Null Count  Dtype   \n",
      "---  ------            --------------  -----   \n",
      " 0   children          21525 non-null  int64   \n",
      " 1   days_employed     21525 non-null  int64   \n",
      " 2   dob_years         21525 non-null  int64   \n",
      " 3   education         21525 non-null  object  \n",
      " 4   education_id      21525 non-null  int64   \n",
      " 5   family_status     21525 non-null  object  \n",
      " 6   family_status_id  21525 non-null  int64   \n",
      " 7   gender            21525 non-null  object  \n",
      " 8   income_type       21525 non-null  object  \n",
      " 9   debt              21525 non-null  int64   \n",
      " 10  total_income      21525 non-null  int64   \n",
      " 11  purpose           21525 non-null  object  \n",
      " 12  age_grouping      21525 non-null  category\n",
      " 13  income_grouping   19351 non-null  category\n",
      "dtypes: category(2), int64(7), object(5)\n",
      "memory usage: 2.0+ MB\n"
     ]
    }
   ],
   "source": [
    "#verifica mediante info\n",
    "df.info()"
   ]
  },
  {
   "cell_type": "code",
   "execution_count": 20,
   "id": "d560b8da",
   "metadata": {},
   "outputs": [
    {
     "name": "stdout",
     "output_type": "stream",
     "text": [
      "71\n",
      "0\n"
     ]
    }
   ],
   "source": [
    "#encuentra el numero de duplicados, los elimina y verifica\n",
    "print(df.duplicated().sum())\n",
    "df= df.drop_duplicates().reset_index(drop=True)\n",
    "print(df.duplicated().sum())\n"
   ]
  },
  {
   "cell_type": "code",
   "execution_count": 21,
   "id": "dc3ff13e",
   "metadata": {
    "scrolled": true
   },
   "outputs": [],
   "source": [
    "# Clasifica los datos por distintas variables\n",
    "df['purpose_classification'] = df['purpose'].str.lower()\n",
    "df['purpose_classification'] = df['purpose_classification'].apply(lambda x: 'real_estate' if 'real' in x else x)\n",
    "df['purpose_classification'] = df['purpose_classification'].apply(lambda x: 'car' if 'car' in x else x)\n",
    "df['purpose_classification'] = df['purpose_classification'].apply(lambda x: 'wedding' if 'wedding' in x else x)\n",
    "df['purpose_classification'] = df['purpose_classification'].apply(lambda x: 'university' if 'education' in x else x)\n"
   ]
  },
  {
   "cell_type": "code",
   "execution_count": 22,
   "id": "a6a1ccf2",
   "metadata": {
    "scrolled": true
   },
   "outputs": [],
   "source": [
    "def cat_purpose(row):\n",
    "    purpose = row['purpose']\n",
    "    if 'hous' in purpose or 'estate' in purpose or 'home' in purpose:\n",
    "        return 'real_estate'\n",
    "    elif 'car' in purpose:\n",
    "        return 'car'\n",
    "    elif 'wedding' in purpose:\n",
    "        return 'wedding'\n",
    "    else:\n",
    "        return 'university'\n",
    "\n",
    "df['cat_purpose'] = df.apply(cat_purpose, axis=1)"
   ]
  },
  {
   "cell_type": "markdown",
   "id": "c647fb4f",
   "metadata": {},
   "source": [
    "Listo"
   ]
  },
  {
   "cell_type": "markdown",
   "id": "c84829d6",
   "metadata": {},
   "source": [
    "## Preguntas clave"
   ]
  },
  {
   "cell_type": "markdown",
   "id": "f7a6f126",
   "metadata": {},
   "source": [
    "¿Hay alguna conexión entre tener hijos y pagar un préstamo a tiempo?\n",
    "Las personas con mas hijos tardan mas en pagar"
   ]
  },
  {
   "cell_type": "code",
   "execution_count": 23,
   "id": "6c70e955",
   "metadata": {},
   "outputs": [
    {
     "data": {
      "text/html": [
       "<div>\n",
       "<style scoped>\n",
       "    .dataframe tbody tr th:only-of-type {\n",
       "        vertical-align: middle;\n",
       "    }\n",
       "\n",
       "    .dataframe tbody tr th {\n",
       "        vertical-align: top;\n",
       "    }\n",
       "\n",
       "    .dataframe thead th {\n",
       "        text-align: right;\n",
       "    }\n",
       "</style>\n",
       "<table border=\"1\" class=\"dataframe\">\n",
       "  <thead>\n",
       "    <tr style=\"text-align: right;\">\n",
       "      <th></th>\n",
       "      <th>debt</th>\n",
       "    </tr>\n",
       "    <tr>\n",
       "      <th>children</th>\n",
       "      <th></th>\n",
       "    </tr>\n",
       "  </thead>\n",
       "  <tbody>\n",
       "    <tr>\n",
       "      <th>0</th>\n",
       "      <td>0.075438</td>\n",
       "    </tr>\n",
       "    <tr>\n",
       "      <th>1</th>\n",
       "      <td>0.091658</td>\n",
       "    </tr>\n",
       "    <tr>\n",
       "      <th>2</th>\n",
       "      <td>0.094925</td>\n",
       "    </tr>\n",
       "    <tr>\n",
       "      <th>3</th>\n",
       "      <td>0.081818</td>\n",
       "    </tr>\n",
       "    <tr>\n",
       "      <th>4</th>\n",
       "      <td>0.097561</td>\n",
       "    </tr>\n",
       "    <tr>\n",
       "      <th>5</th>\n",
       "      <td>0.000000</td>\n",
       "    </tr>\n",
       "  </tbody>\n",
       "</table>\n",
       "</div>"
      ],
      "text/plain": [
       "              debt\n",
       "children          \n",
       "0         0.075438\n",
       "1         0.091658\n",
       "2         0.094925\n",
       "3         0.081818\n",
       "4         0.097561\n",
       "5         0.000000"
      ]
     },
     "execution_count": 23,
     "metadata": {},
     "output_type": "execute_result"
    }
   ],
   "source": [
    "df.pivot_table(index='children', values='debt', aggfunc='mean')"
   ]
  },
  {
   "cell_type": "markdown",
   "id": "02f248e4",
   "metadata": {},
   "source": [
    "En general, parece haber una ligera conexión entre tener hijos y el incumplimiento de pago de un préstamo o su pago de forma impuntual, pues los cumplimientos aumentan ligeramente a medida que aumenta el número de hijos"
   ]
  },
  {
   "cell_type": "markdown",
   "id": "f3ca18e4",
   "metadata": {},
   "source": [
    "¿Existe una conexión entre el estado civil y el pago a tiempo de un préstamo?\n",
    "Las personas casadas son mas puntuales"
   ]
  },
  {
   "cell_type": "code",
   "execution_count": 24,
   "id": "60715718",
   "metadata": {},
   "outputs": [
    {
     "data": {
      "text/html": [
       "<div>\n",
       "<style scoped>\n",
       "    .dataframe tbody tr th:only-of-type {\n",
       "        vertical-align: middle;\n",
       "    }\n",
       "\n",
       "    .dataframe tbody tr th {\n",
       "        vertical-align: top;\n",
       "    }\n",
       "\n",
       "    .dataframe thead th {\n",
       "        text-align: right;\n",
       "    }\n",
       "</style>\n",
       "<table border=\"1\" class=\"dataframe\">\n",
       "  <thead>\n",
       "    <tr style=\"text-align: right;\">\n",
       "      <th></th>\n",
       "      <th>debt</th>\n",
       "    </tr>\n",
       "    <tr>\n",
       "      <th>family_status</th>\n",
       "      <th></th>\n",
       "    </tr>\n",
       "  </thead>\n",
       "  <tbody>\n",
       "    <tr>\n",
       "      <th>civil_partnership</th>\n",
       "      <td>0.093471</td>\n",
       "    </tr>\n",
       "    <tr>\n",
       "      <th>divorced</th>\n",
       "      <td>0.071130</td>\n",
       "    </tr>\n",
       "    <tr>\n",
       "      <th>married</th>\n",
       "      <td>0.075452</td>\n",
       "    </tr>\n",
       "    <tr>\n",
       "      <th>unmarried</th>\n",
       "      <td>0.097509</td>\n",
       "    </tr>\n",
       "    <tr>\n",
       "      <th>widow_/_widower</th>\n",
       "      <td>0.065693</td>\n",
       "    </tr>\n",
       "  </tbody>\n",
       "</table>\n",
       "</div>"
      ],
      "text/plain": [
       "                       debt\n",
       "family_status              \n",
       "civil_partnership  0.093471\n",
       "divorced           0.071130\n",
       "married            0.075452\n",
       "unmarried          0.097509\n",
       "widow_/_widower    0.065693"
      ]
     },
     "execution_count": 24,
     "metadata": {},
     "output_type": "execute_result"
    }
   ],
   "source": [
    "df.pivot_table(index='family_status', values='debt', aggfunc='mean')"
   ]
  },
  {
   "cell_type": "markdown",
   "id": "67e0c491",
   "metadata": {},
   "source": [
    "Se puede ver que las personas casadas y viudas tienen un menor ratio de incumplimiento de pago en comparación con otros estados civiles, pudiera ser por el apoyo que se tiene al estar en matrimonio"
   ]
  },
  {
   "cell_type": "markdown",
   "id": "45395d7e",
   "metadata": {},
   "source": [
    "¿Existe una conexión entre el nivel de ingresos y el pago a tiempo de un préstamo?\n",
    "Mientras mas alto el ingreso mas puntual"
   ]
  },
  {
   "cell_type": "code",
   "execution_count": 25,
   "id": "27e8d292",
   "metadata": {
    "scrolled": false
   },
   "outputs": [],
   "source": [
    "# Creamos una función para categorizar los ingresos\n",
    "def cat_income(value):\n",
    "  if value < 17000:\n",
    "    return 'low'\n",
    "  elif value < 23000:\n",
    "    return 'middle'\n",
    "  elif value < 32000:\n",
    "    return 'middle-high'\n",
    "  else:\n",
    "    return 'high'\n",
    "\n",
    "# Ahora implementamos la función\n",
    "df['cat_income'] = df['total_income'].apply(cat_income)\n"
   ]
  },
  {
   "cell_type": "markdown",
   "id": "c868ea97",
   "metadata": {},
   "source": [
    "¿Cómo afectan los diferentes propósitos del préstamo al reembolso a tiempo del préstamo?\n",
    "Los pagos son mucho mas puntuales"
   ]
  },
  {
   "cell_type": "markdown",
   "id": "7428347c",
   "metadata": {},
   "source": [
    "Los diferentes propósitos pueden influir en el reembolso puntual. Los préstamos destinados a las propiedades parecen tener tasas de pago a tiempo más altas, y los préstamos relacionados con la educación y autos tienden a tener tasas de incumplimiento de pago más altas."
   ]
  },
  {
   "cell_type": "markdown",
   "id": "98a7ac17",
   "metadata": {},
   "source": [
    "¿Existe una conexión entre el nivel de ingresos y el pago a tiempo de un préstamo?\n",
    "Sí, definitivamente existe una conexión entre el nivel de ingresos y el pago a tiempo de un préstamo\n",
    "Las personas con  ingresos altos tienen una mayor capacidad para pagar, mientas que los ingresos bajos pueden enfrentar más dificultades para cumplir con los pagos"
   ]
  },
  {
   "cell_type": "code",
   "execution_count": 28,
   "id": "e3dfecbb",
   "metadata": {},
   "outputs": [
    {
     "data": {
      "text/html": [
       "<div>\n",
       "<style scoped>\n",
       "    .dataframe tbody tr th:only-of-type {\n",
       "        vertical-align: middle;\n",
       "    }\n",
       "\n",
       "    .dataframe tbody tr th {\n",
       "        vertical-align: top;\n",
       "    }\n",
       "\n",
       "    .dataframe thead th {\n",
       "        text-align: right;\n",
       "    }\n",
       "</style>\n",
       "<table border=\"1\" class=\"dataframe\">\n",
       "  <thead>\n",
       "    <tr style=\"text-align: right;\">\n",
       "      <th></th>\n",
       "      <th>debt</th>\n",
       "    </tr>\n",
       "    <tr>\n",
       "      <th>cat_income</th>\n",
       "      <th></th>\n",
       "    </tr>\n",
       "  </thead>\n",
       "  <tbody>\n",
       "    <tr>\n",
       "      <th>high</th>\n",
       "      <td>0.070653</td>\n",
       "    </tr>\n",
       "    <tr>\n",
       "      <th>low</th>\n",
       "      <td>0.078398</td>\n",
       "    </tr>\n",
       "    <tr>\n",
       "      <th>middle</th>\n",
       "      <td>0.089614</td>\n",
       "    </tr>\n",
       "    <tr>\n",
       "      <th>middle-high</th>\n",
       "      <td>0.084627</td>\n",
       "    </tr>\n",
       "  </tbody>\n",
       "</table>\n",
       "</div>"
      ],
      "text/plain": [
       "                 debt\n",
       "cat_income           \n",
       "high         0.070653\n",
       "low          0.078398\n",
       "middle       0.089614\n",
       "middle-high  0.084627"
      ]
     },
     "execution_count": 28,
     "metadata": {},
     "output_type": "execute_result"
    }
   ],
   "source": [
    "df.pivot_table(index='cat_income', values='debt', aggfunc='mean')"
   ]
  },
  {
   "cell_type": "markdown",
   "id": "90bcde6f",
   "metadata": {},
   "source": [
    "¿Cómo afectan los diferentes propósitos del préstamo al reembolso a tiempo del préstamo?\n",
    "Los diferentes propósitos del préstamo pueden afectar el reembolso a tiempo del préstamo de diferentes maneras, los autos suelen tener mucho mas dificultades a la hora de pagar, mientras que las propiedades son mas puntuales, las bodas igualmente tienen buena capacidad de pago y las universidades pudieran ser un poco mas impuntuales"
   ]
  },
  {
   "cell_type": "code",
   "execution_count": 27,
   "id": "9281c1a1",
   "metadata": {},
   "outputs": [
    {
     "data": {
      "text/html": [
       "<div>\n",
       "<style scoped>\n",
       "    .dataframe tbody tr th:only-of-type {\n",
       "        vertical-align: middle;\n",
       "    }\n",
       "\n",
       "    .dataframe tbody tr th {\n",
       "        vertical-align: top;\n",
       "    }\n",
       "\n",
       "    .dataframe thead th {\n",
       "        text-align: right;\n",
       "    }\n",
       "</style>\n",
       "<table border=\"1\" class=\"dataframe\">\n",
       "  <thead>\n",
       "    <tr style=\"text-align: right;\">\n",
       "      <th></th>\n",
       "      <th>debt</th>\n",
       "    </tr>\n",
       "    <tr>\n",
       "      <th>cat_purpose</th>\n",
       "      <th></th>\n",
       "    </tr>\n",
       "  </thead>\n",
       "  <tbody>\n",
       "    <tr>\n",
       "      <th>car</th>\n",
       "      <td>0.093590</td>\n",
       "    </tr>\n",
       "    <tr>\n",
       "      <th>real_estate</th>\n",
       "      <td>0.071558</td>\n",
       "    </tr>\n",
       "    <tr>\n",
       "      <th>university</th>\n",
       "      <td>0.085483</td>\n",
       "    </tr>\n",
       "    <tr>\n",
       "      <th>wedding</th>\n",
       "      <td>0.080034</td>\n",
       "    </tr>\n",
       "  </tbody>\n",
       "</table>\n",
       "</div>"
      ],
      "text/plain": [
       "                 debt\n",
       "cat_purpose          \n",
       "car          0.093590\n",
       "real_estate  0.071558\n",
       "university   0.085483\n",
       "wedding      0.080034"
      ]
     },
     "execution_count": 27,
     "metadata": {},
     "output_type": "execute_result"
    }
   ],
   "source": [
    "df.pivot_table(index='cat_purpose', values='debt', aggfunc='mean')"
   ]
  },
  {
   "cell_type": "markdown",
   "id": "d9bc14cf",
   "metadata": {},
   "source": [
    "## Conclusión\n",
    "\n",
    "\n",
    "En conclusión, el análisis muestra ciertas conexiones entre alguna variables como tener hijos, estado civil, nivel de ingresos y propósito del préstamo, y el pago a tiempo del préstamo.\n",
    "\n",
    "Tener hijos:Podemos ver que las personas con más hijos tienden a tener una tasa ligeramente más alta de incumplimiento en el pago de préstamos.\n",
    "\n",
    "Estado civil: Las personas casadas tienen una tasa de pago a tiempo ligeramente más alta en comparación con las personas solteras, divorciadas o viudas. Esto puede deberse a una mayor estabilidad financiera y apoyo mutuo en las parejas casadas.\n",
    "\n",
    "Nivel de ingresos: los datos no parecian tener una tendencia hacia hcia personas con mayor ni menor ingreso, ambas partes tenian distintas tasas de incumplimineto\n",
    "\n",
    "Propósito del préstamo: Los préstamos destinados a la compra de viviendas tienen tasas de pago a tiempo más altas, mientras que los préstamos relacionados con la educación y la compra de automóviles tienden a tener tasas de incumplimiento de pago más altas"
   ]
  }
 ],
 "metadata": {
  "kernelspec": {
   "display_name": "Python 3 (ipykernel)",
   "language": "python",
   "name": "python3"
  },
  "language_info": {
   "codemirror_mode": {
    "name": "ipython",
    "version": 3
   },
   "file_extension": ".py",
   "mimetype": "text/x-python",
   "name": "python",
   "nbconvert_exporter": "python",
   "pygments_lexer": "ipython3",
   "version": "3.9.5"
  },
  "toc": {
   "base_numbering": 1,
   "nav_menu": {},
   "number_sections": true,
   "sideBar": true,
   "skip_h1_title": true,
   "title_cell": "Table of Contents",
   "title_sidebar": "Contents",
   "toc_cell": false,
   "toc_position": {},
   "toc_section_display": true,
   "toc_window_display": false
  }
 },
 "nbformat": 4,
 "nbformat_minor": 5
}
