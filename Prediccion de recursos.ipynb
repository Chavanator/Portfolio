{
 "cells": [
  {
   "cell_type": "markdown",
   "metadata": {},
   "source": [
    "# Descripción del proyecto"
   ]
  },
  {
   "cell_type": "markdown",
   "metadata": {},
   "source": [
    "Trabajas para la compañía minera OilyGiant. Tu tarea es encontrar el mejor lugar para un nuevo pozo."
   ]
  },
  {
   "cell_type": "markdown",
   "metadata": {},
   "source": [
    "# Descripción de datos"
   ]
  },
  {
   "cell_type": "markdown",
   "metadata": {},
   "source": [
    "Los datos de exploración geológica de las tres regiones se almacenan en archivos:\n",
    "\n",
    "geo_data_0.csv. Descarga el conjunto de datos\n",
    "\n",
    "geo_data_1.csv. Descarga el conjunto de datos\n",
    "\n",
    "geo_data_2.csv. Descarga el conjunto de datos\n",
    "\n",
    "id — identificador único de pozo de petróleo\n",
    "\n",
    "f0, f1, f2 — tres características de los puntos (su significado específico no es importante, pero las características en sí son significativas)\n",
    "\n",
    "product — volumen de reservas en el pozo de petróleo (miles de barriles)."
   ]
  },
  {
   "cell_type": "markdown",
   "metadata": {},
   "source": [
    "# Condiciones:"
   ]
  },
  {
   "cell_type": "markdown",
   "metadata": {},
   "source": [
    "Solo la regresión lineal es adecuada para el entrenamiento de modelos (el resto no son lo suficientemente predecibles).\n",
    "\n",
    "Al explorar la región, se lleva a cabo un estudio de 500 puntos con la selección de los mejores 200 puntos para el cálculo del beneficio.\n",
    "\n",
    "El presupuesto para el desarrollo de 200 pozos petroleros es de 100 millones de dólares.\n",
    "\n",
    "Un barril de materias primas genera 4.5 USD de ingresos. El ingreso de una unidad de producto es de 4500 dólares (el volumen de reservas está expresado en miles de barriles).\n",
    "\n",
    "Después de la evaluación de riesgo, mantén solo las regiones con riesgo de pérdidas inferior al 2.5%. De las que se ajustan a los criterios, se debe seleccionar la región con el beneficio promedio más alto.\n",
    "Los datos son sintéticos: los detalles del contrato y las características del pozo no se publican."
   ]
  },
  {
   "cell_type": "markdown",
   "metadata": {},
   "source": [
    "# Pasos para elegir la ubicación:"
   ]
  },
  {
   "cell_type": "markdown",
   "metadata": {},
   "source": [
    "Recolecta los parámetros del pozo de petróleo en la región seleccionada: calidad del petróleo y volumen de reservas;\n",
    "\n",
    "Construye un modelo para predecir el volumen de reservas en los nuevos pozos;\n",
    "\n",
    "Selecciona los pozos de petróleo con los valores estimados más altos;\n",
    "\n",
    "Elige la región con el mayor beneficio total para los pozos de petróleo seleccionados."
   ]
  },
  {
   "cell_type": "markdown",
   "metadata": {},
   "source": [
    "Tienes datos sobre muestras de crudo de tres regiones. Ya se conocen los parámetros de cada pozo petrolero de la región. Crea un modelo que ayude a elegir la región con el mayor margen de beneficio. Analiza los beneficios y riesgos potenciales utilizando la técnica bootstrapping."
   ]
  },
  {
   "cell_type": "markdown",
   "metadata": {},
   "source": [
    "# Instrucciones del proyecto"
   ]
  },
  {
   "cell_type": "markdown",
   "metadata": {},
   "source": [
    "Descarga y prepara los datos. Explica el procedimiento."
   ]
  },
  {
   "cell_type": "code",
   "execution_count": 1,
   "metadata": {},
   "outputs": [],
   "source": [
    "import pandas as pd\n",
    "from sklearn.linear_model import LinearRegression\n",
    "from sklearn.model_selection import train_test_split\n",
    "from sklearn.metrics import accuracy_score\n",
    "from sklearn.metrics import mean_squared_error\n",
    "import numpy as np\n"
   ]
  },
  {
   "cell_type": "code",
   "execution_count": 2,
   "metadata": {},
   "outputs": [],
   "source": [
    "geo_0 = pd.read_csv('/datasets/geo_data_0.csv')\n",
    "geo_1 = pd.read_csv('/datasets/geo_data_1.csv')\n",
    "geo_2 = pd.read_csv('/datasets/geo_data_2.csv')"
   ]
  },
  {
   "cell_type": "markdown",
   "metadata": {},
   "source": [
    "#### Geo 0"
   ]
  },
  {
   "cell_type": "code",
   "execution_count": 3,
   "metadata": {},
   "outputs": [
    {
     "name": "stdout",
     "output_type": "stream",
     "text": [
      "<class 'pandas.core.frame.DataFrame'>\n",
      "RangeIndex: 100000 entries, 0 to 99999\n",
      "Data columns (total 5 columns):\n",
      " #   Column   Non-Null Count   Dtype  \n",
      "---  ------   --------------   -----  \n",
      " 0   id       100000 non-null  object \n",
      " 1   f0       100000 non-null  float64\n",
      " 2   f1       100000 non-null  float64\n",
      " 3   f2       100000 non-null  float64\n",
      " 4   product  100000 non-null  float64\n",
      "dtypes: float64(4), object(1)\n",
      "memory usage: 3.8+ MB\n",
      "None\n"
     ]
    },
    {
     "data": {
      "text/html": [
       "<div>\n",
       "<style scoped>\n",
       "    .dataframe tbody tr th:only-of-type {\n",
       "        vertical-align: middle;\n",
       "    }\n",
       "\n",
       "    .dataframe tbody tr th {\n",
       "        vertical-align: top;\n",
       "    }\n",
       "\n",
       "    .dataframe thead th {\n",
       "        text-align: right;\n",
       "    }\n",
       "</style>\n",
       "<table border=\"1\" class=\"dataframe\">\n",
       "  <thead>\n",
       "    <tr style=\"text-align: right;\">\n",
       "      <th></th>\n",
       "      <th>id</th>\n",
       "      <th>f0</th>\n",
       "      <th>f1</th>\n",
       "      <th>f2</th>\n",
       "      <th>product</th>\n",
       "    </tr>\n",
       "  </thead>\n",
       "  <tbody>\n",
       "    <tr>\n",
       "      <th>0</th>\n",
       "      <td>txEyH</td>\n",
       "      <td>0.705745</td>\n",
       "      <td>-0.497823</td>\n",
       "      <td>1.221170</td>\n",
       "      <td>105.280062</td>\n",
       "    </tr>\n",
       "    <tr>\n",
       "      <th>1</th>\n",
       "      <td>2acmU</td>\n",
       "      <td>1.334711</td>\n",
       "      <td>-0.340164</td>\n",
       "      <td>4.365080</td>\n",
       "      <td>73.037750</td>\n",
       "    </tr>\n",
       "    <tr>\n",
       "      <th>2</th>\n",
       "      <td>409Wp</td>\n",
       "      <td>1.022732</td>\n",
       "      <td>0.151990</td>\n",
       "      <td>1.419926</td>\n",
       "      <td>85.265647</td>\n",
       "    </tr>\n",
       "    <tr>\n",
       "      <th>3</th>\n",
       "      <td>iJLyR</td>\n",
       "      <td>-0.032172</td>\n",
       "      <td>0.139033</td>\n",
       "      <td>2.978566</td>\n",
       "      <td>168.620776</td>\n",
       "    </tr>\n",
       "    <tr>\n",
       "      <th>4</th>\n",
       "      <td>Xdl7t</td>\n",
       "      <td>1.988431</td>\n",
       "      <td>0.155413</td>\n",
       "      <td>4.751769</td>\n",
       "      <td>154.036647</td>\n",
       "    </tr>\n",
       "  </tbody>\n",
       "</table>\n",
       "</div>"
      ],
      "text/plain": [
       "      id        f0        f1        f2     product\n",
       "0  txEyH  0.705745 -0.497823  1.221170  105.280062\n",
       "1  2acmU  1.334711 -0.340164  4.365080   73.037750\n",
       "2  409Wp  1.022732  0.151990  1.419926   85.265647\n",
       "3  iJLyR -0.032172  0.139033  2.978566  168.620776\n",
       "4  Xdl7t  1.988431  0.155413  4.751769  154.036647"
      ]
     },
     "metadata": {},
     "output_type": "display_data"
    },
    {
     "name": "stdout",
     "output_type": "stream",
     "text": [
      "id         0\n",
      "f0         0\n",
      "f1         0\n",
      "f2         0\n",
      "product    0\n",
      "dtype: int64\n"
     ]
    }
   ],
   "source": [
    "print(geo_0.info())\n",
    "display(geo_0.head())\n",
    "print(geo_0.isna().sum())"
   ]
  },
  {
   "cell_type": "markdown",
   "metadata": {},
   "source": [
    "#### Geo 1"
   ]
  },
  {
   "cell_type": "code",
   "execution_count": 4,
   "metadata": {},
   "outputs": [
    {
     "name": "stdout",
     "output_type": "stream",
     "text": [
      "<class 'pandas.core.frame.DataFrame'>\n",
      "RangeIndex: 100000 entries, 0 to 99999\n",
      "Data columns (total 5 columns):\n",
      " #   Column   Non-Null Count   Dtype  \n",
      "---  ------   --------------   -----  \n",
      " 0   id       100000 non-null  object \n",
      " 1   f0       100000 non-null  float64\n",
      " 2   f1       100000 non-null  float64\n",
      " 3   f2       100000 non-null  float64\n",
      " 4   product  100000 non-null  float64\n",
      "dtypes: float64(4), object(1)\n",
      "memory usage: 3.8+ MB\n",
      "None\n"
     ]
    },
    {
     "data": {
      "text/html": [
       "<div>\n",
       "<style scoped>\n",
       "    .dataframe tbody tr th:only-of-type {\n",
       "        vertical-align: middle;\n",
       "    }\n",
       "\n",
       "    .dataframe tbody tr th {\n",
       "        vertical-align: top;\n",
       "    }\n",
       "\n",
       "    .dataframe thead th {\n",
       "        text-align: right;\n",
       "    }\n",
       "</style>\n",
       "<table border=\"1\" class=\"dataframe\">\n",
       "  <thead>\n",
       "    <tr style=\"text-align: right;\">\n",
       "      <th></th>\n",
       "      <th>id</th>\n",
       "      <th>f0</th>\n",
       "      <th>f1</th>\n",
       "      <th>f2</th>\n",
       "      <th>product</th>\n",
       "    </tr>\n",
       "  </thead>\n",
       "  <tbody>\n",
       "    <tr>\n",
       "      <th>0</th>\n",
       "      <td>kBEdx</td>\n",
       "      <td>-15.001348</td>\n",
       "      <td>-8.276000</td>\n",
       "      <td>-0.005876</td>\n",
       "      <td>3.179103</td>\n",
       "    </tr>\n",
       "    <tr>\n",
       "      <th>1</th>\n",
       "      <td>62mP7</td>\n",
       "      <td>14.272088</td>\n",
       "      <td>-3.475083</td>\n",
       "      <td>0.999183</td>\n",
       "      <td>26.953261</td>\n",
       "    </tr>\n",
       "    <tr>\n",
       "      <th>2</th>\n",
       "      <td>vyE1P</td>\n",
       "      <td>6.263187</td>\n",
       "      <td>-5.948386</td>\n",
       "      <td>5.001160</td>\n",
       "      <td>134.766305</td>\n",
       "    </tr>\n",
       "    <tr>\n",
       "      <th>3</th>\n",
       "      <td>KcrkZ</td>\n",
       "      <td>-13.081196</td>\n",
       "      <td>-11.506057</td>\n",
       "      <td>4.999415</td>\n",
       "      <td>137.945408</td>\n",
       "    </tr>\n",
       "    <tr>\n",
       "      <th>4</th>\n",
       "      <td>AHL4O</td>\n",
       "      <td>12.702195</td>\n",
       "      <td>-8.147433</td>\n",
       "      <td>5.004363</td>\n",
       "      <td>134.766305</td>\n",
       "    </tr>\n",
       "  </tbody>\n",
       "</table>\n",
       "</div>"
      ],
      "text/plain": [
       "      id         f0         f1        f2     product\n",
       "0  kBEdx -15.001348  -8.276000 -0.005876    3.179103\n",
       "1  62mP7  14.272088  -3.475083  0.999183   26.953261\n",
       "2  vyE1P   6.263187  -5.948386  5.001160  134.766305\n",
       "3  KcrkZ -13.081196 -11.506057  4.999415  137.945408\n",
       "4  AHL4O  12.702195  -8.147433  5.004363  134.766305"
      ]
     },
     "metadata": {},
     "output_type": "display_data"
    },
    {
     "name": "stdout",
     "output_type": "stream",
     "text": [
      "id         0\n",
      "f0         0\n",
      "f1         0\n",
      "f2         0\n",
      "product    0\n",
      "dtype: int64\n"
     ]
    }
   ],
   "source": [
    "print(geo_1.info())\n",
    "display(geo_1.head())\n",
    "print(geo_1.isna().sum())"
   ]
  },
  {
   "cell_type": "markdown",
   "metadata": {},
   "source": [
    "#### Geo 2"
   ]
  },
  {
   "cell_type": "code",
   "execution_count": 5,
   "metadata": {},
   "outputs": [
    {
     "name": "stdout",
     "output_type": "stream",
     "text": [
      "<class 'pandas.core.frame.DataFrame'>\n",
      "RangeIndex: 100000 entries, 0 to 99999\n",
      "Data columns (total 5 columns):\n",
      " #   Column   Non-Null Count   Dtype  \n",
      "---  ------   --------------   -----  \n",
      " 0   id       100000 non-null  object \n",
      " 1   f0       100000 non-null  float64\n",
      " 2   f1       100000 non-null  float64\n",
      " 3   f2       100000 non-null  float64\n",
      " 4   product  100000 non-null  float64\n",
      "dtypes: float64(4), object(1)\n",
      "memory usage: 3.8+ MB\n",
      "None\n"
     ]
    },
    {
     "data": {
      "text/html": [
       "<div>\n",
       "<style scoped>\n",
       "    .dataframe tbody tr th:only-of-type {\n",
       "        vertical-align: middle;\n",
       "    }\n",
       "\n",
       "    .dataframe tbody tr th {\n",
       "        vertical-align: top;\n",
       "    }\n",
       "\n",
       "    .dataframe thead th {\n",
       "        text-align: right;\n",
       "    }\n",
       "</style>\n",
       "<table border=\"1\" class=\"dataframe\">\n",
       "  <thead>\n",
       "    <tr style=\"text-align: right;\">\n",
       "      <th></th>\n",
       "      <th>id</th>\n",
       "      <th>f0</th>\n",
       "      <th>f1</th>\n",
       "      <th>f2</th>\n",
       "      <th>product</th>\n",
       "    </tr>\n",
       "  </thead>\n",
       "  <tbody>\n",
       "    <tr>\n",
       "      <th>0</th>\n",
       "      <td>fwXo0</td>\n",
       "      <td>-1.146987</td>\n",
       "      <td>0.963328</td>\n",
       "      <td>-0.828965</td>\n",
       "      <td>27.758673</td>\n",
       "    </tr>\n",
       "    <tr>\n",
       "      <th>1</th>\n",
       "      <td>WJtFt</td>\n",
       "      <td>0.262778</td>\n",
       "      <td>0.269839</td>\n",
       "      <td>-2.530187</td>\n",
       "      <td>56.069697</td>\n",
       "    </tr>\n",
       "    <tr>\n",
       "      <th>2</th>\n",
       "      <td>ovLUW</td>\n",
       "      <td>0.194587</td>\n",
       "      <td>0.289035</td>\n",
       "      <td>-5.586433</td>\n",
       "      <td>62.871910</td>\n",
       "    </tr>\n",
       "    <tr>\n",
       "      <th>3</th>\n",
       "      <td>q6cA6</td>\n",
       "      <td>2.236060</td>\n",
       "      <td>-0.553760</td>\n",
       "      <td>0.930038</td>\n",
       "      <td>114.572842</td>\n",
       "    </tr>\n",
       "    <tr>\n",
       "      <th>4</th>\n",
       "      <td>WPMUX</td>\n",
       "      <td>-0.515993</td>\n",
       "      <td>1.716266</td>\n",
       "      <td>5.899011</td>\n",
       "      <td>149.600746</td>\n",
       "    </tr>\n",
       "  </tbody>\n",
       "</table>\n",
       "</div>"
      ],
      "text/plain": [
       "      id        f0        f1        f2     product\n",
       "0  fwXo0 -1.146987  0.963328 -0.828965   27.758673\n",
       "1  WJtFt  0.262778  0.269839 -2.530187   56.069697\n",
       "2  ovLUW  0.194587  0.289035 -5.586433   62.871910\n",
       "3  q6cA6  2.236060 -0.553760  0.930038  114.572842\n",
       "4  WPMUX -0.515993  1.716266  5.899011  149.600746"
      ]
     },
     "metadata": {},
     "output_type": "display_data"
    },
    {
     "name": "stdout",
     "output_type": "stream",
     "text": [
      "id         0\n",
      "f0         0\n",
      "f1         0\n",
      "f2         0\n",
      "product    0\n",
      "dtype: int64\n"
     ]
    }
   ],
   "source": [
    "print(geo_2.info())\n",
    "display(geo_2.head())\n",
    "print(geo_2.isna().sum())"
   ]
  },
  {
   "cell_type": "markdown",
   "metadata": {},
   "source": [
    "Entrena y prueba el modelo para cada región:"
   ]
  },
  {
   "cell_type": "markdown",
   "metadata": {},
   "source": [
    "2.1. Divide los datos en un conjunto de entrenamiento y un conjunto de validación en una proporción de 75:25.\n",
    "\n",
    "2.2. Entrena el modelo y haz predicciones para el conjunto de validación.\n",
    "\n",
    "2.3. Guarda las predicciones y las respuestas correctas para el conjunto de validación.\n",
    "\n",
    "2.4. Muestra en la pantalla el volumen promedio de las reservas previstas y la RECM del modelo.\n",
    "\n",
    "2.5. Analiza los resultados."
   ]
  },
  {
   "cell_type": "markdown",
   "metadata": {},
   "source": [
    "#### Modelos Geo"
   ]
  },
  {
   "cell_type": "code",
   "execution_count": 6,
   "metadata": {},
   "outputs": [
    {
     "name": "stdout",
     "output_type": "stream",
     "text": [
      "RMSE: 37.756600350261685\n",
      "RMSE: 0.890280100102884\n",
      "RMSE: 40.14587231134218\n"
     ]
    },
    {
     "data": {
      "text/plain": [
       "(75721    117.441301\n",
       " 80184     47.841249\n",
       " 19864     45.883483\n",
       " 76699    139.014608\n",
       " 92991     84.004276\n",
       "             ...    \n",
       " 21271     40.797226\n",
       " 34014     87.144239\n",
       " 81355     52.039812\n",
       " 65720    136.961454\n",
       " 11627    109.173206\n",
       " Name: product, Length: 25000, dtype: float64,\n",
       " array([ 98.30191642, 101.59246124,  52.4490989 , ...,  64.09839   ,\n",
       "         83.76413542,  86.55864415]))"
      ]
     },
     "execution_count": 6,
     "metadata": {},
     "output_type": "execute_result"
    }
   ],
   "source": [
    "def train_and_evaluate_model(data, target_column='product', feature_columns=['f0', 'f1', 'f2'], test_size=0.25, random_state=42):\n",
    "    X = data[feature_columns]\n",
    "    y = data[target_column]\n",
    "\n",
    "    X_train, X_test, y_train, y_test = train_test_split(X, y, test_size=test_size, random_state=random_state)\n",
    "\n",
    "    model = LinearRegression()\n",
    "\n",
    "    model.fit(X_train, y_train)\n",
    "\n",
    "    y_pred = model.predict(X_test)\n",
    "\n",
    "    mse = mean_squared_error(y_test, y_pred)\n",
    "\n",
    "    rmse = mse ** 0.5\n",
    "    print('RMSE:', rmse)\n",
    "    return y_test, y_pred\n",
    "    \n",
    "train_and_evaluate_model(geo_0)\n",
    "train_and_evaluate_model(geo_1)\n",
    "train_and_evaluate_model(geo_2)\n"
   ]
  },
  {
   "cell_type": "markdown",
   "metadata": {},
   "source": [
    "### Prepárate para el cálculo de ganancias:"
   ]
  },
  {
   "cell_type": "markdown",
   "metadata": {},
   "source": [
    "3.1. Almacena todos los valores clave para los cálculos en variables separadas."
   ]
  },
  {
   "cell_type": "code",
   "execution_count": 7,
   "metadata": {},
   "outputs": [
    {
     "name": "stdout",
     "output_type": "stream",
     "text": [
      "RMSE: 37.756600350261685\n",
      "RMSE: 0.890280100102884\n",
      "RMSE: 40.14587231134218\n"
     ]
    }
   ],
   "source": [
    "y_test_0, y_pred_0 = train_and_evaluate_model(geo_0)\n",
    "y_test_1, y_pred_1 = train_and_evaluate_model(geo_1)\n",
    "y_test_2, y_pred_2 = train_and_evaluate_model(geo_2)"
   ]
  },
  {
   "cell_type": "code",
   "execution_count": 8,
   "metadata": {},
   "outputs": [
    {
     "data": {
      "text/html": [
       "<div>\n",
       "<style scoped>\n",
       "    .dataframe tbody tr th:only-of-type {\n",
       "        vertical-align: middle;\n",
       "    }\n",
       "\n",
       "    .dataframe tbody tr th {\n",
       "        vertical-align: top;\n",
       "    }\n",
       "\n",
       "    .dataframe thead th {\n",
       "        text-align: right;\n",
       "    }\n",
       "</style>\n",
       "<table border=\"1\" class=\"dataframe\">\n",
       "  <thead>\n",
       "    <tr style=\"text-align: right;\">\n",
       "      <th></th>\n",
       "      <th>Respuestas correctas_0</th>\n",
       "      <th>Respuestas correctas_1</th>\n",
       "      <th>Respuestas correctas_2</th>\n",
       "      <th>Predicciones_0</th>\n",
       "      <th>Predicciones_1</th>\n",
       "      <th>Predicciones_2</th>\n",
       "    </tr>\n",
       "  </thead>\n",
       "  <tbody>\n",
       "    <tr>\n",
       "      <th>75721</th>\n",
       "      <td>122.073350</td>\n",
       "      <td>0.000000</td>\n",
       "      <td>117.441301</td>\n",
       "      <td>101.901017</td>\n",
       "      <td>0.844738</td>\n",
       "      <td>98.301916</td>\n",
       "    </tr>\n",
       "    <tr>\n",
       "      <th>80184</th>\n",
       "      <td>48.738540</td>\n",
       "      <td>53.906522</td>\n",
       "      <td>47.841249</td>\n",
       "      <td>78.217774</td>\n",
       "      <td>52.921612</td>\n",
       "      <td>101.592461</td>\n",
       "    </tr>\n",
       "    <tr>\n",
       "      <th>19864</th>\n",
       "      <td>131.338088</td>\n",
       "      <td>134.766305</td>\n",
       "      <td>45.883483</td>\n",
       "      <td>115.266901</td>\n",
       "      <td>135.110385</td>\n",
       "      <td>52.449099</td>\n",
       "    </tr>\n",
       "    <tr>\n",
       "      <th>76699</th>\n",
       "      <td>88.327757</td>\n",
       "      <td>107.813044</td>\n",
       "      <td>139.014608</td>\n",
       "      <td>105.618618</td>\n",
       "      <td>109.494863</td>\n",
       "      <td>109.922127</td>\n",
       "    </tr>\n",
       "    <tr>\n",
       "      <th>92991</th>\n",
       "      <td>36.959266</td>\n",
       "      <td>0.000000</td>\n",
       "      <td>84.004276</td>\n",
       "      <td>97.980185</td>\n",
       "      <td>-0.047292</td>\n",
       "      <td>72.411847</td>\n",
       "    </tr>\n",
       "    <tr>\n",
       "      <th>...</th>\n",
       "      <td>...</td>\n",
       "      <td>...</td>\n",
       "      <td>...</td>\n",
       "      <td>...</td>\n",
       "      <td>...</td>\n",
       "      <td>...</td>\n",
       "    </tr>\n",
       "    <tr>\n",
       "      <th>21271</th>\n",
       "      <td>148.821520</td>\n",
       "      <td>107.813044</td>\n",
       "      <td>40.797226</td>\n",
       "      <td>105.076959</td>\n",
       "      <td>108.351600</td>\n",
       "      <td>102.764169</td>\n",
       "    </tr>\n",
       "    <tr>\n",
       "      <th>34014</th>\n",
       "      <td>123.454003</td>\n",
       "      <td>53.906522</td>\n",
       "      <td>87.144239</td>\n",
       "      <td>74.768176</td>\n",
       "      <td>53.604049</td>\n",
       "      <td>93.431823</td>\n",
       "    </tr>\n",
       "    <tr>\n",
       "      <th>81355</th>\n",
       "      <td>91.945213</td>\n",
       "      <td>26.953261</td>\n",
       "      <td>52.039812</td>\n",
       "      <td>82.544397</td>\n",
       "      <td>26.708734</td>\n",
       "      <td>64.098390</td>\n",
       "    </tr>\n",
       "    <tr>\n",
       "      <th>65720</th>\n",
       "      <td>149.295563</td>\n",
       "      <td>110.992147</td>\n",
       "      <td>136.961454</td>\n",
       "      <td>81.826689</td>\n",
       "      <td>109.823087</td>\n",
       "      <td>83.764135</td>\n",
       "    </tr>\n",
       "    <tr>\n",
       "      <th>11627</th>\n",
       "      <td>57.244039</td>\n",
       "      <td>134.766305</td>\n",
       "      <td>109.173206</td>\n",
       "      <td>93.121062</td>\n",
       "      <td>135.448780</td>\n",
       "      <td>86.558644</td>\n",
       "    </tr>\n",
       "  </tbody>\n",
       "</table>\n",
       "<p>25000 rows × 6 columns</p>\n",
       "</div>"
      ],
      "text/plain": [
       "       Respuestas correctas_0  Respuestas correctas_1  Respuestas correctas_2  \\\n",
       "75721              122.073350                0.000000              117.441301   \n",
       "80184               48.738540               53.906522               47.841249   \n",
       "19864              131.338088              134.766305               45.883483   \n",
       "76699               88.327757              107.813044              139.014608   \n",
       "92991               36.959266                0.000000               84.004276   \n",
       "...                       ...                     ...                     ...   \n",
       "21271              148.821520              107.813044               40.797226   \n",
       "34014              123.454003               53.906522               87.144239   \n",
       "81355               91.945213               26.953261               52.039812   \n",
       "65720              149.295563              110.992147              136.961454   \n",
       "11627               57.244039              134.766305              109.173206   \n",
       "\n",
       "       Predicciones_0  Predicciones_1  Predicciones_2  \n",
       "75721      101.901017        0.844738       98.301916  \n",
       "80184       78.217774       52.921612      101.592461  \n",
       "19864      115.266901      135.110385       52.449099  \n",
       "76699      105.618618      109.494863      109.922127  \n",
       "92991       97.980185       -0.047292       72.411847  \n",
       "...               ...             ...             ...  \n",
       "21271      105.076959      108.351600      102.764169  \n",
       "34014       74.768176       53.604049       93.431823  \n",
       "81355       82.544397       26.708734       64.098390  \n",
       "65720       81.826689      109.823087       83.764135  \n",
       "11627       93.121062      135.448780       86.558644  \n",
       "\n",
       "[25000 rows x 6 columns]"
      ]
     },
     "metadata": {},
     "output_type": "display_data"
    }
   ],
   "source": [
    "results = pd.DataFrame({\n",
    "    'Respuestas correctas_0': y_test_0,\n",
    "    'Respuestas correctas_1': y_test_1,\n",
    "    'Respuestas correctas_2': y_test_2,\n",
    "    'Predicciones_0': y_pred_0,\n",
    "    'Predicciones_1': y_pred_1,\n",
    "    'Predicciones_2': y_pred_2\n",
    "})\n",
    "display(results)"
   ]
  },
  {
   "cell_type": "markdown",
   "metadata": {},
   "source": [
    "3.2. Calcula el volumen de reservas suficiente para desarrollar un nuevo pozo sin pérdidas. Compara el valor obtenido con el volumen medio de reservas de cada región"
   ]
  },
  {
   "cell_type": "code",
   "execution_count": 9,
   "metadata": {},
   "outputs": [
    {
     "name": "stdout",
     "output_type": "stream",
     "text": [
      "Volumen de reservas necesario para un pozo sin predida: 22222.222222222223\n"
     ]
    }
   ],
   "source": [
    "budget = 100000000  # Presupuesto en dólares\n",
    "unit_income = 4.5  # Ingresos por barril en dólares\n",
    "unit_cost = 1000  # Costo por barril en dólares\n",
    "\n",
    "volume_needed = budget / (unit_income * unit_cost)\n",
    "\n",
    "print(\"Volumen de reservas necesario para un pozo sin predida:\", volume_needed)\n"
   ]
  },
  {
   "cell_type": "code",
   "execution_count": 10,
   "metadata": {},
   "outputs": [],
   "source": [
    "average_prediction_geo_0 = results['Predicciones_0'].mean()\n",
    "average_prediction_geo_1 = results['Predicciones_1'].mean()\n",
    "average_prediction_geo_2 = results['Predicciones_2'].mean()"
   ]
  },
  {
   "cell_type": "code",
   "execution_count": 11,
   "metadata": {},
   "outputs": [
    {
     "name": "stdout",
     "output_type": "stream",
     "text": [
      "Volumen promedio de reservas previstas\n",
      "Geo 0: 92.3987999065777\n",
      "Geo 1: 68.71287803913762\n",
      "Geo 2 94.77102387765939\n"
     ]
    }
   ],
   "source": [
    "print('Volumen promedio de reservas previstas')\n",
    "print(\"Geo 0:\", average_prediction_geo_0)\n",
    "print(\"Geo 1:\", average_prediction_geo_1)\n",
    "print(\"Geo 2\", average_prediction_geo_2)"
   ]
  },
  {
   "cell_type": "markdown",
   "metadata": {},
   "source": [
    "3.3. Proporciona los hallazgos sobre la preparación para el paso de cálculo de ganancias."
   ]
  },
  {
   "cell_type": "markdown",
   "metadata": {},
   "source": [
    "Podemos ver que la region GEO 2 tiene valores mucho mas altos tanto en predicciones como en volumenes medios"
   ]
  },
  {
   "cell_type": "markdown",
   "metadata": {},
   "source": [
    "Escribe una función para calcular la ganancia de un conjunto de pozos de petróleo seleccionados y modela las predicciones"
   ]
  },
  {
   "cell_type": "markdown",
   "metadata": {},
   "source": [
    "4.1. Escoge los pozos con los valores más altos de predicciones."
   ]
  },
  {
   "cell_type": "markdown",
   "metadata": {},
   "source": [
    "4.2. Resume el volumen objetivo de reservas de acuerdo con estas predicciones"
   ]
  },
  {
   "cell_type": "markdown",
   "metadata": {},
   "source": [
    "4.3. Proporciona los hallazgos: sugiere una región para el desarrollo de pozos petroleros y justifica la elección. Calcula el beneficio por el volumen de reservas obtenido."
   ]
  },
  {
   "cell_type": "code",
   "execution_count": 12,
   "metadata": {},
   "outputs": [],
   "source": [
    "def calculate_profit(selected_wells, unit_income, unit_cost):\n",
    "    total_volume = selected_wells['Respuestas correctas'].sum()\n",
    "    \n",
    "    revenue = total_volume * unit_income * 1000  # Convert to barrels\n",
    "    cost = len(selected_wells) * unit_cost * 1000  # Convert to barrels\n",
    "    \n",
    "    profit = revenue - cost\n",
    "    \n",
    "    return profit, total_volume"
   ]
  },
  {
   "cell_type": "code",
   "execution_count": 13,
   "metadata": {},
   "outputs": [],
   "source": [
    "def bootstrap_profit(selected_wells, unit_income, unit_cost, num_samples=1000):\n",
    "    profits = []\n",
    "    for _ in range(num_samples):\n",
    "        sample = selected_wells.sample(n=len(selected_wells), replace=True)\n",
    "        \n",
    "        profit, _ = calculate_profit(sample, unit_income, unit_cost)\n",
    "        profits.append(profit)\n",
    "    \n",
    "    mean_profit = np.mean(profits)\n",
    "    confidence_interval = np.percentile(profits, [2.5, 97.5])\n",
    "    risk_of_loss = np.mean(np.array(profits) < 0)  \n",
    "    return mean_profit, confidence_interval, risk_of_loss"
   ]
  },
  {
   "cell_type": "code",
   "execution_count": 14,
   "metadata": {},
   "outputs": [],
   "source": [
    "num_wells_to_select = 200"
   ]
  },
  {
   "cell_type": "code",
   "execution_count": 15,
   "metadata": {},
   "outputs": [
    {
     "name": "stdout",
     "output_type": "stream",
     "text": [
      "RMSE: 37.756600350261685\n",
      "RMSE: 0.890280100102884\n",
      "RMSE: 40.14587231134218\n"
     ]
    }
   ],
   "source": [
    "y_test_0, y_pred_0 = train_and_evaluate_model(geo_0)\n",
    "y_test_1, y_pred_1 = train_and_evaluate_model(geo_1)\n",
    "y_test_2, y_pred_2 = train_and_evaluate_model(geo_2)"
   ]
  },
  {
   "cell_type": "code",
   "execution_count": 16,
   "metadata": {},
   "outputs": [],
   "source": [
    "results_0 = pd.DataFrame({'Respuestas correctas': y_test_0, 'Predicciones': y_pred_0})\n",
    "results_1 = pd.DataFrame({'Respuestas correctas': y_test_1, 'Predicciones': y_pred_1})\n",
    "results_2 = pd.DataFrame({'Respuestas correctas': y_test_2, 'Predicciones': y_pred_2})"
   ]
  },
  {
   "cell_type": "code",
   "execution_count": 17,
   "metadata": {},
   "outputs": [],
   "source": [
    "selected_wells_geo_0 = results_0.sort_values(by='Predicciones', ascending=False).head(num_wells_to_select)\n",
    "selected_wells_geo_1 = results_1.sort_values(by='Predicciones', ascending=False).head(num_wells_to_select)\n",
    "selected_wells_geo_2 = results_2.sort_values(by='Predicciones', ascending=False).head(num_wells_to_select)"
   ]
  },
  {
   "cell_type": "code",
   "execution_count": 18,
   "metadata": {},
   "outputs": [],
   "source": [
    "profit_geo_0, total_volume_geo_0 = calculate_profit(selected_wells_geo_0, unit_income, unit_cost)\n",
    "profit_geo_1, total_volume_geo_1 = calculate_profit(selected_wells_geo_1, unit_income, unit_cost)\n",
    "profit_geo_2, total_volume_geo_2 = calculate_profit(selected_wells_geo_2, unit_income, unit_cost)"
   ]
  },
  {
   "cell_type": "code",
   "execution_count": 19,
   "metadata": {},
   "outputs": [],
   "source": [
    "mean_profit_geo_0, conf_interval_geo_0, risk_of_loss_geo_0 = bootstrap_profit(selected_wells_geo_0, unit_income, unit_cost)\n",
    "mean_profit_geo_1, conf_interval_geo_1, risk_of_loss_geo_1 = bootstrap_profit(selected_wells_geo_1, unit_income, unit_cost)\n",
    "mean_profit_geo_2, conf_interval_geo_2, risk_of_loss_geo_2 = bootstrap_profit(selected_wells_geo_2, unit_income, unit_cost)"
   ]
  },
  {
   "cell_type": "code",
   "execution_count": 20,
   "metadata": {},
   "outputs": [
    {
     "name": "stdout",
     "output_type": "stream",
     "text": [
      "Geo 0:\n",
      "Profit: -66408588.85537821\n",
      "Total Volume: 29686.9802543604\n",
      "Mean Profit: -66378680.6226783\n",
      "Confidence Interval: [-69573278.43687935 -63589747.96635258]\n",
      "Risk of Loss: 1.0\n"
     ]
    }
   ],
   "source": [
    "print(\"Geo 0:\")\n",
    "print(\"Profit:\", profit_geo_0)\n",
    "print(\"Total Volume:\", total_volume_geo_0)\n",
    "print(\"Mean Profit:\", mean_profit_geo_0)\n",
    "print(\"Confidence Interval:\", conf_interval_geo_0)\n",
    "print(\"Risk of Loss:\", risk_of_loss_geo_0)"
   ]
  },
  {
   "cell_type": "code",
   "execution_count": 21,
   "metadata": {},
   "outputs": [
    {
     "name": "stdout",
     "output_type": "stream",
     "text": [
      "Geo 1:\n",
      "Profit: -75849133.03318489\n",
      "Total Volume: 27589.081548181137\n",
      "Mean Profit: -75849133.03318487\n",
      "Confidence Interval: [-75849133.03318489 -75849133.03318489]\n",
      "Risk of Loss: 1.0\n"
     ]
    }
   ],
   "source": [
    "print(\"Geo 1:\")\n",
    "print(\"Profit:\", profit_geo_1)\n",
    "print(\"Total Volume:\", total_volume_geo_1)\n",
    "print(\"Mean Profit:\", mean_profit_geo_1)\n",
    "print(\"Confidence Interval:\", conf_interval_geo_1)\n",
    "print(\"Risk of Loss:\", risk_of_loss_geo_1)"
   ]
  },
  {
   "cell_type": "code",
   "execution_count": 22,
   "metadata": {},
   "outputs": [
    {
     "name": "stdout",
     "output_type": "stream",
     "text": [
      "Geo 2:\n",
      "Profit: -74014282.40625888\n",
      "Total Volume: 27996.82613194247\n",
      "Mean Profit: -73989758.0527576\n",
      "Confidence Interval: [-77783404.05744353 -70493071.86787409]\n",
      "Risk of Loss: 1.0\n"
     ]
    }
   ],
   "source": [
    "print(\"Geo 2:\")\n",
    "print(\"Profit:\", profit_geo_2)\n",
    "print(\"Total Volume:\", total_volume_geo_2)\n",
    "print(\"Mean Profit:\", mean_profit_geo_2)\n",
    "print(\"Confidence Interval:\", conf_interval_geo_2)\n",
    "print(\"Risk of Loss:\", risk_of_loss_geo_2)"
   ]
  },
  {
   "cell_type": "markdown",
   "metadata": {},
   "source": [
    "Los resultados obtenidos sugieren la region numero 1, pues la cantidad de predicciones en el petroleo existente es mucho mayor que en los demas"
   ]
  },
  {
   "cell_type": "markdown",
   "metadata": {},
   "source": [
    "### Calcula riesgos y ganancias para cada región:"
   ]
  },
  {
   "cell_type": "markdown",
   "metadata": {},
   "source": [
    "5.1. Usa la técnica bootstrapping con 1000 muestras para encontrar la distribución del beneficio."
   ]
  },
  {
   "cell_type": "markdown",
   "metadata": {},
   "source": [
    "5.2. Encuentra el beneficio promedio, el intervalo de confianza del 95% y el riesgo de pérdidas. La pérdida es una ganancia negativa, calcúlala como una probabilidad y luego exprésala como un porcentaje."
   ]
  },
  {
   "cell_type": "markdown",
   "metadata": {},
   "source": [
    "5.3. Proporciona los hallazgos: sugiere una región para el desarrollo de pozos petroleros y justifica la elección."
   ]
  },
  {
   "cell_type": "code",
   "execution_count": 23,
   "metadata": {},
   "outputs": [],
   "source": [
    "def bootstrap_profit(selected_wells, unit_income, unit_cost, num_samples=1000):\n",
    "    profits = []\n",
    "    for _ in range(num_samples):\n",
    "        \n",
    "        sample = selected_wells.sample(n=len(selected_wells), replace=True)\n",
    "        \n",
    "        profit, _ = calculate_profit(sample, unit_income, unit_cost)\n",
    "        profits.append(profit)\n",
    "    \n",
    "    mean_profit = np.mean(profits)\n",
    "    confidence_interval = np.percentile(profits, [2.5, 97.5])\n",
    "    risk_of_loss = np.mean(np.array(profits) < 0)\n",
    "    \n",
    "    return mean_profit, confidence_interval, risk_of_loss"
   ]
  },
  {
   "cell_type": "code",
   "execution_count": 24,
   "metadata": {},
   "outputs": [],
   "source": [
    "num_wells_to_select = 200"
   ]
  },
  {
   "cell_type": "code",
   "execution_count": 25,
   "metadata": {},
   "outputs": [],
   "source": [
    "profit_geo_0, total_volume_geo_0 = calculate_profit(selected_wells_geo_0, unit_income, unit_cost)\n",
    "profit_geo_1, total_volume_geo_1 = calculate_profit(selected_wells_geo_1, unit_income, unit_cost)\n",
    "profit_geo_2, total_volume_geo_2 = calculate_profit(selected_wells_geo_2, unit_income, unit_cost)"
   ]
  },
  {
   "cell_type": "code",
   "execution_count": 26,
   "metadata": {},
   "outputs": [],
   "source": [
    "mean_profit_geo_0, conf_interval_geo_0, risk_of_loss_geo_0 = bootstrap_profit(selected_wells_geo_0, unit_income, unit_cost)\n",
    "mean_profit_geo_1, conf_interval_geo_1, risk_of_loss_geo_1 = bootstrap_profit(selected_wells_geo_1, unit_income, unit_cost)\n",
    "mean_profit_geo_2, conf_interval_geo_2, risk_of_loss_geo_2 = bootstrap_profit(selected_wells_geo_2, unit_income, unit_cost)"
   ]
  },
  {
   "cell_type": "code",
   "execution_count": 27,
   "metadata": {},
   "outputs": [],
   "source": [
    "risk_of_loss_geo_0_percentage = risk_of_loss_geo_0 * 100\n",
    "risk_of_loss_geo_1_percentage = risk_of_loss_geo_1 * 100\n",
    "risk_of_loss_geo_2_percentage = risk_of_loss_geo_2 * 100"
   ]
  },
  {
   "cell_type": "code",
   "execution_count": 28,
   "metadata": {},
   "outputs": [
    {
     "name": "stdout",
     "output_type": "stream",
     "text": [
      "Geo 0:\n",
      "Mean Profit: -66427756.072620645\n",
      "Confidence Interval: [-69418713.6266418  -63514345.85062509]\n",
      "Risk of Loss (as percentage): 100.00%\n"
     ]
    }
   ],
   "source": [
    "print(\"Geo 0:\")\n",
    "print(\"Mean Profit:\", mean_profit_geo_0)\n",
    "print(\"Confidence Interval:\", conf_interval_geo_0)\n",
    "print(\"Risk of Loss (as percentage): {:.2f}%\".format(risk_of_loss_geo_0_percentage))"
   ]
  },
  {
   "cell_type": "code",
   "execution_count": 29,
   "metadata": {},
   "outputs": [
    {
     "name": "stdout",
     "output_type": "stream",
     "text": [
      "Geo 1:\n",
      "Mean Profit: -75849133.03318487\n",
      "Confidence Interval: [-75849133.03318489 -75849133.03318489]\n",
      "Risk of Loss (as percentage): 100.00%\n"
     ]
    }
   ],
   "source": [
    "print(\"Geo 1:\")\n",
    "print(\"Mean Profit:\", mean_profit_geo_1)\n",
    "print(\"Confidence Interval:\", conf_interval_geo_1)\n",
    "print(\"Risk of Loss (as percentage): {:.2f}%\".format(risk_of_loss_geo_1_percentage))"
   ]
  },
  {
   "cell_type": "code",
   "execution_count": 30,
   "metadata": {},
   "outputs": [
    {
     "name": "stdout",
     "output_type": "stream",
     "text": [
      "Geo 2:\n",
      "Mean Profit: -74037041.81130917\n",
      "Confidence Interval: [-77758148.81380457 -70477546.52001819]\n",
      "Risk of Loss (as percentage): 100.00%\n"
     ]
    }
   ],
   "source": [
    "print(\"Geo 2:\")\n",
    "print(\"Mean Profit:\", mean_profit_geo_2)\n",
    "print(\"Confidence Interval:\", conf_interval_geo_2)\n",
    "print(\"Risk of Loss (as percentage): {:.2f}%\".format(risk_of_loss_geo_2_percentage))"
   ]
  }
 ],
 "metadata": {
  "kernelspec": {
   "display_name": "Python 3 (ipykernel)",
   "language": "python",
   "name": "python3"
  },
  "language_info": {
   "codemirror_mode": {
    "name": "ipython",
    "version": 3
   },
   "file_extension": ".py",
   "mimetype": "text/x-python",
   "name": "python",
   "nbconvert_exporter": "python",
   "pygments_lexer": "ipython3",
   "version": "3.9.5"
  },
  "toc": {
   "base_numbering": 1,
   "nav_menu": {},
   "number_sections": true,
   "sideBar": true,
   "skip_h1_title": true,
   "title_cell": "Table of Contents",
   "title_sidebar": "Contents",
   "toc_cell": false,
   "toc_position": {},
   "toc_section_display": true,
   "toc_window_display": false
  }
 },
 "nbformat": 4,
 "nbformat_minor": 2
}
